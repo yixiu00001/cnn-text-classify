{
 "cells": [
  {
   "cell_type": "code",
   "execution_count": 1,
   "metadata": {
    "collapsed": true
   },
   "outputs": [],
   "source": [
    "# -*- coding: utf8 -*-"
   ]
  },
  {
   "cell_type": "code",
   "execution_count": 2,
   "metadata": {
    "collapsed": true
   },
   "outputs": [],
   "source": [
    "from pyspark import SparkConf, SparkContext\n",
    "from pyspark.sql import SQLContext\n",
    "conf = SparkConf().setAppName(\"hospitalDisease\")\n",
    "sc = SparkContext(conf=conf)\n"
   ]
  },
  {
   "cell_type": "code",
   "execution_count": 3,
   "metadata": {
    "collapsed": true
   },
   "outputs": [],
   "source": [
    "sqlContext = SQLContext(sc)"
   ]
  },
  {
   "cell_type": "markdown",
   "metadata": {},
   "source": [
    "### load入院诊断数据 "
   ]
  },
  {
   "cell_type": "code",
   "execution_count": 15,
   "metadata": {
    "collapsed": false
   },
   "outputs": [
    {
     "name": "stderr",
     "output_type": "stream",
     "text": [
      "/opt/anaconda3/lib/python3.5/site-packages/IPython/core/interactiveshell.py:2717: DtypeWarning: Columns (2,7) have mixed types. Specify dtype option on import or set low_memory=False.\n",
      "  interactivity=interactivity, compiler=compiler, result=result)\n"
     ]
    },
    {
     "data": {
      "text/html": [
       "<div>\n",
       "<table border=\"1\" class=\"dataframe\">\n",
       "  <thead>\n",
       "    <tr style=\"text-align: right;\">\n",
       "      <th></th>\n",
       "      <th>Unnamed: 0</th>\n",
       "      <th>id</th>\n",
       "      <th>ar_id</th>\n",
       "      <th>disease_code</th>\n",
       "      <th>disease</th>\n",
       "      <th>district_code</th>\n",
       "      <th>node_code</th>\n",
       "      <th>diagnosis_date</th>\n",
       "      <th>diagnosis_type_code</th>\n",
       "      <th>diagnosis_type_name</th>\n",
       "      <th>diagnosis_basis</th>\n",
       "    </tr>\n",
       "  </thead>\n",
       "  <tbody>\n",
       "    <tr>\n",
       "      <th>0</th>\n",
       "      <td>0</td>\n",
       "      <td>37170049542543-X2016000151</td>\n",
       "      <td>37170049542543-X2016000151</td>\n",
       "      <td>NaN</td>\n",
       "      <td>肺癌</td>\n",
       "      <td>371724.0</td>\n",
       "      <td>371700</td>\n",
       "      <td>20161223</td>\n",
       "      <td>3.0</td>\n",
       "      <td>入院初步诊断</td>\n",
       "      <td>咳嗽，痰中带血16月余。左肺呼吸音低，右肺呼吸音粗，未闻及啰音。</td>\n",
       "    </tr>\n",
       "    <tr>\n",
       "      <th>1</th>\n",
       "      <td>1</td>\n",
       "      <td>240894_R04.200</td>\n",
       "      <td>240894</td>\n",
       "      <td>R04.201</td>\n",
       "      <td>咯血</td>\n",
       "      <td>3713.0</td>\n",
       "      <td>371300</td>\n",
       "      <td>20170331</td>\n",
       "      <td>3.0</td>\n",
       "      <td>NaN</td>\n",
       "      <td>1.患者孔庆忠，男，76岁。既往高血压病史。现因“反复咳嗽、间断咯血2年，加重2天”入院。　...</td>\n",
       "    </tr>\n",
       "  </tbody>\n",
       "</table>\n",
       "</div>"
      ],
      "text/plain": [
       "   Unnamed: 0                          id                       ar_id  \\\n",
       "0           0  37170049542543-X2016000151  37170049542543-X2016000151   \n",
       "1           1              240894_R04.200                      240894   \n",
       "\n",
       "  disease_code disease  district_code  node_code diagnosis_date  \\\n",
       "0          NaN      肺癌       371724.0     371700       20161223   \n",
       "1      R04.201      咯血         3713.0     371300       20170331   \n",
       "\n",
       "   diagnosis_type_code diagnosis_type_name  \\\n",
       "0                  3.0              入院初步诊断   \n",
       "1                  3.0                 NaN   \n",
       "\n",
       "                                     diagnosis_basis  \n",
       "0                   咳嗽，痰中带血16月余。左肺呼吸音低，右肺呼吸音粗，未闻及啰音。  \n",
       "1  1.患者孔庆忠，男，76岁。既往高血压病史。现因“反复咳嗽、间断咯血2年，加重2天”入院。　...  "
      ]
     },
     "execution_count": 15,
     "metadata": {},
     "output_type": "execute_result"
    }
   ],
   "source": [
    "import pandas as pd\n",
    "#829177\n",
    "diaPath = \"hospitalData/admissionDiagnosis.csv\"\n",
    "pd_dia = pd.read_csv(diaPath,  encoding='utf8').drop_duplicates()\n",
    "pd_dia.count()\n",
    "pd_dia.head(2)"
   ]
  },
  {
   "cell_type": "markdown",
   "metadata": {},
   "source": [
    "### load入院记录数据"
   ]
  },
  {
   "cell_type": "code",
   "execution_count": 17,
   "metadata": {
    "collapsed": false
   },
   "outputs": [
    {
     "name": "stderr",
     "output_type": "stream",
     "text": [
      "/opt/anaconda3/lib/python3.5/site-packages/IPython/core/interactiveshell.py:2717: DtypeWarning: Columns (2) have mixed types. Specify dtype option on import or set low_memory=False.\n",
      "  interactivity=interactivity, compiler=compiler, result=result)\n"
     ]
    }
   ],
   "source": [
    "import pandas as pd\n",
    "#pd_poc = pd.read_csv(\"datasets/hospitaldisease-201305after.csv\",  encoding='utf8').drop_duplicates()\n",
    "pd_poc = pd.read_csv(\"hospitalData/hospitaldisease-201305after_match20171129.csv\",  encoding='utf8').drop_duplicates()\n",
    "#print(pd_poc.count)"
   ]
  },
  {
   "cell_type": "code",
   "execution_count": 9,
   "metadata": {
    "collapsed": false
   },
   "outputs": [
    {
     "data": {
      "text/html": [
       "<div>\n",
       "<table border=\"1\" class=\"dataframe\">\n",
       "  <thead>\n",
       "    <tr style=\"text-align: right;\">\n",
       "      <th></th>\n",
       "      <th>NAME</th>\n",
       "      <th>ID_NUM</th>\n",
       "      <th>SEX_CODE</th>\n",
       "      <th>SEX_NAME</th>\n",
       "      <th>DISEASE_CODE</th>\n",
       "      <th>DISEASE</th>\n",
       "      <th>ADMISSION_DATE</th>\n",
       "      <th>Code</th>\n",
       "      <th>DiseaseICD10</th>\n",
       "      <th>SecondCode</th>\n",
       "      <th>SecondType</th>\n",
       "      <th>FirstCode</th>\n",
       "      <th>FirstType</th>\n",
       "    </tr>\n",
       "  </thead>\n",
       "  <tbody>\n",
       "    <tr>\n",
       "      <th>0</th>\n",
       "      <td>徐志刚</td>\n",
       "      <td>222403198304026016</td>\n",
       "      <td>1</td>\n",
       "      <td>男</td>\n",
       "      <td>T93.501</td>\n",
       "      <td>下肢肌肉损伤后遗症</td>\n",
       "      <td>20150402 13:50:02</td>\n",
       "      <td>T93.501</td>\n",
       "      <td>下肢肌肉损伤后遗症</td>\n",
       "      <td>T90-T98</td>\n",
       "      <td>损伤、中毒和外因的其他后果的后遗症</td>\n",
       "      <td>S00-T98</td>\n",
       "      <td>损伤、中毒和外因的某些其它后果</td>\n",
       "    </tr>\n",
       "    <tr>\n",
       "      <th>1</th>\n",
       "      <td>张俊哲</td>\n",
       "      <td>370123199706200034</td>\n",
       "      <td>1</td>\n",
       "      <td>男</td>\n",
       "      <td>T93.501</td>\n",
       "      <td>下肢肌肉损伤后遗症</td>\n",
       "      <td>20150701 15:08:57</td>\n",
       "      <td>T93.501</td>\n",
       "      <td>下肢肌肉损伤后遗症</td>\n",
       "      <td>T90-T98</td>\n",
       "      <td>损伤、中毒和外因的其他后果的后遗症</td>\n",
       "      <td>S00-T98</td>\n",
       "      <td>损伤、中毒和外因的某些其它后果</td>\n",
       "    </tr>\n",
       "  </tbody>\n",
       "</table>\n",
       "</div>"
      ],
      "text/plain": [
       "  NAME              ID_NUM SEX_CODE SEX_NAME DISEASE_CODE    DISEASE  \\\n",
       "0  徐志刚  222403198304026016        1        男      T93.501  下肢肌肉损伤后遗症   \n",
       "1  张俊哲  370123199706200034        1        男      T93.501  下肢肌肉损伤后遗症   \n",
       "\n",
       "      ADMISSION_DATE     Code DiseaseICD10 SecondCode         SecondType  \\\n",
       "0  20150402 13:50:02  T93.501    下肢肌肉损伤后遗症    T90-T98  损伤、中毒和外因的其他后果的后遗症   \n",
       "1  20150701 15:08:57  T93.501    下肢肌肉损伤后遗症    T90-T98  损伤、中毒和外因的其他后果的后遗症   \n",
       "\n",
       "  FirstCode        FirstType  \n",
       "0   S00-T98  损伤、中毒和外因的某些其它后果  \n",
       "1   S00-T98  损伤、中毒和外因的某些其它后果  "
      ]
     },
     "execution_count": 9,
     "metadata": {},
     "output_type": "execute_result"
    }
   ],
   "source": [
    "pd_poc.head(2)"
   ]
  },
  {
   "cell_type": "markdown",
   "metadata": {},
   "source": [
    "### load ICD-10编码标准"
   ]
  },
  {
   "cell_type": "code",
   "execution_count": 10,
   "metadata": {
    "collapsed": true
   },
   "outputs": [],
   "source": [
    "import pandas as pd\n",
    "pd_icd10 = pd.read_excel(\"./datasets/ICD-10.xlsx\", sheet_name=\"icdsecondNew\")\n",
    "pd_icd10_new = pd_icd10[[\"Code\",\"Disease\",\"SecondCode\",\"SecondType\",\"FirstCode\",\"FirstType\"]]\n",
    "pd_icd10_new = pd_icd10_new.rename(columns={'Disease': 'DiseaseICD10'})"
   ]
  },
  {
   "cell_type": "code",
   "execution_count": 19,
   "metadata": {
    "collapsed": false
   },
   "outputs": [
    {
     "name": "stdout",
     "output_type": "stream",
     "text": [
      "{'Q00-Q99', 'KOO-K93', 'G00-G99', 'H00-H59', 'U00-U99', 'V01-Y98', 'F01-F99', 'L00-L99', 'N00-N99', 'A00-B99', 'E00-E90', 'I00-I99', 'Z00-Z99', 'D50-D89', 'R00-R99', 'J00-J99', 'M00-M99', 'H60-H95', 'P00-P96', 'C00-D48', 'O00-O99', 'S00-T98'}\n"
     ]
    }
   ],
   "source": [
    "firstCodeSet = set(pd_icd10_new[\"FirstCode\"].tolist())\n",
    "print(firstCodeSet)"
   ]
  },
  {
   "cell_type": "code",
   "execution_count": 11,
   "metadata": {
    "collapsed": true
   },
   "outputs": [],
   "source": [
    "def doListFormat(diseaseList):\n",
    "    for i in range(len(diseaseList)):\n",
    "        if pd.isnull(diseaseList[i]):\n",
    "            diseaseList[i] = \"\"\n",
    "        diseaseList[i] = diseaseList[i].strip()#.encode(\"utf8\")\n",
    "    return diseaseList"
   ]
  },
  {
   "cell_type": "code",
   "execution_count": 13,
   "metadata": {
    "collapsed": true
   },
   "outputs": [],
   "source": [
    "def list2Save(disList, f):\n",
    "    disList = doListFormat(disList)\n",
    "    disLen = len(disList)\n",
    "    disNum = int(disLen/100)\n",
    "    #print(\"%d %d\" %(disLen, disNum))\n",
    "    i=0\n",
    "    for i in range(disNum):\n",
    "        tmpStr = \"\"\n",
    "        #print(disList[100*i:100*(i+1)])\n",
    "        tmpStr = \" \".join(disList[100*i:100*(i+1)])\n",
    "        f.write(tmpStr+\"\\n\")\n",
    "    tmpStr = \"\"\n",
    "    tmpStr = \" \".join(disList[100*i:disLen])\n",
    "    f.write(tmpStr+\"\\n\")\n",
    "    #f.flush()\n",
    "    #f.close()"
   ]
  },
  {
   "cell_type": "code",
   "execution_count": 24,
   "metadata": {
    "collapsed": true
   },
   "outputs": [],
   "source": [
    "from random import shuffle\n",
    "def word2vecTrainMatch2txt(f,pd_poc):\n",
    "\n",
    "    for item in firstCodeSet:\n",
    "        pd_tmp = pd_poc.where(pd_poc.FirstCode==item).dropna()\n",
    "        tmpList = pd_tmp[\"DiseaseICD10\"].tolist()\n",
    "        #print(tmpList[0:100])\n",
    "        shuffle(tmpList)\n",
    "        #print(len(tmpList))\n",
    "        #print(tmpList[0:100])\n",
    "        list2Save(tmpList,f)"
   ]
  },
  {
   "cell_type": "markdown",
   "metadata": {},
   "source": [
    "### 构造word2vec训练集合，先将同code的一级分类下的数据随机打散组合，然后随机组合成100个疾病"
   ]
  },
  {
   "cell_type": "code",
   "execution_count": 25,
   "metadata": {
    "collapsed": false
   },
   "outputs": [],
   "source": [
    "f1 = open(\"word2vecDatasets/word2vecTrain1.txt\",\"w\")\n",
    "word2vecTrainMatch2txt(f1,pd_poc)\n",
    "f1.close()\n",
    "f2 = open(\"word2vecDatasets/word2vecTrain2.txt\",\"w\")\n",
    "word2vecTrainMatch2txt(f2,pd_icd10_new)\n",
    "f2.close()"
   ]
  },
  {
   "cell_type": "code",
   "execution_count": 26,
   "metadata": {
    "collapsed": true
   },
   "outputs": [],
   "source": [
    "import re\n",
    "def doWordFormat(word):\n",
    "    #word=u\"128我(我是我）\"\n",
    "    word = word.strip()\n",
    "    word = word.replace(\"（\",\"(\")\n",
    "    word = word.replace(\"）\",\")\")\n",
    "    \n",
    "    fil0 = re.compile('\\d+.' )\n",
    "    word = fil0.sub('', word)\n",
    "    \n",
    "    fil1 = re.compile('\\((.*?)\\)' )\n",
    "    wordFilter = fil1.sub(' ',word)#.decode(\"utf8\")\n",
    "    #filtrate = re.compile('[.。、，,：:?？+\\(【】\\)!！]')#146051\n",
    "    #filtrate = re.compile('[a-z.。、，,：:?？+\\(【】\\)!！]') #146055\n",
    "    #filtrate = re.compile('[A-Z.。、，,：:?？+\\(【】\\)!！]')#150598\n",
    "    #filtrate = re.compile('[a-zA-Z.。、，,：:?？+\\(【】\\)!！]')#150834\n",
    "    #filtrate = re.compile('[0-9.。、，,：:?？+\\(【】\\)!！]')#146056\n",
    "    filtrate = re.compile('[a-zA-Z0-9.。、，,：:?？+\\(【】\\)!！]')#150892\n",
    "    #filtrate = re.compile('[a-zA-Z0-9.。、，,：:?？+\\(【】\\)!！]')#非中文\n",
    "    filtered_str = filtrate.sub(' ', wordFilter)#.decode(\"utf8\")#replace\n",
    "\n",
    "    return filtered_str.strip()"
   ]
  },
  {
   "cell_type": "code",
   "execution_count": 29,
   "metadata": {
    "collapsed": false
   },
   "outputs": [
    {
     "data": {
      "text/html": [
       "<div>\n",
       "<table border=\"1\" class=\"dataframe\">\n",
       "  <thead>\n",
       "    <tr style=\"text-align: right;\">\n",
       "      <th></th>\n",
       "      <th>NAME</th>\n",
       "      <th>ID_NUM</th>\n",
       "      <th>SEX_CODE</th>\n",
       "      <th>SEX_NAME</th>\n",
       "      <th>DISEASE_CODE</th>\n",
       "      <th>DISEASE</th>\n",
       "      <th>ADMISSION_DATE</th>\n",
       "      <th>DISEASENew</th>\n",
       "      <th>Code</th>\n",
       "      <th>DiseaseICD10</th>\n",
       "      <th>SecondCode</th>\n",
       "      <th>SecondType</th>\n",
       "      <th>FirstCode</th>\n",
       "      <th>FirstType</th>\n",
       "    </tr>\n",
       "  </thead>\n",
       "  <tbody>\n",
       "    <tr>\n",
       "      <th>0</th>\n",
       "      <td>丁万安</td>\n",
       "      <td>370102193012312913</td>\n",
       "      <td>1</td>\n",
       "      <td>男</td>\n",
       "      <td>L02.402</td>\n",
       "      <td>下肢皮肤脓肿、疖和痈</td>\n",
       "      <td>20160116 15:15:33</td>\n",
       "      <td>下肢皮肤脓肿 疖和痈</td>\n",
       "      <td>L02.402</td>\n",
       "      <td>臂脓肿</td>\n",
       "      <td>L00-L08</td>\n",
       "      <td>皮肤和皮下组织的感染</td>\n",
       "      <td>L00-L99</td>\n",
       "      <td>皮肤和皮下组织病</td>\n",
       "    </tr>\n",
       "    <tr>\n",
       "      <th>1</th>\n",
       "      <td>孟繁熹</td>\n",
       "      <td>370102194507070324</td>\n",
       "      <td>2</td>\n",
       "      <td>女</td>\n",
       "      <td>L02.402</td>\n",
       "      <td>下肢皮肤脓肿、疖和痈</td>\n",
       "      <td>20151126 09:58:49</td>\n",
       "      <td>下肢皮肤脓肿 疖和痈</td>\n",
       "      <td>L02.402</td>\n",
       "      <td>臂脓肿</td>\n",
       "      <td>L00-L08</td>\n",
       "      <td>皮肤和皮下组织的感染</td>\n",
       "      <td>L00-L99</td>\n",
       "      <td>皮肤和皮下组织病</td>\n",
       "    </tr>\n",
       "  </tbody>\n",
       "</table>\n",
       "</div>"
      ],
      "text/plain": [
       "  NAME              ID_NUM SEX_CODE SEX_NAME DISEASE_CODE     DISEASE  \\\n",
       "0  丁万安  370102193012312913        1        男      L02.402  下肢皮肤脓肿、疖和痈   \n",
       "1  孟繁熹  370102194507070324        2        女      L02.402  下肢皮肤脓肿、疖和痈   \n",
       "\n",
       "      ADMISSION_DATE  DISEASENew     Code DiseaseICD10 SecondCode  SecondType  \\\n",
       "0  20160116 15:15:33  下肢皮肤脓肿 疖和痈  L02.402          臂脓肿    L00-L08  皮肤和皮下组织的感染   \n",
       "1  20151126 09:58:49  下肢皮肤脓肿 疖和痈  L02.402          臂脓肿    L00-L08  皮肤和皮下组织的感染   \n",
       "\n",
       "  FirstCode FirstType  \n",
       "0   L00-L99  皮肤和皮下组织病  \n",
       "1   L00-L99  皮肤和皮下组织病  "
      ]
     },
     "execution_count": 29,
     "metadata": {},
     "output_type": "execute_result"
    }
   ],
   "source": [
    "pd_pocNo = pd.read_csv(\"hospitalData/hospitaldisease-201305after_nomatch20171129.csv\",  encoding='utf8').drop_duplicates()\n",
    "pd_pocNo[\"DISEASENew\"] = pd_pocNo[\"DISEASE\"].apply(doWordFormat)\n",
    "\n",
    "pd_pocNoJoin = pd.merge(pd_pocNo,pd_icd10_new,left_on='DISEASE_CODE',right_on='Code')\n",
    "pd_pocNoJoin.head(2)"
   ]
  },
  {
   "cell_type": "markdown",
   "metadata": {},
   "source": [
    "### 不匹配的数据，先按照code一致的组合，然后将所有的随机组合"
   ]
  },
  {
   "cell_type": "code",
   "execution_count": 31,
   "metadata": {
    "collapsed": false
   },
   "outputs": [
    {
     "name": "stdout",
     "output_type": "stream",
     "text": [
      "1535126\n"
     ]
    }
   ],
   "source": [
    "\n",
    "def word2vecTrainNoMatchtxt(f,pd_poc):\n",
    "    \n",
    "    for item in firstCodeSet:\n",
    "        #print(item)\n",
    "        pd_tmp = pd_poc.where(pd_poc.FirstCode==item).dropna()\n",
    "        tmpList = pd_tmp[\"DISEASENew\"].tolist()\n",
    "        shuffle(tmpList)\n",
    "        #print(len(tmpList))\n",
    "        #print(tmpList[0:100])\n",
    "        list2Save(tmpList,f)\n",
    "f1 = open(\"word2vecDatasets/word2vecTrain3.txt\",\"w\")\n",
    "word2vecTrainNoMatchtxt(f1,pd_pocNoJoin)\n",
    "f1.close()\n",
    "def word2vecTrainNoMatch2txt(f,pd_poc):\n",
    "    tmpList = pd_poc[\"DISEASENew\"].tolist()\n",
    "    #print(tmpList[0:100])\n",
    "    shuffle(tmpList)\n",
    "    print(len(tmpList))\n",
    "    list2Save(tmpList,f)\n",
    "f2 = open(\"word2vecDatasets/word2vecTrain4.txt\",\"w\")\n",
    "word2vecTrainNoMatch2txt(f2,pd_pocNo)\n",
    "f2.close()"
   ]
  },
  {
   "cell_type": "code",
   "execution_count": null,
   "metadata": {
    "collapsed": true
   },
   "outputs": [],
   "source": []
  }
 ],
 "metadata": {
  "kernelspec": {
   "display_name": "Python [default]",
   "language": "python",
   "name": "python3"
  },
  "language_info": {
   "codemirror_mode": {
    "name": "ipython",
    "version": 3
   },
   "file_extension": ".py",
   "mimetype": "text/x-python",
   "name": "python",
   "nbconvert_exporter": "python",
   "pygments_lexer": "ipython3",
   "version": "3.5.2"
  }
 },
 "nbformat": 4,
 "nbformat_minor": 1
}
