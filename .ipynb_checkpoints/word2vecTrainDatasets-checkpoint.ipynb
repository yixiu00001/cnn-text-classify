{
 "cells": [
  {
   "cell_type": "code",
   "execution_count": 1,
   "metadata": {
    "collapsed": true
   },
   "outputs": [],
   "source": [
    "# -*- coding: utf8 -*-"
   ]
  },
  {
   "cell_type": "code",
   "execution_count": 2,
   "metadata": {
    "collapsed": true
   },
   "outputs": [],
   "source": [
    "from pyspark import SparkConf, SparkContext\n",
    "from pyspark.sql import SQLContext\n",
    "conf = SparkConf().setAppName(\"hospitalDisease\")\n",
    "sc = SparkContext(conf=conf)\n"
   ]
  },
  {
   "cell_type": "code",
   "execution_count": 3,
   "metadata": {
    "collapsed": true
   },
   "outputs": [],
   "source": [
    "sqlContext = SQLContext(sc)"
   ]
  },
  {
   "cell_type": "markdown",
   "metadata": {},
   "source": [
    "### load入院诊断数据 "
   ]
  },
  {
   "cell_type": "code",
   "execution_count": 5,
   "metadata": {
    "collapsed": false
   },
   "outputs": [
    {
     "name": "stderr",
     "output_type": "stream",
     "text": [
      "/opt/anaconda3/lib/python3.5/site-packages/IPython/core/interactiveshell.py:2717: DtypeWarning: Columns (2,7) have mixed types. Specify dtype option on import or set low_memory=False.\n",
      "  interactivity=interactivity, compiler=compiler, result=result)\n"
     ]
    },
    {
     "data": {
      "text/plain": [
       "Unnamed: 0             342352\n",
       "id                     342352\n",
       "ar_id                  342352\n",
       "disease_code           180739\n",
       "disease                323129\n",
       "district_code          342049\n",
       "node_code              342352\n",
       "diagnosis_date         180745\n",
       "diagnosis_type_code    180745\n",
       "diagnosis_type_name    118536\n",
       "diagnosis_basis        342352\n",
       "dtype: int64"
      ]
     },
     "execution_count": 5,
     "metadata": {},
     "output_type": "execute_result"
    }
   ],
   "source": [
    "import pandas as pd\n",
    "#829177\n",
    "diaPath = \"hospitalData/admissionDiagnosis.csv\"\n",
    "pd_dia = pd.read_csv(diaPath,  encoding='utf8').drop_duplicates()\n",
    "pd_dia.count()"
   ]
  },
  {
   "cell_type": "markdown",
   "metadata": {},
   "source": [
    "### load入院记录数据"
   ]
  },
  {
   "cell_type": "code",
   "execution_count": 8,
   "metadata": {
    "collapsed": false
   },
   "outputs": [
    {
     "name": "stderr",
     "output_type": "stream",
     "text": [
      "/opt/anaconda3/lib/python3.5/site-packages/IPython/core/interactiveshell.py:2717: DtypeWarning: Columns (2) have mixed types. Specify dtype option on import or set low_memory=False.\n",
      "  interactivity=interactivity, compiler=compiler, result=result)\n"
     ]
    }
   ],
   "source": [
    "import pandas as pd\n",
    "#pd_poc = pd.read_csv(\"datasets/hospitaldisease-201305after.csv\",  encoding='utf8').drop_duplicates()\n",
    "pd_poc = pd.read_csv(\"hospitalData/hospitaldisease-201305after_match20171129.csv\",  encoding='utf8').drop_duplicates()"
   ]
  },
  {
   "cell_type": "code",
   "execution_count": 9,
   "metadata": {
    "collapsed": false
   },
   "outputs": [
    {
     "data": {
      "text/html": [
       "<div>\n",
       "<table border=\"1\" class=\"dataframe\">\n",
       "  <thead>\n",
       "    <tr style=\"text-align: right;\">\n",
       "      <th></th>\n",
       "      <th>NAME</th>\n",
       "      <th>ID_NUM</th>\n",
       "      <th>SEX_CODE</th>\n",
       "      <th>SEX_NAME</th>\n",
       "      <th>DISEASE_CODE</th>\n",
       "      <th>DISEASE</th>\n",
       "      <th>ADMISSION_DATE</th>\n",
       "      <th>Code</th>\n",
       "      <th>DiseaseICD10</th>\n",
       "      <th>SecondCode</th>\n",
       "      <th>SecondType</th>\n",
       "      <th>FirstCode</th>\n",
       "      <th>FirstType</th>\n",
       "    </tr>\n",
       "  </thead>\n",
       "  <tbody>\n",
       "    <tr>\n",
       "      <th>0</th>\n",
       "      <td>徐志刚</td>\n",
       "      <td>222403198304026016</td>\n",
       "      <td>1</td>\n",
       "      <td>男</td>\n",
       "      <td>T93.501</td>\n",
       "      <td>下肢肌肉损伤后遗症</td>\n",
       "      <td>20150402 13:50:02</td>\n",
       "      <td>T93.501</td>\n",
       "      <td>下肢肌肉损伤后遗症</td>\n",
       "      <td>T90-T98</td>\n",
       "      <td>损伤、中毒和外因的其他后果的后遗症</td>\n",
       "      <td>S00-T98</td>\n",
       "      <td>损伤、中毒和外因的某些其它后果</td>\n",
       "    </tr>\n",
       "    <tr>\n",
       "      <th>1</th>\n",
       "      <td>张俊哲</td>\n",
       "      <td>370123199706200034</td>\n",
       "      <td>1</td>\n",
       "      <td>男</td>\n",
       "      <td>T93.501</td>\n",
       "      <td>下肢肌肉损伤后遗症</td>\n",
       "      <td>20150701 15:08:57</td>\n",
       "      <td>T93.501</td>\n",
       "      <td>下肢肌肉损伤后遗症</td>\n",
       "      <td>T90-T98</td>\n",
       "      <td>损伤、中毒和外因的其他后果的后遗症</td>\n",
       "      <td>S00-T98</td>\n",
       "      <td>损伤、中毒和外因的某些其它后果</td>\n",
       "    </tr>\n",
       "  </tbody>\n",
       "</table>\n",
       "</div>"
      ],
      "text/plain": [
       "  NAME              ID_NUM SEX_CODE SEX_NAME DISEASE_CODE    DISEASE  \\\n",
       "0  徐志刚  222403198304026016        1        男      T93.501  下肢肌肉损伤后遗症   \n",
       "1  张俊哲  370123199706200034        1        男      T93.501  下肢肌肉损伤后遗症   \n",
       "\n",
       "      ADMISSION_DATE     Code DiseaseICD10 SecondCode         SecondType  \\\n",
       "0  20150402 13:50:02  T93.501    下肢肌肉损伤后遗症    T90-T98  损伤、中毒和外因的其他后果的后遗症   \n",
       "1  20150701 15:08:57  T93.501    下肢肌肉损伤后遗症    T90-T98  损伤、中毒和外因的其他后果的后遗症   \n",
       "\n",
       "  FirstCode        FirstType  \n",
       "0   S00-T98  损伤、中毒和外因的某些其它后果  \n",
       "1   S00-T98  损伤、中毒和外因的某些其它后果  "
      ]
     },
     "execution_count": 9,
     "metadata": {},
     "output_type": "execute_result"
    }
   ],
   "source": [
    "pd_poc.head(2)"
   ]
  },
  {
   "cell_type": "markdown",
   "metadata": {},
   "source": [
    "### load ICD-10编码标准"
   ]
  },
  {
   "cell_type": "code",
   "execution_count": 10,
   "metadata": {
    "collapsed": true
   },
   "outputs": [],
   "source": [
    "import pandas as pd\n",
    "pd_icd10 = pd.read_excel(\"./datasets/ICD-10.xlsx\", sheet_name=\"icdsecondNew\")\n",
    "pd_icd10_new = pd_icd10[[\"Code\",\"Disease\",\"SecondCode\",\"SecondType\",\"FirstCode\",\"FirstType\"]]\n",
    "pd_icd10_new = pd_icd10_new.rename(columns={'Disease': 'DiseaseICD10'})"
   ]
  },
  {
   "cell_type": "code",
   "execution_count": 11,
   "metadata": {
    "collapsed": true
   },
   "outputs": [],
   "source": [
    "def doListFormat(diseaseList):\n",
    "    for i in range(len(diseaseList)):\n",
    "        if pd.isnull(diseaseList[i]):\n",
    "            diseaseList[i] = \"\"\n",
    "        diseaseList[i] = diseaseList[i].strip()#.encode(\"utf8\")\n",
    "    return diseaseList"
   ]
  },
  {
   "cell_type": "code",
   "execution_count": 13,
   "metadata": {
    "collapsed": true
   },
   "outputs": [],
   "source": [
    "def list2Save(disList, f):\n",
    "    disList = doListFormat(disList)\n",
    "    disLen = len(disList)\n",
    "    disNum = int(disLen/100)\n",
    "    #print(\"%d %d\" %(disLen, disNum))\n",
    "    i=0\n",
    "    for i in range(disNum):\n",
    "        tmpStr = \"\"\n",
    "        #print(disList[100*i:100*(i+1)])\n",
    "        tmpStr = \" \".join(disList[100*i:100*(i+1)])\n",
    "        f.write(tmpStr+\"\\n\")\n",
    "    tmpStr = \"\"\n",
    "    tmpStr = \" \".join(disList[100*i:disLen])\n",
    "    f.write(tmpStr+\"\\n\")\n",
    "    #f.flush()\n",
    "    #f.close()"
   ]
  },
  {
   "cell_type": "code",
   "execution_count": null,
   "metadata": {
    "collapsed": true
   },
   "outputs": [],
   "source": []
  }
 ],
 "metadata": {
  "kernelspec": {
   "display_name": "Python [default]",
   "language": "python",
   "name": "python3"
  },
  "language_info": {
   "codemirror_mode": {
    "name": "ipython",
    "version": 3
   },
   "file_extension": ".py",
   "mimetype": "text/x-python",
   "name": "python",
   "nbconvert_exporter": "python",
   "pygments_lexer": "ipython3",
   "version": "3.5.2"
  }
 },
 "nbformat": 4,
 "nbformat_minor": 1
}
