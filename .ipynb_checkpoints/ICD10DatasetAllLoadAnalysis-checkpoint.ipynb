{
 "cells": [
  {
   "cell_type": "code",
   "execution_count": 1,
   "metadata": {
    "collapsed": true
   },
   "outputs": [],
   "source": [
    "# -*- coding: utf8 -*-"
   ]
  },
  {
   "cell_type": "code",
   "execution_count": 2,
   "metadata": {
    "collapsed": false
   },
   "outputs": [],
   "source": [
    "from pyspark import SparkConf, SparkContext\n",
    "from pyspark.sql import SQLContext\n",
    "conf = SparkConf().setAppName(\"hospitalDiseaseAll\")\n",
    "sc = SparkContext(conf=conf)"
   ]
  },
  {
   "cell_type": "code",
   "execution_count": 3,
   "metadata": {
    "collapsed": true
   },
   "outputs": [],
   "source": [
    "sqlContext = SQLContext(sc)"
   ]
  },
  {
   "cell_type": "markdown",
   "metadata": {},
   "source": [
    "#### mode: determines the parsing mode. By default it is PERMISSIVE. Possible values are:\n",
    "PERMISSIVE: tries to parse all lines: nulls are inserted for missing tokens and extra tokens are ignored.DROPMALFORMED: drops lines which have fewer or more tokens than expected or tokens which do not match the schema FAILFAST: aborts with a RuntimeException if encounters any malformed line   charset: defaults to 'UTF-8' but can be set to other valid charset names"
   ]
  },
  {
   "cell_type": "markdown",
   "metadata": {},
   "source": [
    "# 加载入院诊断数据，入院记录数据和出院记录数据，最终产出包含入院诊断疾病、主述、个人史、入院情况、诊疗过程、出院情况和出院医嘱字段"
   ]
  },
  {
   "cell_type": "markdown",
   "metadata": {},
   "source": [
    "### 入院诊断"
   ]
  },
  {
   "cell_type": "code",
   "execution_count": 17,
   "metadata": {
    "collapsed": false
   },
   "outputs": [
    {
     "name": "stdout",
     "output_type": "stream",
     "text": [
      "AdmissionDiagnosisInfo counts: 25619333\n",
      "+------------+--------------------+------------+-------+-------------+---------+--------------+\n",
      "|          id|               ar_id|disease_code|disease|district_code|node_code|diagnosis_date|\n",
      "+------------+--------------------+------------+-------+-------------+---------+--------------+\n",
      "|371700448475|371700494412266_0...|        NULL|   NULL|       371702|   371700|          NULL|\n",
      "|371700451327|371700494412266_0...|        NULL|   NULL|       371702|   371700|          NULL|\n",
      "+------------+--------------------+------------+-------+-------------+---------+--------------+\n",
      "only showing top 2 rows\n",
      "\n"
     ]
    }
   ],
   "source": [
    "df_admissionDiagnosisInfo = sqlContext.read.format(\"com.databricks.spark.csv\")\\\n",
    "    .option(\"header\", \"true\")\\\n",
    "    .option(\"inferschema\", \"true\")\\\n",
    "    .option(\"mode\", \"DROPMALFORMED\")\\\n",
    "    .load(\"/data/icd10-2/admissionDiagnosisInfo.csv\")\n",
    "df_admissionDiagnosisInfo_count = df_admissionDiagnosisInfo.count()\n",
    "#25619333\n",
    "print(\"AdmissionDiagnosisInfo counts:\",df_admissionDiagnosisInfo_count)\n",
    "df_admissionDiagnosisInfo.show(2)"
   ]
  },
  {
   "cell_type": "markdown",
   "metadata": {},
   "source": [
    "### 入院诊断去空值"
   ]
  },
  {
   "cell_type": "code",
   "execution_count": 18,
   "metadata": {
    "collapsed": false
   },
   "outputs": [
    {
     "name": "stdout",
     "output_type": "stream",
     "text": [
      "Remove duplicates counts: 19565743\n",
      "Remove NULL counts: 16885635\n",
      "Diagnosis_date and ar_id is not null counts: 12132532\n"
     ]
    }
   ],
   "source": [
    "df_admissionDiagnosisInfo_ = df_admissionDiagnosisInfo.dropDuplicates()\n",
    "#19565743\n",
    "df_admissionDiagnosisInfo_count_ = df_admissionDiagnosisInfo_.count()\n",
    "print(\"Remove duplicates counts:\",df_admissionDiagnosisInfo_count_)\n",
    "#16885635\n",
    "df_admissionDiagnosisInfo_ = df_admissionDiagnosisInfo_.filter((df_admissionDiagnosisInfo.disease!=\"NULL\") &(df_admissionDiagnosisInfo.disease.isNotNull())).dropDuplicates()\n",
    "print(\"Remove NULL counts:\",df_admissionDiagnosisInfo_.count())\n",
    "#12132532\n",
    "df_admissionDiagnosisInfo__ = df_admissionDiagnosisInfo_.filter((df_admissionDiagnosisInfo_.diagnosis_date !=\"NULL\")&(df_admissionDiagnosisInfo_.ar_id!=\"NULL\"))\n",
    "print(\"Diagnosis_date and ar_id is not null counts:\",df_admissionDiagnosisInfo__.count())"
   ]
  },
  {
   "cell_type": "code",
   "execution_count": 19,
   "metadata": {
    "collapsed": false
   },
   "outputs": [
    {
     "name": "stdout",
     "output_type": "stream",
     "text": [
      "+-------------+------+\n",
      "|district_code| count|\n",
      "+-------------+------+\n",
      "|       371102| 82007|\n",
      "|       251800| 22086|\n",
      "|       371402| 17449|\n",
      "|       370883|  3325|\n",
      "|       370705| 66813|\n",
      "|       371603|618075|\n",
      "|       370832|   628|\n",
      "|       371727|  3806|\n",
      "|       371312|   140|\n",
      "|       371326|    17|\n",
      "+-------------+------+\n",
      "only showing top 10 rows\n",
      "\n"
     ]
    }
   ],
   "source": [
    "df_admissionDiagnosisInfo__.groupby(\"district_code\").count().show(10)"
   ]
  },
  {
   "cell_type": "markdown",
   "metadata": {},
   "source": [
    "### 入院记录"
   ]
  },
  {
   "cell_type": "code",
   "execution_count": 4,
   "metadata": {
    "collapsed": false,
    "scrolled": true
   },
   "outputs": [
    {
     "name": "stdout",
     "output_type": "stream",
     "text": [
      "AdmissionRecordInfo counts: 7773236\n",
      "+--------------------+-------------+----+---------+----------------+--------------------+------------+---------------------+---------------------+------------------+--------+--------+---------+-------------+------------+--------------+-------------+---------+\n",
      "|                  id|admission_num|name|born_date| chief_complaint|     present_illness|past_history|attending_doctor_code|attending_doctor_name|            id_num|sex_code|sex_name| org_code|     org_name|admission_id|admission_date|district_code|node_code|\n",
      "+--------------------+-------------+----+---------+----------------+--------------------+------------+---------------------+---------------------+------------------+--------+--------+---------+-------------+------------+--------------+-------------+---------+\n",
      "|37170049543012421...|      1719554| 谭王氏|     NULL|     发现下腹部包块半月余。|患者绝经30+年，期间无阴道流血及...|        NULL|                 NULL|                  李素真|372928194503017963|       2|       女|495430124|      郓城县人民医院|      211851|      20170722|       371725|   371700|\n",
      "|        371700125181|       125181| 杨燕菊|   203月 8|          足妊途中分娩|末次月经:2016年07月02日阳...|        NULL|                 0093|                   孙涛|372929198003206949|       2|       女|495435021|山东省菏泽市鄄城县人民医院|      125181|      20170403|       371726|   371700|\n",
      "|371700495440410_r...|     17004840| 张祖正| 20161013|            NULL|                NULL|        NULL|                 NULL|                 NULL|371728201610132554|       1|       男|495440410|     东明县妇幼保健院|    17004840|      2017-06-|       371728|   371700|\n",
      "|37170049542543-X2...|    201706339| 董法进| 19500305|            NULL|                NULL|        NULL|                 7030|                  郭平曲|372926195003051112|       1|       男|49542543X| 山东省菏泽市巨野县中医院|   201706339|      20170622|       371724|   371700|\n",
      "|        371700133616|       133616| 刘玉娥|   2812月5|突发心慌伴胸闷1天，加重2小时。|患者于1天前无明显诱因出现胸闷、气...|        NULL|                 0012|                  张国庆|372929195112282429|       2|       女|495435021|山东省菏泽市鄄城县人民医院|      133616|      20170704|       371726|   371700|\n",
      "+--------------------+-------------+----+---------+----------------+--------------------+------------+---------------------+---------------------+------------------+--------+--------+---------+-------------+------------+--------------+-------------+---------+\n",
      "only showing top 5 rows\n",
      "\n"
     ]
    }
   ],
   "source": [
    "#7773236\n",
    "df_admissionRecordInfo = sqlContext.read.format(\"com.databricks.spark.csv\")\\\n",
    "    .option(\"header\", \"true\")\\\n",
    "    .option(\"inferschema\", \"true\")\\\n",
    "    .option(\"mode\", \"DROPMALFORMED\")\\\n",
    "    .load(\"/data/icd10-2/admissionRecordInfo-1214.csv\")\n",
    "df_admissionRecordInfo_count = df_admissionRecordInfo.count()\n",
    "print(\"AdmissionRecordInfo counts:\",df_admissionRecordInfo_count)\n",
    "df_admissionRecordInfo.show(5)"
   ]
  },
  {
   "cell_type": "code",
   "execution_count": 13,
   "metadata": {
    "collapsed": false
   },
   "outputs": [],
   "source": [
    "countData = df_admissionRecordInfo.groupby(\"org_name\").count().sort(\"count\", ascending =False)"
   ]
  },
  {
   "cell_type": "code",
   "execution_count": 15,
   "metadata": {
    "collapsed": false
   },
   "outputs": [
    {
     "name": "stdout",
     "output_type": "stream",
     "text": [
      "+-----------+-------+\n",
      "|   org_name|  count|\n",
      "+-----------+-------+\n",
      "|山东中医药大学附属医院|2095191|\n",
      "|   济南市妇幼保健院| 387374|\n",
      "|  济南市第五人民医院| 375297|\n",
      "| 山东省五莲县人民医院| 350503|\n",
      "|    日照市人民医院| 326960|\n",
      "|  济南市第四人民医院| 318791|\n",
      "|  济宁医学院附属医院| 302087|\n",
      "|     山东省立医院| 253427|\n",
      "|    临沂市人民医院| 250374|\n",
      "|滨州医学院烟台附属医院| 222604|\n",
      "+-----------+-------+\n",
      "only showing top 10 rows\n",
      "\n"
     ]
    }
   ],
   "source": [
    "countData.show(10)"
   ]
  },
  {
   "cell_type": "markdown",
   "metadata": {},
   "source": [
    "### 入院记录去重复"
   ]
  },
  {
   "cell_type": "code",
   "execution_count": 5,
   "metadata": {
    "collapsed": false
   },
   "outputs": [
    {
     "name": "stdout",
     "output_type": "stream",
     "text": [
      "AdmissionRecordInfo remove duplicates counts: 6148683\n"
     ]
    }
   ],
   "source": [
    "#6148683\n",
    "df_admissionRecordInfo_ = df_admissionRecordInfo.dropDuplicates()\n",
    "df_admissionRecordInfo_count = df_admissionRecordInfo_.count()\n",
    "print(\"AdmissionRecordInfo remove duplicates counts:\",df_admissionRecordInfo_count)"
   ]
  },
  {
   "cell_type": "markdown",
   "metadata": {},
   "source": [
    "## 入院记录和入院诊断组合 "
   ]
  },
  {
   "cell_type": "code",
   "execution_count": 24,
   "metadata": {
    "collapsed": false
   },
   "outputs": [
    {
     "data": {
      "text/plain": [
       "4221929"
      ]
     },
     "execution_count": 24,
     "metadata": {},
     "output_type": "execute_result"
    }
   ],
   "source": [
    "hos_in = df_admissionRecordInfo_.join(df_admissionDiagnosisInfo__,(df_admissionDiagnosisInfo__[\"ar_id\"]== df_admissionRecordInfo_[\"id\"] )& \\\n",
    "                                    (df_admissionDiagnosisInfo__[\"diagnosis_date\"]== df_admissionRecordInfo_[\"admission_date\"]))\n",
    "hos_in.count()"
   ]
  },
  {
   "cell_type": "code",
   "execution_count": 25,
   "metadata": {
    "collapsed": false
   },
   "outputs": [
    {
     "name": "stdout",
     "output_type": "stream",
     "text": [
      "+----------------+-------------+----+---------+---------------+---------------+------------+---------------------+---------------------+------------------+--------+--------+---------+-----------+------------+--------------+-------------+---------+-------------------+----------------+------------+--------+-------------+----------+--------------+\n",
      "|              id|admission_num|name|born_date|chief_complaint|present_illness|past_history|attending_doctor_code|attending_doctor_name|            id_num|sex_code|sex_name| org_code|   org_name|admission_id|admission_date|district_code|node_code|                 id|           ar_id|disease_code| disease|district_code| node_code|diagnosis_date|\n",
      "+----------------+-------------+----+---------+---------------+---------------+------------+---------------------+---------------------+------------------+--------+--------+---------+-----------+------------+--------------+-------------+---------+-------------------+----------------+------------+--------+-------------+----------+--------------+\n",
      "|08718416-3265360|     21400079| 矫海军| 19791111|           NULL|           NULL|        NULL|                  201|                  牟海波|370612197911110037|       1|       男|087184163|滨州医学院烟台附属医院|      265360|      20140101|       371102|087184163|08718416-3605416202|08718416-3265360|       14355|跟骨骨折，闭合性|           牟平| 087184163|      20140101|\n",
      "|08718416-3265360|     21400079| 矫海军| 19791111|           NULL|           NULL|        NULL|                  201|                  牟海波|370612197911110037|       1|       男|087184163|滨州医学院烟台附属医院|      265360|      20140101|       371102|087184163|08718416-3581379092|08718416-3265360|       14355|跟骨骨折，闭合性|           牟平|08718416-3|      20140101|\n",
      "|08718416-3265992|     21400652| 张文国| 19610416|           NULL|           NULL|        NULL|                  187|                  安郁利|370631196104166514|       1|       男|087184163|滨州医学院烟台附属医院|      265992|      20140107|       371102|087184163|08718416-3581388289|08718416-3265992|        NULL|    胃癌术后|           牟平|08718416-3|      20140107|\n",
      "|08718416-3265992|     21400652| 张文国| 19610416|           NULL|           NULL|        NULL|                  187|                  安郁利|370631196104166514|       1|       男|087184163|滨州医学院烟台附属医院|      265992|      20140107|       371102|087184163|08718416-3605417763|08718416-3265992|        NULL|    胃癌术后|           牟平| 087184163|      20140107|\n",
      "|08718416-3268897|     21403271| 王远波| 19730421|           NULL|           NULL|        NULL|                 8373|                  金勇君|370612197304212517|       1|       男|087184163|滨州医学院烟台附属医院|      268897|      20140207|       371102|087184163|08718416-3581384842|08718416-3268897|       25339|   2型糖尿病|           牟平|08718416-3|      20140207|\n",
      "+----------------+-------------+----+---------+---------------+---------------+------------+---------------------+---------------------+------------------+--------+--------+---------+-----------+------------+--------------+-------------+---------+-------------------+----------------+------------+--------+-------------+----------+--------------+\n",
      "only showing top 5 rows\n",
      "\n"
     ]
    }
   ],
   "source": [
    "hos_in.show(5)"
   ]
  },
  {
   "cell_type": "markdown",
   "metadata": {},
   "source": [
    "### 出院记录"
   ]
  },
  {
   "cell_type": "code",
   "execution_count": 9,
   "metadata": {
    "collapsed": false
   },
   "outputs": [
    {
     "name": "stdout",
     "output_type": "stream",
     "text": [
      "DischargeRecordInfo counts: 10457182\n",
      "+-------------------+-----------------+------------------+--------------+--------------+-------------------+-------------+-------------------+---------------+-----------+-----------+-------------+---------+---------+-------------+--------------+------------+\n",
      "|                 id|             name|            id_num|admission_date|discharge_date|admission_situation|treat_process|discharge_situation|discharge_order|doctor_code|doctor_name|district_code|node_code|    ar_id|admission_num|discharge_time|admission_id|\n",
      "+-------------------+-----------------+------------------+--------------+--------------+-------------------+-------------+-------------------+---------------+-----------+-----------+-------------+---------+---------+-------------+--------------+------------+\n",
      "|49300057-7005164641|彭洪彩              |371327198703162725|      20170411|      20170413|               NULL|         NULL|               NULL|           NULL|       2030|        韩万凤|       370103|   370100|005164641|     00516464|          NULL|   005164641|\n",
      "|49300057-7004710241|蔚燕灵              |370830198810285266|      20160722|      20160725|               NULL|         NULL|               NULL|           NULL|       2011|        刘典芳|       370103|   370100|004710241|     00471024|          NULL|   004710241|\n",
      "+-------------------+-----------------+------------------+--------------+--------------+-------------------+-------------+-------------------+---------------+-----------+-----------+-------------+---------+---------+-------------+--------------+------------+\n",
      "only showing top 2 rows\n",
      "\n"
     ]
    }
   ],
   "source": [
    "df_dischargeRecordInfo = sqlContext.read.format(\"com.databricks.spark.csv\")\\\n",
    "    .option(\"header\", \"true\")\\\n",
    "    .option(\"inferschema\", \"true\")\\\n",
    "    .option(\"mode\", \"DROPMALFORMED\")\\\n",
    "    .load(\"/data/icd10-2/dischargeRecordInfo-1214.csv\")\n",
    "    #10457182\n",
    "df_dischargeRecordInfo_count = df_dischargeRecordInfo.count()\n",
    "print(\"DischargeRecordInfo counts:\",df_dischargeRecordInfo_count)\n",
    "df_dischargeRecordInfo.show(2)\n"
   ]
  },
  {
   "cell_type": "markdown",
   "metadata": {},
   "source": [
    "### 出院记录去重去除无意义字符之后，剩余数据量985432"
   ]
  },
  {
   "cell_type": "code",
   "execution_count": null,
   "metadata": {
    "collapsed": true
   },
   "outputs": [],
   "source": [
    "df_dischargeRecordInfo_ = df_dischargeRecordInfo.dropDuplicates()\n",
    "#8891398\n",
    "df_dischargeRecordInfo_count_= df_dischargeRecordInfo_.count()\n",
    "print(\"DischargeRecordInfo remove duplicates counts:\",df_dischargeRecordInfo_count_)\n",
    "\n",
    "#1706249去除字段为无效含义的数据\n",
    "df_dischargeRecordInfo__1= df_dischargeRecordInfo_.filter( \\\n",
    "    ((df_dischargeRecordInfo_.admission_situation !=\"NULL\")&(df_dischargeRecordInfo_.admission_situation !=\"-\")& \\\n",
    "     (df_dischargeRecordInfo_.admission_situation !=\"不详\")&(df_dischargeRecordInfo_.admission_situation !=\"未书写诊疗经过\" ))\\\n",
    "    )\n",
    "df_dischargeRecordInfo__1 = df_dischargeRecordInfo__1.dropDuplicates()\n",
    "#985432\n",
    "print(\"DischargeRecordInfo remove meaningless counts:\",df_dischargeRecordInfo__1.count())\n",
    "#过滤出不为空的值\n",
    "df_dischargeRecordInfo__1 = df_dischargeRecordInfo__1.filter((df_dischargeRecordInfo__1.admission_situation.isNotNull())&(df_dischargeRecordInfo__1.admission_situation!=\"\") &(df_dischargeRecordInfo__1.admission_situation!=\" \"))\n",
    "df_dischargeRecordInfo__1 = df_dischargeRecordInfo__1.dropDuplicates()\n",
    "#983547\n",
    "print(\"DischargeRecordInfo remove NULL counts\",df_dischargeRecordInfo__1.count())"
   ]
  },
  {
   "cell_type": "code",
   "execution_count": 10,
   "metadata": {
    "collapsed": false
   },
   "outputs": [
    {
     "name": "stdout",
     "output_type": "stream",
     "text": [
      "DischargeRecordInfo remove duplicates counts: 8891398\n",
      "DischargeRecordInfo remove meaningless counts: 985432\n",
      "DischargeRecordInfo remove NULL counts 983547\n"
     ]
    }
   ],
   "source": [
    "df_dischargeRecordInfo_ = df_dischargeRecordInfo.dropDuplicates()\n",
    "#8891398\n",
    "df_dischargeRecordInfo_count_ = df_dischargeRecordInfo_.count()\n",
    "print(\"DischargeRecordInfo remove duplicates counts:\",df_dischargeRecordInfo_count_)\n",
    "\n",
    "#1706249去除字段为无效含义的数据\n",
    "df_dischargeRecordInfo__ = df_dischargeRecordInfo_.filter( \\\n",
    "    ((df_dischargeRecordInfo_.admission_situation !=\"NULL\")&(df_dischargeRecordInfo_.treat_process !=\"-\" )&\\\n",
    "    (df_dischargeRecordInfo_.treat_process !=\"不详\" )&(df_dischargeRecordInfo_.treat_process !=\"未书写入院情况\" ))\\\n",
    "    |\\\n",
    "    ( (df_dischargeRecordInfo_.treat_process !=\"NULL\")&(df_dischargeRecordInfo_.admission_situation !=\"-\")& \\\n",
    "     (df_dischargeRecordInfo_.admission_situation !=\"不详\")&(df_dischargeRecordInfo_.admission_situation !=\"未书写诊疗经过\" ))\\\n",
    "    )\n",
    "df_dischargeRecordInfo__ = df_dischargeRecordInfo__.dropDuplicates()\n",
    "#985432\n",
    "print(\"DischargeRecordInfo remove meaningless counts:\",df_dischargeRecordInfo__.count())\n",
    "#过滤出不为空的值\n",
    "df_dischargeRecordInfo__ = df_dischargeRecordInfo__.filter((df_dischargeRecordInfo__.admission_situation.isNotNull())&(df_dischargeRecordInfo__.admission_situation!=\"\") &(df_dischargeRecordInfo__.admission_situation!=\" \"))\n",
    "df_dischargeRecordInfo__ = df_dischargeRecordInfo__.filter((df_dischargeRecordInfo__.treat_process.isNotNull())&(df_dischargeRecordInfo__.treat_process!=\"\") &(df_dischargeRecordInfo__.treat_process!=\" \"))\n",
    "df_dischargeRecordInfo__ = df_dischargeRecordInfo__.dropDuplicates()\n",
    "#983547\n",
    "print(\"DischargeRecordInfo remove NULL counts\",df_dischargeRecordInfo__.count())"
   ]
  },
  {
   "cell_type": "markdown",
   "metadata": {},
   "source": [
    "### 出院记录，计算admission_situation入院情况，treat_process治疗经过的文本长度"
   ]
  },
  {
   "cell_type": "code",
   "execution_count": 11,
   "metadata": {
    "collapsed": false
   },
   "outputs": [
    {
     "name": "stdout",
     "output_type": "stream",
     "text": [
      "+------------+----+------------------+--------------+--------------+-------------------+-------------+-------------------+---------------+-----------+-----------+-------------+---------+-----+-------------+--------------+------------+------+--------+\n",
      "|          id|name|            id_num|admission_date|discharge_date|admission_situation|treat_process|discharge_situation|discharge_order|doctor_code|doctor_name|district_code|node_code|ar_id|admission_num|discharge_time|admission_id|admLen|treatLen|\n",
      "+------------+----+------------------+--------------+--------------+-------------------+-------------+-------------------+---------------+-----------+-----------+-------------+---------+-----+-------------+--------------+------------+------+--------+\n",
      "|000070436000|NULL|370125197802253826|      03/17/20|      03/22/20|                  3|         NULL|               NULL|           NULL|      00864|       NULL|         NULL|   370100| NULL|         NULL|          NULL|000070436000|     1|       4|\n",
      "|000070449200|NULL|370121195404201065|      03/17/20|      03/18/20|                  3|         NULL|               NULL|           NULL|      01033|       NULL|         NULL|   370100| NULL|         NULL|          NULL|000070449200|     1|       4|\n",
      "|000071095000|NULL|370122196801052447|      04/21/20|      04/27/20|                  3|         NULL|               NULL|           NULL|      00201|       NULL|         NULL|   370100| NULL|         NULL|          NULL|000071095000|     1|       4|\n",
      "|000071173800|NULL|370111194510220019|      08/13/20|      08/25/20|                  3|         NULL|               NULL|           NULL|      00654|       NULL|         NULL|   370100| NULL|         NULL|          NULL|000071173800|     1|       4|\n",
      "|000071900300|NULL|410926198301282028|      07/05/20|      07/11/20|                  3|         NULL|               NULL|           NULL|      01068|       NULL|         NULL|   370100| NULL|         NULL|          NULL|000071900300|     1|       4|\n",
      "+------------+----+------------------+--------------+--------------+-------------------+-------------+-------------------+---------------+-----------+-----------+-------------+---------+-----+-------------+--------------+------------+------+--------+\n",
      "only showing top 5 rows\n",
      "\n"
     ]
    }
   ],
   "source": [
    "from pyspark.sql.functions import udf\n",
    "slen = udf(lambda s: len(str(s)))\n",
    "#983547\n",
    "df_dischargeRecordInfo__1 = df_dischargeRecordInfo__.withColumn(\"admLen\", slen(df_dischargeRecordInfo__.admission_situation))\n",
    "#print(df_dischargeRecordInfo__1.count())\n",
    "#\n",
    "df_dischargeRecordInfo__1 = df_dischargeRecordInfo__1.withColumn(\"treatLen\", slen(df_dischargeRecordInfo__1.treat_process))\n",
    "#print(df_dischargeRecordInfo__1.count())\n",
    "df_dischargeRecordInfo__1.show(5)"
   ]
  },
  {
   "cell_type": "markdown",
   "metadata": {},
   "source": [
    "### 出院记录，过滤admission_situation入院情况和treat_process治疗经过的文本长度，选取大于4的字段"
   ]
  },
  {
   "cell_type": "code",
   "execution_count": 12,
   "metadata": {
    "collapsed": false
   },
   "outputs": [
    {
     "name": "stdout",
     "output_type": "stream",
     "text": [
      "DischargeRecordInfo after filter counts: 744370\n",
      "+------+----+------------------+--------------+--------------+--------------------+--------------------+--------------------+--------------------+-----------+-----------+-------------+---------+-----+-------------+--------------+------------+------+--------+\n",
      "|    id|name|            id_num|admission_date|discharge_date| admission_situation|       treat_process| discharge_situation|     discharge_order|doctor_code|doctor_name|district_code|node_code|ar_id|admission_num|discharge_time|admission_id|admLen|treatLen|\n",
      "+------+----+------------------+--------------+--------------+--------------------+--------------------+--------------------+--------------------+-----------+-----------+-------------+---------+-----+-------------+--------------+------------+------+--------+\n",
      "|370124| 王大军|37012419650822007X|      2017-07-|      2017-07-|病人因牙龈癌粒子植入术后3月，颌面...|患者入院后完善各项检查，给予抗感染...|患者病情稳定，体温正常，饮食入眠可...|     1、注意休息，加强营养。...|       NULL|       NULL|       370124|   370100| NULL|     01714130|          NULL|    30167526|   209|      40|\n",
      "|370124| 王启国|370124196603295037|      2017-03-|      2017-03-|因右眼内长胬肉1月入院。查体：视力...|入院后完善术前检查，于2017-3...|视力：右0.8 左0.8，右眼睑无...|   继续院外治疗，如有不适，随时就诊。|       NULL|       NULL|       370124|   370100| NULL|     01706852|          NULL|    30160105|   154|      47|\n",
      "|370124|  葛香|370124198709097521|      2017-08-|      2017-08-|孕妇因停经25周，下腹坠痛12小时...|入院后完善各项检查给予硫酸镁保胎治...|         患者无不适，胎心正常。|     1.注意卧床休息。   ...|       NULL|       NULL|       370124|   370100| NULL|     01716986|          NULL|    30170440|   122|      35|\n",
      "|370124| 韩明月|370124196305110049|      2017-05-|      2017-05-|患者入院时自述左肩关节酸痛，左肩关...|入院后完善相关检查，明确诊断，治疗...|现患者自诉左肩关节无明显疼痛，肩关...|1.注意休息，畅情志，适劳逸，调饮...|       NULL|       NULL|       370124|   370100| NULL|       129522|          NULL|    11023535|   243|      54|\n",
      "|370124| 张乐安|370124193011254510|      2016-04-|      2016-04-|老年男性，既往“高血压、冠状动脉粥...|入院后完善相关检查，予扩张冠状动脉...|患者患者一般情况可。无头晕、头痛，...|（1）注意休息适当锻炼。     ...|       NULL|       NULL|       370124|   370100| NULL|    910150848|          NULL|      111582|   329|      46|\n",
      "+------+----+------------------+--------------+--------------+--------------------+--------------------+--------------------+--------------------+-----------+-----------+-------------+---------+-----+-------------+--------------+------------+------+--------+\n",
      "only showing top 5 rows\n",
      "\n"
     ]
    }
   ],
   "source": [
    "#744370\n",
    "df_dischargeRecordInfo__2 = df_dischargeRecordInfo__1.filter( (df_dischargeRecordInfo__1[\"admLen\"]>4) |(df_dischargeRecordInfo__1[\"treatLen\"]>4) )\n",
    "print(\"DischargeRecordInfo after filter counts:\",df_dischargeRecordInfo__2.count())\n",
    "df_dischargeRecordInfo__2.show(5)"
   ]
  },
  {
   "cell_type": "markdown",
   "metadata": {},
   "source": [
    "### 出院记录，选取关注列"
   ]
  },
  {
   "cell_type": "code",
   "execution_count": 13,
   "metadata": {
    "collapsed": false
   },
   "outputs": [
    {
     "name": "stdout",
     "output_type": "stream",
     "text": [
      "+------------------+------------+-------------+-----------+--------------+--------------------+--------------------+--------------------+--------------------+-----+--------------+------+--------+\n",
      "|   id_numDischarge|admission_id|admission_num|idDischarge|discharge_date| admission_situation|       treat_process| discharge_situation|     discharge_order|ar_id|discharge_time|admLen|treatLen|\n",
      "+------------------+------------+-------------+-----------+--------------+--------------------+--------------------+--------------------+--------------------+-----+--------------+------+--------+\n",
      "|37012419650822007X|    30167526|     01714130|     370124|      2017-07-|病人因牙龈癌粒子植入术后3月，颌面...|患者入院后完善各项检查，给予抗感染...|患者病情稳定，体温正常，饮食入眠可...|     1、注意休息，加强营养。...| NULL|          NULL|   209|      40|\n",
      "|370124196603295037|    30160105|     01706852|     370124|      2017-03-|因右眼内长胬肉1月入院。查体：视力...|入院后完善术前检查，于2017-3...|视力：右0.8 左0.8，右眼睑无...|   继续院外治疗，如有不适，随时就诊。| NULL|          NULL|   154|      47|\n",
      "|370124198709097521|    30170440|     01716986|     370124|      2017-08-|孕妇因停经25周，下腹坠痛12小时...|入院后完善各项检查给予硫酸镁保胎治...|         患者无不适，胎心正常。|     1.注意卧床休息。   ...| NULL|          NULL|   122|      35|\n",
      "|370124196305110049|    11023535|       129522|     370124|      2017-05-|患者入院时自述左肩关节酸痛，左肩关...|入院后完善相关检查，明确诊断，治疗...|现患者自诉左肩关节无明显疼痛，肩关...|1.注意休息，畅情志，适劳逸，调饮...| NULL|          NULL|   243|      54|\n",
      "|370124193011254510|      111582|    910150848|     370124|      2016-04-|老年男性，既往“高血压、冠状动脉粥...|入院后完善相关检查，予扩张冠状动脉...|患者患者一般情况可。无头晕、头痛，...|（1）注意休息适当锻炼。     ...| NULL|          NULL|   329|      46|\n",
      "+------------------+------------+-------------+-----------+--------------+--------------------+--------------------+--------------------+--------------------+-----+--------------+------+--------+\n",
      "only showing top 5 rows\n",
      "\n"
     ]
    }
   ],
   "source": [
    "df_dischargeRecordInfo__2 = df_dischargeRecordInfo__2.withColumnRenamed(\"id\", \"idDischarge\")\n",
    "df_dischargeRecordInfo__2 = df_dischargeRecordInfo__2.withColumnRenamed(\"id_num\", \"id_numDischarge\")\n",
    "\n",
    "dischargeColumns = ['id_numDischarge','admission_id','admission_num','idDischarge',\\\n",
    "           'discharge_date','admission_situation','treat_process','discharge_situation','discharge_order',\\\n",
    "           'ar_id','discharge_time','admLen','treatLen']\n",
    "df_dischargeRecordInfo__2 = df_dischargeRecordInfo__2.select(dischargeColumns)\n",
    "df_dischargeRecordInfo__2.show(5)"
   ]
  },
  {
   "cell_type": "markdown",
   "metadata": {},
   "source": [
    "### 入院记录和出院记录组合，然后和入院门诊组合"
   ]
  },
  {
   "cell_type": "code",
   "execution_count": 14,
   "metadata": {
    "collapsed": false
   },
   "outputs": [
    {
     "name": "stdout",
     "output_type": "stream",
     "text": [
      "AdmissionRecordInfo join dischargeRecordInfo counts: 486416\n",
      "+---------------+--------------------+--------------------+----+---------+--------------------+--------------------+--------------------+---------------------+---------------------+------------------+--------+--------+---------+---------+--------------+-------------+---------+------------------+--------------------+--------------+--------------------+--------------------+--------------------+--------------------+-----+--------------+------+--------+\n",
      "|   admission_id|       admission_num|                  id|name|born_date|     chief_complaint|     present_illness|        past_history|attending_doctor_code|attending_doctor_name|            id_num|sex_code|sex_name| org_code| org_name|admission_date|district_code|node_code|   id_numDischarge|         idDischarge|discharge_date| admission_situation|       treat_process| discharge_situation|     discharge_order|ar_id|discharge_time|admLen|treatLen|\n",
      "+---------------+--------------------+--------------------+----+---------+--------------------+--------------------+--------------------+---------------------+---------------------+------------------+--------+--------+---------+---------+--------------+-------------+---------+------------------+--------------------+--------------+--------------------+--------------------+--------------------+--------------------+-----+--------------+------+--------+\n",
      "|000197613900_11|49402782737088311A10|37080049402782737...| 孙传龙| 19440918|                NULL|                NULL|                NULL|                 NULL|                  贾新英|370883194409182513|       1|       男|494027827|  邹城市人民医院|      20170910|       370883|   370800|370883194409182513|37080049402782737...|      20170920|患者此次因咳嗽、咳痰、喘憋半月入院...|                NULL|患者日常活动可，咳嗽减轻，咳少量白...|                NULL| NULL|          NULL|   161|       4|\n",
      "|000197876700_11|49402782737088311A10|37080049402782737...| 李以祥| 19530220|                NULL|                NULL|                NULL|                 NULL|                    无|370883195302200034|       1|       男|494027827|  邹城市人民医院|      20170913|       370883|   370800|370883195302200034|37080049402782737...|      20170919|老年男性，既往糖尿病、高血压、脑梗...|                NULL|患者一般情况可，左足趾破溃较前有所...|                NULL| NULL|          NULL|   255|       4|\n",
      "|      006454052|49415425237083211A10|37080049415425237...| 程少坤| 19531008| 右无名指及小指麻木、疼痛、无力2...| 患者于20余天前无诱因出现右无名...| 既往健康，无糖尿病史。无肝炎病史...|                 NULL|                  梁邦山|372927195310085618|       1|       男|494154252|  梁山县人民医院|      20170913|       370832|   370800|372927195310085618|37080049415425237...|      20170920|患者因“右无名指及小指麻木、疼痛、...|入院后完善检查，排除手术禁忌，择期...|患者神志清，精神可，病情稳定，今日...|1.3－5天换药一次，术后15天拆...| NULL|          NULL|   163|      67|\n",
      "|              1|          0000001539|              859026| 杨金保| 19660120|   胃癌术后近4年，左肺转移术后1月。|者于2011年10月出现右下腹疼痛...|                NULL|                  刘淑红|               000371|372801196601207617|       1|    NULL|495170836|  临沂市肿瘤医院|      20160128|         3713|   371300|372801196601207617|              864917|      20160203|胃癌术后近4年，左肺转移术后1月。...|入院后完善常规检查，给予TP方案化...|患者一般情况好，无恶心、呕吐，无头...|1.注意休息，加强营养，避免受凉感...| NULL|    2016-02-02|    98|     127|\n",
      "|              1|          0000003519| 4949631382451830172| 王均意| 19571010|    主诉：全身鳞屑性红斑反复发...|    现病史：患者于20多年前无...|    既往史：既往体健无&quo...|                 0023|                   申琛|372802195710100036|       1|       男|494411984|日照市皮肤病防治所|      20170428|       371102|   371100|372822195510255434|              353848|      20150201|食管癌术后2年余，恶心呕吐3天浅表...|完善检查。给予营养支持治疗。症状无...|精神差，进食呛咳明显。查体：胸廓正...|               继续治疗。| NULL|    2015-02-01|   138|      64|\n",
      "+---------------+--------------------+--------------------+----+---------+--------------------+--------------------+--------------------+---------------------+---------------------+------------------+--------+--------+---------+---------+--------------+-------------+---------+------------------+--------------------+--------------+--------------------+--------------------+--------------------+--------------------+-----+--------------+------+--------+\n",
      "only showing top 5 rows\n",
      "\n"
     ]
    }
   ],
   "source": [
    "#id_numCheck470922\n",
    "#df_hospital = df_admissionRecordInfo_.join(df_dischargeRecordInfo__2,(df_dischargeRecordInfo__2[\"id_num\"]==df_admissionRecordInfo_[\"id_num\"])&\\\n",
    "#    (df_dischargeRecordInfo__2[\"admission_date\"]==df_admissionRecordInfo_[\"admission_date\"]))\n",
    "#393824\n",
    "#df_hospital = df_admissionRecordInfo_.join(df_dischargeRecordInfo__2,[\"id_num\",\"admission_id\",\"admission_num\"])\n",
    "#print(df_hospital.count())\n",
    "#391462\n",
    "#df_hospital_ = df_admissionRecordInfo_.join(df_dischargeRecordInfo__2,[\"id_num\",\"admission_date\",\"admission_id\",\"admission_num\"])\n",
    "#486416 住院号+本次住院标识\n",
    "df_hospital_ = df_admissionRecordInfo_.join(df_dischargeRecordInfo__2,[\"admission_id\",\"admission_num\"])\n",
    "\n",
    "print(\"AdmissionRecordInfo join dischargeRecordInfo counts:\",df_hospital_.count())\n",
    "df_hospital_.show(5)"
   ]
  },
  {
   "cell_type": "markdown",
   "metadata": {},
   "source": [
    "### 选取目标列"
   ]
  },
  {
   "cell_type": "code",
   "execution_count": 15,
   "metadata": {
    "collapsed": true
   },
   "outputs": [],
   "source": [
    "columns2 = ['id_num','admission_date','admission_id','admission_num',\\\n",
    "           'id','name','chief_complaint','present_illness','attending_doctor_code',\\\n",
    "           'attending_doctor_name','org_code','org_name','id_numDischarge','idDischarge',\\\n",
    "           'discharge_date','admission_situation','treat_process','discharge_situation','discharge_order',\\\n",
    "           'discharge_time','admLen','treatLen']\n",
    "df_hospital_1 = df_hospital_.select(columns2)\n",
    "df_admissionDiagnosisInfo_ = df_admissionDiagnosisInfo_.withColumnRenamed(\"id\", \"idDiagosis\")"
   ]
  },
  {
   "cell_type": "markdown",
   "metadata": {},
   "source": [
    "### 三个表merge完，产出1249505条记录"
   ]
  },
  {
   "cell_type": "code",
   "execution_count": 16,
   "metadata": {
    "collapsed": false
   },
   "outputs": [
    {
     "name": "stdout",
     "output_type": "stream",
     "text": [
      "1249505\n"
     ]
    }
   ],
   "source": [
    "#由于目前卫计委中的数据，部分主键不唯一，有些数据一条key对应多条数据，所以，join之后，数据量比原始数据大\n",
    "#1249505\n",
    "df_hospital__ = df_admissionDiagnosisInfo_.join(df_hospital_1, (df_hospital_[\"admission_date\"]==df_admissionDiagnosisInfo_[\"diagnosis_date\"])&\\\n",
    "        (df_hospital_1[\"id\"]==df_admissionDiagnosisInfo_[\"ar_id\"])    )\n",
    "print(df_hospital__.count()) "
   ]
  },
  {
   "cell_type": "markdown",
   "metadata": {},
   "source": [
    "### merge整理完的数据，写回HDFS"
   ]
  },
  {
   "cell_type": "code",
   "execution_count": 17,
   "metadata": {
    "collapsed": true
   },
   "outputs": [],
   "source": [
    "df_hospital__.coalesce(1).write.option(\"header\", \"true\").csv(\"/data/icd10-2/df_hospital_20180103.csv\")"
   ]
  },
  {
   "cell_type": "markdown",
   "metadata": {},
   "source": [
    "## 至此，已经完成目标数据的整理，下面，对数据进行进一步的处理，包括去重，过滤空值等"
   ]
  },
  {
   "cell_type": "code",
   "execution_count": 20,
   "metadata": {
    "collapsed": false
   },
   "outputs": [
    {
     "name": "stdout",
     "output_type": "stream",
     "text": [
      "datasets count= 1249505\n",
      "+---------------+---------------+------------+-------+-------------+---------+--------------+------------------+--------------+------------+-------------+---------------+----+---------------+---------------+---------------------+---------------------+---------+--------+------------------+---------------+--------------+--------------------+--------------------+--------------------+--------------------+---------------+------+--------+\n",
      "|     idDiagosis|          ar_id|disease_code|disease|district_code|node_code|diagnosis_date|            id_num|admission_date|admission_id|admission_num|             id|name|chief_complaint|present_illness|attending_doctor_code|attending_doctor_name| org_code|org_name|   id_numDischarge|    idDischarge|discharge_date| admission_situation|       treat_process| discharge_situation|     discharge_order| discharge_time|admLen|treatLen|\n",
      "+---------------+---------------+------------+-------+-------------+---------+--------------+------------------+--------------+------------+-------------+---------------+----+---------------+---------------+---------------------+---------------------+---------+--------+------------------+---------------+--------------+--------------------+--------------------+--------------------+--------------------+---------------+------+--------+\n",
      "| 331772_1168158|         331772|     I63.902|    脑梗死|         3713|   371300|      20150101|372831196003017539|      20150101|      331772|      2037873|         331772| 李庆启|           NULL|           NULL|                 NULL|                 NULL|495170799| 临沂市人民医院|372831196003017539|  331772_331772|      20150505|患者病情平稳，右侧肢体无力较前减轻...|患者病情平稳，右侧肢体无力较前减轻...|患者病情平稳，右侧肢体无力较前减轻...|患者病情平稳，右侧肢体无力较前减轻...|     1900-01-01|   114|     114|\n",
      "| 331772_I63.900|         331772|     I63.902|    脑梗死|         3713|   371300|      20150101|372831196003017539|      20150101|      331772|      2037873|         331772| 李庆启|           NULL|           NULL|                 NULL|                 NULL|495170799| 临沂市人民医院|372831196003017539|  331772_331772|      20150505|患者病情平稳，右侧肢体无力较前减轻...|患者病情平稳，右侧肢体无力较前减轻...|患者病情平稳，右侧肢体无力较前减轻...|患者病情平稳，右侧肢体无力较前减轻...|     1900-01-01|   114|     114|\n",
      "| 332053_1168439|         332053|     I61.902|  脑血管破裂|         3713|   371300|      20150101|372801195311266753|      20150101|      332053|      2037914|         332053| 李思义|           NULL|           NULL|                 NULL|                 NULL|495170799| 临沂市人民医院|372801195311266753|  332053_332053|      20150310|继续治疗：复方氨基丁酸维E胶囊2粒...|继续治疗：复方氨基丁酸维E胶囊2粒...|继续治疗：复方氨基丁酸维E胶囊2粒...|继续治疗：复方氨基丁酸维E胶囊2粒...|     1900-01-01|   118|     118|\n",
      "| 332053_I61.900|         332053|     I61.902|  脑血管破裂|         3713|   371300|      20150101|372801195311266753|      20150101|      332053|      2037914|         332053| 李思义|           NULL|           NULL|                 NULL|                 NULL|495170799| 临沂市人民医院|372801195311266753|  332053_332053|      20150310|继续治疗：复方氨基丁酸维E胶囊2粒...|继续治疗：复方氨基丁酸维E胶囊2粒...|继续治疗：复方氨基丁酸维E胶囊2粒...|继续治疗：复方氨基丁酸维E胶囊2粒...|     1900-01-01|   118|     118|\n",
      "|495542433144555|495542433140499|     C16.900|  胃恶性肿瘤|       370705|495542433|      20150101|370703196407053525|      20150101|      140499|       390432|495542433140499| 肖瑞香|           NULL|           NULL|                 NULL|                 NULL|495542433|   潍坊医学院|370703196407053525|495542433163761|      20150110|患者因“上腹痛7个月，加重1月”，...|?1.胃恶性肿瘤史?       ...|患者因诊为“胃恶性肿瘤”，于201...|?1.胃恶性肿瘤史?       ...|02/13/2017 09:4|   252|      74|\n",
      "+---------------+---------------+------------+-------+-------------+---------+--------------+------------------+--------------+------------+-------------+---------------+----+---------------+---------------+---------------------+---------------------+---------+--------+------------------+---------------+--------------+--------------------+--------------------+--------------------+--------------------+---------------+------+--------+\n",
      "only showing top 5 rows\n",
      "\n"
     ]
    }
   ],
   "source": [
    "filePath = \"/data/icd10-2/df_hospital_20180103.csv/part-00000-f4757f54-c83f-403e-83ed-281d494f1f24.csv\"\n",
    "df = sqlContext\\\n",
    "    .read.format(\"com.databricks.spark.csv\")\\\n",
    "    .option(\"header\", \"true\")\\\n",
    "    .option(\"inferschema\", \"true\")\\\n",
    "    .option(\"mode\", \"DROPMALFORMED\")\\\n",
    "    .load(filePath)\n",
    "    #.load(\"/data/icd10/hospitaldischarge.csv\")\n",
    "print(\"datasets count=\", df.count())\n",
    "df.show(5)"
   ]
  },
  {
   "cell_type": "markdown",
   "metadata": {},
   "source": [
    "### 去重数据量1249505->1242729->1240776"
   ]
  },
  {
   "cell_type": "code",
   "execution_count": 22,
   "metadata": {
    "collapsed": false
   },
   "outputs": [
    {
     "name": "stdout",
     "output_type": "stream",
     "text": [
      "datasets remove duplicates counts= 1242729\n",
      "DischargeRecordInfo remove NULL counts 1240776\n"
     ]
    }
   ],
   "source": [
    "df_ = df.dropDuplicates()\n",
    "print(\"datasets remove duplicates counts=\",df_.count())\n",
    "df_admin_treat_discharge = df_.filter((df_.disease !=\"NULL\" )&(df_.treat_process !=\"NULL\" )& \\\n",
    "                        (df_.admission_situation !=\"NULL\"))\n",
    "df_admin_treat_discharge_count = df_admin_treat_discharge.count()\n",
    "print(\"datasets remove NULL counts\",df_admin_treat_discharge_count)"
   ]
  },
  {
   "cell_type": "code",
   "execution_count": 27,
   "metadata": {
    "collapsed": false
   },
   "outputs": [
    {
     "name": "stdout",
     "output_type": "stream",
     "text": [
      "datasets remove duplicates counts= 1240776\n"
     ]
    }
   ],
   "source": [
    "df_admin_treat_discharge_ = df_admin_treat_discharge.dropDuplicates()\n",
    "print(\"datasets remove duplicates counts=\",df_admin_treat_discharge_.count())"
   ]
  },
  {
   "cell_type": "markdown",
   "metadata": {},
   "source": [
    "### 去重后存入hdfs：1240776"
   ]
  },
  {
   "cell_type": "code",
   "execution_count": 26,
   "metadata": {
    "collapsed": false
   },
   "outputs": [],
   "source": [
    "df_admin_treat_discharge.dropDuplicates().coalesce(1).write.option(\"header\", \"true\").csv(\"/data/icd10-2/df_hospital_20180103Uniq.csv\")"
   ]
  },
  {
   "cell_type": "markdown",
   "metadata": {
    "collapsed": true
   },
   "source": [
    "# 基于ICD-10编码标准，进行训练数据集处理"
   ]
  },
  {
   "cell_type": "markdown",
   "metadata": {},
   "source": [
    "### load ic10编码"
   ]
  },
  {
   "cell_type": "code",
   "execution_count": 9,
   "metadata": {
    "collapsed": false
   },
   "outputs": [
    {
     "name": "stdout",
     "output_type": "stream",
     "text": [
      "(23658, 7)\n"
     ]
    },
    {
     "data": {
      "text/html": [
       "<div>\n",
       "<table border=\"1\" class=\"dataframe\">\n",
       "  <thead>\n",
       "    <tr style=\"text-align: right;\">\n",
       "      <th></th>\n",
       "      <th>Code</th>\n",
       "      <th>Disease</th>\n",
       "      <th>SecondCode</th>\n",
       "      <th>SecondType</th>\n",
       "      <th>FirstCode</th>\n",
       "      <th>FirstType</th>\n",
       "      <th>WIKI</th>\n",
       "    </tr>\n",
       "  </thead>\n",
       "  <tbody>\n",
       "    <tr>\n",
       "      <th>1</th>\n",
       "      <td>A00.001</td>\n",
       "      <td>古典生物型霍乱</td>\n",
       "      <td>A00-A09</td>\n",
       "      <td>肠道传染病</td>\n",
       "      <td>A00-B99</td>\n",
       "      <td>某些传染病和寄生虫病</td>\n",
       "      <td>NaN</td>\n",
       "    </tr>\n",
       "    <tr>\n",
       "      <th>2</th>\n",
       "      <td>A00.101</td>\n",
       "      <td>埃尔托生物型霍乱</td>\n",
       "      <td>A00-A09</td>\n",
       "      <td>肠道传染病</td>\n",
       "      <td>A00-B99</td>\n",
       "      <td>某些传染病和寄生虫病</td>\n",
       "      <td>NaN</td>\n",
       "    </tr>\n",
       "    <tr>\n",
       "      <th>3</th>\n",
       "      <td>A00.901</td>\n",
       "      <td>霍乱</td>\n",
       "      <td>A00-A09</td>\n",
       "      <td>肠道传染病</td>\n",
       "      <td>A00-B99</td>\n",
       "      <td>某些传染病和寄生虫病</td>\n",
       "      <td>NaN</td>\n",
       "    </tr>\n",
       "    <tr>\n",
       "      <th>4</th>\n",
       "      <td>A00.902</td>\n",
       "      <td>霍乱轻型</td>\n",
       "      <td>A00-A09</td>\n",
       "      <td>肠道传染病</td>\n",
       "      <td>A00-B99</td>\n",
       "      <td>某些传染病和寄生虫病</td>\n",
       "      <td>NaN</td>\n",
       "    </tr>\n",
       "    <tr>\n",
       "      <th>5</th>\n",
       "      <td>A00.903</td>\n",
       "      <td>霍乱中型</td>\n",
       "      <td>A00-A09</td>\n",
       "      <td>肠道传染病</td>\n",
       "      <td>A00-B99</td>\n",
       "      <td>某些传染病和寄生虫病</td>\n",
       "      <td>NaN</td>\n",
       "    </tr>\n",
       "  </tbody>\n",
       "</table>\n",
       "</div>"
      ],
      "text/plain": [
       "      Code   Disease SecondCode SecondType FirstCode   FirstType WIKI\n",
       "1  A00.001   古典生物型霍乱    A00-A09      肠道传染病   A00-B99  某些传染病和寄生虫病  NaN\n",
       "2  A00.101  埃尔托生物型霍乱    A00-A09      肠道传染病   A00-B99  某些传染病和寄生虫病  NaN\n",
       "3  A00.901        霍乱    A00-A09      肠道传染病   A00-B99  某些传染病和寄生虫病  NaN\n",
       "4  A00.902      霍乱轻型    A00-A09      肠道传染病   A00-B99  某些传染病和寄生虫病  NaN\n",
       "5  A00.903      霍乱中型    A00-A09      肠道传染病   A00-B99  某些传染病和寄生虫病  NaN"
      ]
     },
     "execution_count": 9,
     "metadata": {},
     "output_type": "execute_result"
    }
   ],
   "source": [
    "import pandas as pd\n",
    "pd_icd10 = pd.read_excel(\"datasets/ICD-10.xlsx\")\n",
    "print(pd_icd10.shape)\n",
    "pd_icd10.head(5)"
   ]
  },
  {
   "cell_type": "code",
   "execution_count": 10,
   "metadata": {
    "collapsed": true
   },
   "outputs": [],
   "source": [
    "pd_icd10_new = pd_icd10[[\"Code\",\"Disease\",\"SecondCode\",\"SecondType\",\"FirstCode\",\"FirstType\"]]\n",
    "pd_icd10_new.head(5)\n",
    "\n",
    "pd_icd10_new = pd_icd10_new.rename(columns={'Disease': 'DiseaseICD10'})\n",
    "\n",
    "df_pd_icd10_new = sqlContext.createDataFrame(pd_icd10_new)\n"
   ]
  },
  {
   "cell_type": "markdown",
   "metadata": {},
   "source": [
    "### 载入医院数据"
   ]
  },
  {
   "cell_type": "code",
   "execution_count": 1,
   "metadata": {
    "collapsed": false
   },
   "outputs": [
    {
     "ename": "NameError",
     "evalue": "name 'pd' is not defined",
     "output_type": "error",
     "traceback": [
      "\u001b[0;31m---------------------------------------------------------------------------\u001b[0m",
      "\u001b[0;31mNameError\u001b[0m                                 Traceback (most recent call last)",
      "\u001b[0;32m<ipython-input-1-078aabfcf238>\u001b[0m in \u001b[0;36m<module>\u001b[0;34m()\u001b[0m\n\u001b[1;32m      1\u001b[0m \u001b[0mfilePath\u001b[0m \u001b[0;34m=\u001b[0m \u001b[0;34m\"hospitalData/df_hospital_20180103_uniq.csv\"\u001b[0m\u001b[0;34m\u001b[0m\u001b[0m\n\u001b[0;32m----> 2\u001b[0;31m \u001b[0mpd_dia\u001b[0m \u001b[0;34m=\u001b[0m \u001b[0mpd\u001b[0m\u001b[0;34m.\u001b[0m\u001b[0mread_csv\u001b[0m\u001b[0;34m(\u001b[0m\u001b[0mfilePath\u001b[0m\u001b[0;34m,\u001b[0m  \u001b[0mencoding\u001b[0m\u001b[0;34m=\u001b[0m\u001b[0;34m'utf8'\u001b[0m\u001b[0;34m)\u001b[0m\u001b[0;34m.\u001b[0m\u001b[0mdrop_duplicates\u001b[0m\u001b[0;34m(\u001b[0m\u001b[0;34m)\u001b[0m\u001b[0;34m\u001b[0m\u001b[0m\n\u001b[0m\u001b[1;32m      3\u001b[0m \u001b[0mprint\u001b[0m\u001b[0;34m(\u001b[0m\u001b[0mpd_dia\u001b[0m\u001b[0;34m.\u001b[0m\u001b[0mshape\u001b[0m\u001b[0;34m)\u001b[0m\u001b[0;34m\u001b[0m\u001b[0m\n\u001b[1;32m      4\u001b[0m \u001b[0mpd_dia\u001b[0m\u001b[0;34m.\u001b[0m\u001b[0mhead\u001b[0m\u001b[0;34m(\u001b[0m\u001b[0;36m2\u001b[0m\u001b[0;34m)\u001b[0m\u001b[0;34m\u001b[0m\u001b[0m\n",
      "\u001b[0;31mNameError\u001b[0m: name 'pd' is not defined"
     ]
    }
   ],
   "source": [
    "filePath = \"hospitalData/df_hospital_20180103_uniq.csv\"\n",
    "pd_dia = pd.read_csv(filePath,  encoding='utf8').drop_duplicates()\n",
    "print(pd_dia.shape)\n",
    "pd_dia.head(2)\n"
   ]
  },
  {
   "cell_type": "code",
   "execution_count": 35,
   "metadata": {
    "collapsed": false
   },
   "outputs": [
    {
     "name": "stdout",
     "output_type": "stream",
     "text": [
      "(1040080, 13)\n"
     ]
    }
   ],
   "source": [
    "columnsAll=['id_numDischarge','name','disease','disease_code','admission_date','chief_complaint','present_illness',\\\n",
    "            'admission_situation','treat_process','discharge_situation','discharge_order','admLen','treatLen']\n",
    "pd_dia_ = pd_dia[columnsAll]\n",
    "pd_dia_ = pd_dia_.drop_duplicates()\n",
    "\n",
    "print(pd_dia_.shape)\n",
    "def doStrip(word):\n",
    "    return word.strip()\n",
    "pd_dia_[\"diseaseNew\"] = pd_dia_[\"disease\"].apply(doStrip)\n"
   ]
  },
  {
   "cell_type": "markdown",
   "metadata": {},
   "source": [
    "### 医院数据选取和ICD10疾病名称和code前5位相同的数据集 "
   ]
  },
  {
   "cell_type": "code",
   "execution_count": 39,
   "metadata": {
    "collapsed": false
   },
   "outputs": [
    {
     "name": "stdout",
     "output_type": "stream",
     "text": [
      "Disease same counts: (233818, 20)\n",
      "Disease and code5 digits same counts: (56383, 22)\n"
     ]
    }
   ],
   "source": [
    "pd_dia_join = pd_dia_.merge(pd_icd10_new,  left_on=['diseaseNew'], right_on=['DiseaseICD10'])\n",
    "print(\"Disease same counts:\",pd_dia_join.shape)\n",
    "\n",
    "pd_dia_join[\"disease_codeNew\"] = pd_dia_join[\"disease_code\"].str[0:6]\n",
    "pd_dia_join[\"CodeNew\"] = pd_dia_join[\"Code\"].str[0:6]\n",
    "#257722\n",
    "#56416\n",
    "pd_dia_join_= pd_dia_join[pd_dia_join[\"disease_codeNew\"]== pd_dia_join[\"CodeNew\"]]\n",
    "print(\"Disease and code5 digits same counts:\",pd_dia_join_.shape)"
   ]
  },
  {
   "cell_type": "markdown",
   "metadata": {},
   "source": [
    "### 计算关键字"
   ]
  },
  {
   "cell_type": "code",
   "execution_count": 41,
   "metadata": {
    "collapsed": false
   },
   "outputs": [],
   "source": [
    "from medicalDataLoad import *\n",
    "def medicalGetKeyWord(item):\n",
    "    keyStr = doKeyWord(item)\n",
    "    resStrR = keyStr.replace(\"'\", \"\\\"\")\n",
    "    remStrR = re.sub(r\",\\s*?]\", \"]\", resStrR)\n",
    "    \n",
    "    keyWordStr,num, tmpList = getKeyWordFromJson(remStrR)\n",
    "    return keyWordStr"
   ]
  },
  {
   "cell_type": "code",
   "execution_count": 42,
   "metadata": {
    "collapsed": true
   },
   "outputs": [],
   "source": [
    "#计算关键字\n",
    "def computeKeyWord():\n",
    "    pd_dia_join_[\"chief_complaintKey\"] = pd_dia_join_[\"chief_complaint\"].apply(medicalGetKeyWord)\n",
    "    print(pd_dia_join_.head(2))\n",
    "    pd_dia_join_.to_csv(\"hospitalData/df_hospital_20171219_diseasematchKeyword.csv\")\n",
    "    pd_dia_join_[\"present_illnessKey\"] = pd_dia_join_[\"present_illness\"].apply(medicalGetKeyWord)\n",
    "    pd_dia_join_.to_csv(\"hospitalData/df_hospital_20171219_diseasematchKeyword.csv\")\n",
    "    pd_dia_join_[\"admission_situationKey\"] = pd_dia_join_[\"admission_situation\"].apply(medicalGetKeyWord)\n",
    "    pd_dia_join_.to_csv(\"hospitalData/df_hospital_20171219_diseasematchKeyword.csv\")\n",
    "    pd_dia_join_[\"treat_processKey\"] = pd_dia_join_[\"treat_process\"].apply(medicalGetKeyWord)\n",
    "    pd_dia_join_.to_csv(\"hospitalData/df_hospital_20171219_diseasematchKeyword.csv\")\n",
    "    pd_dia_join_[\"discharge_situationKey\"] = pd_dia_join_[\"discharge_situation\"].apply(medicalGetKeyWord)\n",
    "    pd_dia_join_.to_csv(\"hospitalData/df_hospital_20171219_diseasematchKeyword.csv\")\n",
    "    pd_dia_join_[\"discharge_orderKey\"] = pd_dia_join_[\"discharge_order\"].apply(medicalGetKeyWord)\n",
    "    pd_dia_join_.to_csv(\"hospitalData/df_hospital_20171219_diseasematchKeyword.csv\")\n",
    "#computeKeyWord()"
   ]
  },
  {
   "cell_type": "markdown",
   "metadata": {},
   "source": [
    "### 统计计算出的关键字长度，画出分布图"
   ]
  },
  {
   "cell_type": "code",
   "execution_count": 43,
   "metadata": {
    "collapsed": false
   },
   "outputs": [
    {
     "name": "stdout",
     "output_type": "stream",
     "text": [
      "(56416, 29)\n"
     ]
    }
   ],
   "source": [
    "import pandas as pd\n",
    "filePath = \"hospitalData//df_hospital_20171219_diseasematchKeyword.csv\"\n",
    "pd_dia_join_ = pd.read_csv(filePath,  encoding='utf8')\n",
    "print(pd_dia_join_.shape)"
   ]
  },
  {
   "cell_type": "code",
   "execution_count": 44,
   "metadata": {
    "collapsed": true
   },
   "outputs": [],
   "source": [
    "def testKeyLength(fea):\n",
    "    pd_dia_join_[fea+\"NUM\"] = pd_dia_join_[fea].apply(lambda x: len(str(x).strip().split(\" \")))\n",
    "\n",
    "testKeyLength(\"chief_complaintKey\")\n",
    "testKeyLength(\"present_illnessKey\")\n",
    "testKeyLength(\"admission_situationKey\")\n",
    "testKeyLength(\"treat_processKey\")\n",
    "testKeyLength(\"discharge_situationKey\")\n",
    "testKeyLength(\"discharge_orderKey\")"
   ]
  },
  {
   "cell_type": "code",
   "execution_count": 50,
   "metadata": {
    "collapsed": false
   },
   "outputs": [
    {
     "data": {
      "text/html": [
       "<div>\n",
       "<table border=\"1\" class=\"dataframe\">\n",
       "  <thead>\n",
       "    <tr style=\"text-align: right;\">\n",
       "      <th></th>\n",
       "      <th>Unnamed: 0</th>\n",
       "      <th>id_numDischarge</th>\n",
       "      <th>name</th>\n",
       "      <th>disease</th>\n",
       "      <th>disease_code</th>\n",
       "      <th>admission_date</th>\n",
       "      <th>chief_complaint</th>\n",
       "      <th>present_illness</th>\n",
       "      <th>admission_situation</th>\n",
       "      <th>treat_process</th>\n",
       "      <th>...</th>\n",
       "      <th>admission_situationKey</th>\n",
       "      <th>treat_processKey</th>\n",
       "      <th>discharge_situationKey</th>\n",
       "      <th>discharge_orderKey</th>\n",
       "      <th>chief_complaintKeyNUM</th>\n",
       "      <th>present_illnessKeyNUM</th>\n",
       "      <th>admission_situationKeyNUM</th>\n",
       "      <th>treat_processKeyNUM</th>\n",
       "      <th>discharge_situationKeyNUM</th>\n",
       "      <th>discharge_orderKeyNUM</th>\n",
       "    </tr>\n",
       "  </thead>\n",
       "  <tbody>\n",
       "    <tr>\n",
       "      <th>0</th>\n",
       "      <td>0</td>\n",
       "      <td>372831196003017539</td>\n",
       "      <td>李庆启</td>\n",
       "      <td>脑梗死</td>\n",
       "      <td>I63.902</td>\n",
       "      <td>20150101</td>\n",
       "      <td>NaN</td>\n",
       "      <td>NaN</td>\n",
       "      <td>患者病情平稳，右侧肢体无力较前减轻。无发热，无恶心呕吐，无心慌胸闷，无肢体抽搐及意识障碍。饮...</td>\n",
       "      <td>患者病情平稳，右侧肢体无力较前减轻。无发热，无恶心呕吐，无心慌胸闷，无肢体抽搐及意识障碍。饮...</td>\n",
       "      <td>...</td>\n",
       "      <td>侧肢体无力 双侧 病理征 患者病情 伸舌居中 肌力肌张力 心慌胸闷 无恶心呕吐 查房 肢体抽...</td>\n",
       "      <td>侧肢体无力 双侧 病理征 患者病情 伸舌居中 肌力肌张力 心慌胸闷 无恶心呕吐 查房 肢体抽...</td>\n",
       "      <td>侧肢体无力 双侧 病理征 患者病情 伸舌居中 肌力肌张力 心慌胸闷 无恶心呕吐 查房 肢体抽...</td>\n",
       "      <td>侧肢体无力 双侧 病理征 患者病情 伸舌居中 肌力肌张力 心慌胸闷 无恶心呕吐 查房 肢体抽...</td>\n",
       "      <td>1</td>\n",
       "      <td>1</td>\n",
       "      <td>20</td>\n",
       "      <td>20</td>\n",
       "      <td>20</td>\n",
       "      <td>20</td>\n",
       "    </tr>\n",
       "    <tr>\n",
       "      <th>1</th>\n",
       "      <td>1</td>\n",
       "      <td>370724194308135798</td>\n",
       "      <td>曹永安</td>\n",
       "      <td>脑梗死</td>\n",
       "      <td>I63.900</td>\n",
       "      <td>20150101</td>\n",
       "      <td>NaN</td>\n",
       "      <td>NaN</td>\n",
       "      <td>患者因“左侧肢体活动不灵伴记忆力下降7天”入院，既往身体健康。查体: T 36.2℃，P 7...</td>\n",
       "      <td>脑梗死</td>\n",
       "      <td>...</td>\n",
       "      <td>左侧 未见异常 切题 腱反射 病理反射阴性 右侧顶叶 CT 记忆力下降 伸舌 轮替动作 肢体...</td>\n",
       "      <td>脑梗死</td>\n",
       "      <td>入院 脑萎缩 血管动脉硬化 双侧脑室 空蝶鞍 化验结果 桥脑 大脑后动脉狭窄 放射冠区 对症...</td>\n",
       "      <td>脑梗死 脑萎缩 双膝 3. 脑动脉硬化 退行性骨关节炎 狭窄</td>\n",
       "      <td>1</td>\n",
       "      <td>1</td>\n",
       "      <td>20</td>\n",
       "      <td>1</td>\n",
       "      <td>20</td>\n",
       "      <td>7</td>\n",
       "    </tr>\n",
       "  </tbody>\n",
       "</table>\n",
       "<p>2 rows × 35 columns</p>\n",
       "</div>"
      ],
      "text/plain": [
       "   Unnamed: 0     id_numDischarge name disease disease_code  admission_date  \\\n",
       "0           0  372831196003017539  李庆启     脑梗死      I63.902        20150101   \n",
       "1           1  370724194308135798  曹永安     脑梗死      I63.900        20150101   \n",
       "\n",
       "  chief_complaint present_illness  \\\n",
       "0             NaN             NaN   \n",
       "1             NaN             NaN   \n",
       "\n",
       "                                 admission_situation  \\\n",
       "0  患者病情平稳，右侧肢体无力较前减轻。无发热，无恶心呕吐，无心慌胸闷，无肢体抽搐及意识障碍。饮...   \n",
       "1  患者因“左侧肢体活动不灵伴记忆力下降7天”入院，既往身体健康。查体: T 36.2℃，P 7...   \n",
       "\n",
       "                                       treat_process          ...           \\\n",
       "0  患者病情平稳，右侧肢体无力较前减轻。无发热，无恶心呕吐，无心慌胸闷，无肢体抽搐及意识障碍。饮...          ...            \n",
       "1                                                脑梗死          ...            \n",
       "\n",
       "                              admission_situationKey  \\\n",
       "0  侧肢体无力 双侧 病理征 患者病情 伸舌居中 肌力肌张力 心慌胸闷 无恶心呕吐 查房 肢体抽...   \n",
       "1  左侧 未见异常 切题 腱反射 病理反射阴性 右侧顶叶 CT 记忆力下降 伸舌 轮替动作 肢体...   \n",
       "\n",
       "                                    treat_processKey  \\\n",
       "0  侧肢体无力 双侧 病理征 患者病情 伸舌居中 肌力肌张力 心慌胸闷 无恶心呕吐 查房 肢体抽...   \n",
       "1                                               脑梗死    \n",
       "\n",
       "                              discharge_situationKey  \\\n",
       "0  侧肢体无力 双侧 病理征 患者病情 伸舌居中 肌力肌张力 心慌胸闷 无恶心呕吐 查房 肢体抽...   \n",
       "1  入院 脑萎缩 血管动脉硬化 双侧脑室 空蝶鞍 化验结果 桥脑 大脑后动脉狭窄 放射冠区 对症...   \n",
       "\n",
       "                                  discharge_orderKey chief_complaintKeyNUM  \\\n",
       "0  侧肢体无力 双侧 病理征 患者病情 伸舌居中 肌力肌张力 心慌胸闷 无恶心呕吐 查房 肢体抽...                     1   \n",
       "1                    脑梗死 脑萎缩 双膝 3. 脑动脉硬化 退行性骨关节炎 狭窄                      1   \n",
       "\n",
       "  present_illnessKeyNUM admission_situationKeyNUM treat_processKeyNUM  \\\n",
       "0                     1                        20                  20   \n",
       "1                     1                        20                   1   \n",
       "\n",
       "  discharge_situationKeyNUM discharge_orderKeyNUM  \n",
       "0                        20                    20  \n",
       "1                        20                     7  \n",
       "\n",
       "[2 rows x 35 columns]"
      ]
     },
     "execution_count": 50,
     "metadata": {},
     "output_type": "execute_result"
    }
   ],
   "source": [
    "pd_dia_join_.head(2)"
   ]
  },
  {
   "cell_type": "code",
   "execution_count": 47,
   "metadata": {
    "collapsed": false
   },
   "outputs": [
    {
     "data": {
      "image/png": "[encoded data removed]",
      "text/plain": [
       "<matplotlib.figure.Figure at 0x7f898d1fcb38>"
      ]
     },
     "metadata": {},
     "output_type": "display_data"
    }
   ],
   "source": [
    "import matplotlib.pyplot as plt\n",
    "import numpy as np\n",
    "# 1、直方图\n",
    "plt.figure(1,figsize=(10, 15))\n",
    "ax1 = plt.subplot(321) \n",
    "ax2 = plt.subplot(322)\n",
    "ax3 = plt.subplot(323) \n",
    "ax4 = plt.subplot(324)\n",
    "ax5 = plt.subplot(325) \n",
    "ax6 = plt.subplot(326)\n",
    "bins = 10\n",
    "ax1.hist(pd_dia_join_['admission_situationKeyNUM'], bins=bins, color='red')\n",
    "plt.sca(ax1)\n",
    "plt.title('admission_situation keyword numbers')\n",
    "plt.xlabel('keyword numbers')\n",
    "plt.ylabel('numbers')\n",
    "\n",
    "\n",
    "ax2.hist(pd_dia_join_['treat_processKeyNUM'], bins = bins, color='blue')\n",
    "plt.sca(ax2)\n",
    "plt.title('treat_process keyword numbers')\n",
    "plt.xlabel('keyword numbers')\n",
    "plt.ylabel('numbers')\n",
    "\n",
    "ax3.hist(pd_dia_join_['discharge_situationKeyNUM'], bins=bins, color='green')\n",
    "plt.sca(ax3)\n",
    "plt.title('discharge_order keyword numbers')\n",
    "plt.xlabel('keyword numbers')\n",
    "plt.ylabel('numbers')\n",
    "\n",
    "\n",
    "ax4.hist(pd_dia_join_['discharge_orderKeyNUM'], bins = bins, color='magenta')\n",
    "plt.sca(ax4)\n",
    "plt.title('discharge_order keyword numbers')\n",
    "plt.xlabel('keyword numbers')\n",
    "plt.ylabel('numbers')\n",
    "\n",
    "ax5.hist(pd_dia_join_['chief_complaintKeyNUM'], bins=bins, color='yellow')\n",
    "plt.sca(ax5)\n",
    "plt.title('chief_complaint keyword numbers')\n",
    "plt.xlabel('keyword numbers')\n",
    "plt.ylabel('numbers')\n",
    "\n",
    "\n",
    "ax6.hist(pd_dia_join_['present_illnessKeyNUM'], bins = bins, color='red')\n",
    "plt.sca(ax6)\n",
    "plt.title('present_illness keyword numbers')\n",
    "plt.xlabel('keyword numbers')\n",
    "plt.ylabel('numbers')\n",
    "\n",
    "plt.show()"
   ]
  },
  {
   "cell_type": "code",
   "execution_count": 57,
   "metadata": {
    "collapsed": false
   },
   "outputs": [
    {
     "data": {
      "text/plain": [
       "array([<matplotlib.axes._subplots.AxesSubplot object at 0x7f896c34e550>,\n",
       "       <matplotlib.axes._subplots.AxesSubplot object at 0x7f896c32eef0>,\n",
       "       <matplotlib.axes._subplots.AxesSubplot object at 0x7f896c2ec240>,\n",
       "       <matplotlib.axes._subplots.AxesSubplot object at 0x7f896c293438>,\n",
       "       <matplotlib.axes._subplots.AxesSubplot object at 0x7f896c241d30>,\n",
       "       <matplotlib.axes._subplots.AxesSubplot object at 0x7f896f0448d0>], dtype=object)"
      ]
     },
     "execution_count": 57,
     "metadata": {},
     "output_type": "execute_result"
    }
   ],
   "source": [
    "import matplotlib.pyplot as plt\n",
    "import numpy as np\n",
    "fig, axes = plt.subplots(6, 1, figsize=(20, 30));\n",
    "plt.subplots_adjust(wspace=0.5, hspace=0.5);\n",
    "target1 = [axes[0],axes[1],axes[2],axes[3], axes[4], axes[5]]\n",
    "pd_dia_join_sel = pd_dia_join_[[\"admission_situationKeyNUM\",\"treat_processKeyNUM\",\"discharge_situationKeyNUM\",\"discharge_orderKeyNUM\",\"chief_complaintKeyNUM\",\"present_illnessKeyNUM\"]]\n",
    "#pd_dia_join_sel.head(4)\n",
    "pd_dia_join_sel.plot(subplots=True, ax=target1, sharex=False, sharey=False)\n",
    "#plt.show()"
   ]
  },
  {
   "cell_type": "markdown",
   "metadata": {},
   "source": [
    "# 构造word2vec训练样本"
   ]
  },
  {
   "cell_type": "code",
   "execution_count": 58,
   "metadata": {
    "collapsed": false
   },
   "outputs": [
    {
     "name": "stdout",
     "output_type": "stream",
     "text": [
      "{'I00-I99', 'V01-Y98', 'O00-O99', 'Q00-Q99', 'R00-R99', 'Z00-Z99', 'M00-M99', 'C00-D48', 'F01-F99', 'H60-H95', 'P00-P96', 'N00-N99', 'A00-B99', 'H00-H59', 'L00-L99', 'KOO-K93', 'U00-U99', 'D50-D89', 'S00-T98', 'J00-J99', 'G00-G99', 'E00-E90'}\n"
     ]
    }
   ],
   "source": [
    "firstCodeSet = set(pd_icd10_new[\"FirstCode\"].tolist())\n",
    "print(firstCodeSet)"
   ]
  },
  {
   "cell_type": "code",
   "execution_count": 61,
   "metadata": {
    "collapsed": true
   },
   "outputs": [],
   "source": [
    "def doListFormat(diseaseList):\n",
    "    for i in range(len(diseaseList)):\n",
    "        if pd.isnull(diseaseList[i]):\n",
    "            diseaseList[i] = \"\"\n",
    "        diseaseList[i] = diseaseList[i].strip()#.encode(\"utf8\")\n",
    "    return diseaseList\n",
    "def list2Save(disList, f):\n",
    "    disList = doListFormat(disList)\n",
    "    disLen = len(disList)\n",
    "    disNum = int(disLen/10)\n",
    "    #print(\"%d %d\" %(disLen, disNum))\n",
    "    i=0\n",
    "    for i in range(disNum):\n",
    "        tmpStr = \"\"\n",
    "        #print(disList[100*i:100*(i+1)])\n",
    "        tmpStr = \" \".join(disList[10*i:10*(i+1)])\n",
    "        f.write(tmpStr+\"\\n\")\n",
    "    #print(\"i=%d\" %(i))\n",
    "    tmpStr = \"\"\n",
    "    tmpStr = \" \".join(disList[10*i:disLen])\n",
    "    f.write(tmpStr+\"\\n\")"
   ]
  },
  {
   "cell_type": "code",
   "execution_count": 62,
   "metadata": {
    "collapsed": false
   },
   "outputs": [
    {
     "name": "stdout",
     "output_type": "stream",
     "text": [
      "(56416, 35)\n",
      "sum= 56416\n",
      "(56416, 35)\n",
      "sum= 56416\n",
      "(56416, 35)\n",
      "sum= 56416\n",
      "(56416, 35)\n",
      "sum= 56416\n"
     ]
    }
   ],
   "source": [
    "from random import shuffle\n",
    "def word2vecTrainMatch2txt(f,pd_dia_join_, columnName):\n",
    "    sum = 0\n",
    "    print(pd_dia_join_.shape)\n",
    "    for item in firstCodeSet:\n",
    "        #print(item)\n",
    "        pd_tmp = pd_dia_join_[pd_dia_join_[\"FirstCode\"]==item]\n",
    "       # print(\"1:\",pd_tmp.shape)\n",
    "        tmpList = pd_tmp[columnName].tolist()\n",
    "        #print(tmpList[0:100])\n",
    "        shuffle(tmpList)\n",
    "        sum += (len(tmpList))\n",
    "        #print(tmpList[0:100])\n",
    "        list2Save(tmpList,f)\n",
    "    print(\"sum=\",sum)\n",
    "columnNames = [\"admission_situationKey\",\"treat_processKey\",\"discharge_situationKey\", \"discharge_orderKey\" ]\n",
    "for columnName in columnNames:\n",
    "    f1 = open(\"word2vecDatasets/\"+columnName+\".txt\",\"w\")\n",
    "    word2vecTrainMatch2txt(f1,pd_dia_join_,columnName )\n",
    "    f1.close()"
   ]
  },
  {
   "cell_type": "markdown",
   "metadata": {},
   "source": [
    "# 统计目前数据对一级分类的覆盖"
   ]
  },
  {
   "cell_type": "code",
   "execution_count": 4,
   "metadata": {
    "collapsed": false
   },
   "outputs": [
    {
     "name": "stdout",
     "output_type": "stream",
     "text": [
      "(56416, 29)\n"
     ]
    }
   ],
   "source": [
    "import pandas as pd\n",
    "filePath = \"hospitalData//df_hospital_20171219_diseasematchKeyword.csv\"\n",
    "pd_poc = pd.read_csv(filePath,  encoding='utf8')\n",
    "print(pd_poc.shape)\n"
   ]
  },
  {
   "cell_type": "code",
   "execution_count": 5,
   "metadata": {
    "collapsed": false
   },
   "outputs": [],
   "source": [
    "tf_pd = sqlContext.createDataFrame(pd_poc[[\"DiseaseICD10\", \"FirstCode\"]])\n",
    "tf_pds= sqlContext.createDataFrame(pd_poc[[\"DiseaseICD10\", \"SecondCode\"]])"
   ]
  },
  {
   "cell_type": "code",
   "execution_count": 14,
   "metadata": {
    "collapsed": false
   },
   "outputs": [
    {
     "name": "stdout",
     "output_type": "stream",
     "text": [
      "+---------+--------+-------+\n",
      "|FirstCode|countAll|typeAll|\n",
      "+---------+--------+-------+\n",
      "|  G00-G99|    1861|     90|\n",
      "|  R00-R99|    3160|     99|\n",
      "+---------+--------+-------+\n",
      "only showing top 2 rows\n",
      "\n"
     ]
    }
   ],
   "source": [
    "df_first_num = tf_pd.groupBy(\"FirstCode\").count().withColumnRenamed(\"count\", \"countAll\")\n",
    "#df_first_num.show(2)\n",
    "df_first_type = tf_pd.distinct().groupBy(\"FirstCode\").count().withColumnRenamed(\"count\", \"typeAll\")\n",
    "#df_first_type.show(2)\n",
    "df_first_merge = df_first_num.join(df_first_type, \"FirstCode\")\n",
    "df_first_merge.show(2)\n"
   ]
  },
  {
   "cell_type": "code",
   "execution_count": 15,
   "metadata": {
    "collapsed": false
   },
   "outputs": [
    {
     "name": "stdout",
     "output_type": "stream",
     "text": [
      "+---------+--------+-------+--------------------+----------+\n",
      "|FirstCode|countAll|typeAll|           FirstType|ICD10Count|\n",
      "+---------+--------+-------+--------------------+----------+\n",
      "|  G00-G99|    1861|     90|              神经系统疾病|      1010|\n",
      "|  R00-R99|    3160|     99|症状、体症和临床与实验室异常所见，...|       615|\n",
      "|  L00-L99|     612|     84|            皮肤和皮下组织病|       788|\n",
      "|  E00-E90|    1347|     64|         内分泌、营养和代谢疾病|      1339|\n",
      "|  Z00-Z99|    2698|     55|    影响健康状态和保健机构接触的因素|       865|\n",
      "|  D50-D89|     542|     33|血液及造血器官疾病和某些涉及免疫机...|       410|\n",
      "|  C00-D48|    8705|    235|                  肿瘤|      2382|\n",
      "|  F01-F99|     164|     19|             精神和行为障碍|       522|\n",
      "|  P00-P96|     465|     27|         起源于围生期的某些情况|       399|\n",
      "|  V01-Y98|      11|      7|            疾病和死亡的外因|      1169|\n",
      "+---------+--------+-------+--------------------+----------+\n",
      "only showing top 10 rows\n",
      "\n"
     ]
    }
   ],
   "source": [
    "df_name = df_pd_icd10_new.select([\"FirstCode\",\"FirstType\"]).distinct()\n",
    "df_name.count()\n",
    "df_count = df_pd_icd10_new.groupby(\"FirstCode\").count().withColumnRenamed(\"count\", \"ICD10Count\")\n",
    "#df_count.show(2)\n",
    "df_first_merge =df_first_merge.join(df_name, \"FirstCode\").join(df_count, \"FirstCode\")\n",
    "df_first_merge.show(10)"
   ]
  },
  {
   "cell_type": "code",
   "execution_count": 16,
   "metadata": {
    "collapsed": false
   },
   "outputs": [
    {
     "name": "stdout",
     "output_type": "stream",
     "text": [
      "56416 2047\n",
      "                    FirstType FirstCode  ICD10Count  typeAll  typePerICD10  \\\n",
      "12                     呼吸系统疾病   J00-J99         660      127     19.242424   \n",
      "13                     消化系统疾病   KOO-K93        1346      254     18.870728   \n",
      "1   症状、体症和临床与实验室异常所见，不可归类在他处者   R00-R99         615       99     16.097561   \n",
      "18                     耳和乳突疾病   H60-H95         175       28     16.000000   \n",
      "11                   泌尿生殖系统疾病   N00-N99         979      144     14.708887   \n",
      "19                     循环系统疾病   I00-I99        1481      186     12.559082   \n",
      "10                     眼和附器疾病   H00-H59         804       97     12.064677   \n",
      "2                    皮肤和皮下组织病   L00-L99         788       84     10.659898   \n",
      "6                          肿瘤   C00-D48        2382      235      9.865659   \n",
      "0                      神经系统疾病   G00-G99        1010       90      8.910891   \n",
      "\n",
      "      typePer  countAll     numPer  \n",
      "12   6.204201      2800   4.963131  \n",
      "13  12.408403      5822  10.319767  \n",
      "1    4.836346      3160   5.601248  \n",
      "18   1.367855       281   0.498086  \n",
      "11   7.034685      3380   5.991208  \n",
      "19   9.086468     12769  22.633650  \n",
      "10   4.738642      1842   3.265031  \n",
      "2    4.103566       612   1.084799  \n",
      "6   11.480215      8705  15.430020  \n",
      "0    4.396678      1861   3.298710  \n"
     ]
    }
   ],
   "source": [
    "pd_df_first_merge = df_first_merge.toPandas()\n",
    "dis_nums = pd_df_first_merge[\"countAll\"].sum()\n",
    "dis_types = pd_df_first_merge[\"typeAll\"].sum()\n",
    "print(dis_nums, dis_types)\n",
    "pd_df_first_merge[\"typePerICD10\"] = pd_df_first_merge[\"typeAll\"]*100.0/pd_df_first_merge[\"ICD10Count\"]\n",
    "pd_df_first_merge[\"typePer\"] = pd_df_first_merge[\"typeAll\"]*100.0/dis_types\n",
    "pd_df_first_merge[\"numPer\"] = pd_df_first_merge[\"countAll\"]*100.0/dis_nums\n",
    "pd_df_first_merge.head(2)\n",
    "pandas_df3 = pd_df_first_merge[[\"FirstType\",\"FirstCode\",\"ICD10Count\",\"typeAll\",\"typePerICD10\",\"typePer\",\"countAll\",\"numPer\"]].sort_values(by='typePerICD10',ascending=False)\n",
    "print(pandas_df3.head(10))\n",
    "pandas_df3.to_excel(\"datasets/firstType.xlsx\")"
   ]
  },
  {
   "cell_type": "markdown",
   "metadata": {},
   "source": [
    "# 统计目前数据对二级分类的覆盖"
   ]
  },
  {
   "cell_type": "code",
   "execution_count": 17,
   "metadata": {
    "collapsed": false
   },
   "outputs": [
    {
     "name": "stdout",
     "output_type": "stream",
     "text": [
      "+----------+--------+-------+\n",
      "|SecondCode|countAll|typeAll|\n",
      "+----------+--------+-------+\n",
      "|   C45-C49|       8|      6|\n",
      "|   I05-I09|     239|      4|\n",
      "+----------+--------+-------+\n",
      "only showing top 2 rows\n",
      "\n"
     ]
    }
   ],
   "source": [
    "df_second_num = tf_pds.groupBy(\"SecondCode\").count().withColumnRenamed(\"count\", \"countAll\")\n",
    "df_second_type = tf_pds.distinct().groupBy(\"SecondCode\").count().withColumnRenamed(\"count\", \"typeAll\")\n",
    "df_second_merge = df_second_num.join(df_second_type, \"SecondCode\")\n",
    "df_second_merge.show(2)"
   ]
  },
  {
   "cell_type": "code",
   "execution_count": 18,
   "metadata": {
    "collapsed": false
   },
   "outputs": [
    {
     "name": "stdout",
     "output_type": "stream",
     "text": [
      "+----------+--------+-------+------------+---------+\n",
      "|SecondCode|countAll|typeAll|  SecondType|ICD10Nums|\n",
      "+----------+--------+-------+------------+---------+\n",
      "|   C45-C49|       8|      6|间皮组织和软组织恶性肿瘤|      121|\n",
      "|   I05-I09|     239|      4|    慢性风湿性心脏病|       37|\n",
      "+----------+--------+-------+------------+---------+\n",
      "only showing top 2 rows\n",
      "\n"
     ]
    }
   ],
   "source": [
    "df_nameSec = df_pd_icd10_new.select([\"SecondCode\",\"SecondType\"]).distinct()\n",
    "df_countSec = df_pd_icd10_new.groupby(\"SecondCode\").count().withColumnRenamed(\"count\", \"ICD10Nums\")\n",
    "df_sec_merge =df_second_merge.join(df_nameSec, \"SecondCode\").join(df_countSec, \"SecondCode\")\n",
    "df_sec_merge.show(2)\n",
    "pd_df_sec_merge = df_sec_merge.toPandas()\n",
    "pd_df_sec_merge[\"typePerICD10\"] = pd_df_sec_merge[\"typeAll\"]*100.0/pd_df_sec_merge[\"ICD10Nums\"]\n",
    "pd_df_sec_merge_sel = pd_df_sec_merge[[\"SecondType\",\"SecondCode\",\"ICD10Nums\",\"typeAll\",\"typePerICD10\",\"countAll\"]].sort_values(by='typePerICD10',ascending=False)\n"
   ]
  },
  {
   "cell_type": "markdown",
   "metadata": {},
   "source": [
    "# 统计目前数据对ICD10疾病的覆盖"
   ]
  },
  {
   "cell_type": "code",
   "execution_count": 19,
   "metadata": {
    "collapsed": false
   },
   "outputs": [
    {
     "data": {
      "text/html": [
       "<div>\n",
       "<table border=\"1\" class=\"dataframe\">\n",
       "  <thead>\n",
       "    <tr style=\"text-align: right;\">\n",
       "      <th></th>\n",
       "      <th>Code</th>\n",
       "      <th>DiseaseICD10</th>\n",
       "      <th>countAll</th>\n",
       "      <th>SecondCode</th>\n",
       "      <th>SecondType</th>\n",
       "      <th>FirstCode</th>\n",
       "      <th>FirstType</th>\n",
       "    </tr>\n",
       "  </thead>\n",
       "  <tbody>\n",
       "    <tr>\n",
       "      <th>736</th>\n",
       "      <td>I63.902</td>\n",
       "      <td>脑梗死</td>\n",
       "      <td>5112</td>\n",
       "      <td>I60-I69</td>\n",
       "      <td>脑血管病</td>\n",
       "      <td>I00-I99</td>\n",
       "      <td>循环系统疾病</td>\n",
       "    </tr>\n",
       "    <tr>\n",
       "      <th>727</th>\n",
       "      <td>B08.401</td>\n",
       "      <td>手足口病</td>\n",
       "      <td>2217</td>\n",
       "      <td>B00-B09</td>\n",
       "      <td>特征为皮肤和粘膜损害的病毒性感染</td>\n",
       "      <td>A00-B99</td>\n",
       "      <td>某些传染病和寄生虫病</td>\n",
       "    </tr>\n",
       "  </tbody>\n",
       "</table>\n",
       "</div>"
      ],
      "text/plain": [
       "        Code DiseaseICD10  countAll SecondCode        SecondType FirstCode  \\\n",
       "736  I63.902          脑梗死      5112    I60-I69              脑血管病   I00-I99   \n",
       "727  B08.401         手足口病      2217    B00-B09  特征为皮肤和粘膜损害的病毒性感染   A00-B99   \n",
       "\n",
       "      FirstType  \n",
       "736      循环系统疾病  \n",
       "727  某些传染病和寄生虫病  "
      ]
     },
     "execution_count": 19,
     "metadata": {},
     "output_type": "execute_result"
    }
   ],
   "source": [
    "df_pdall = sqlContext.createDataFrame(pd_poc[['Code','DiseaseICD10','SecondCode','SecondType','FirstCode','FirstType']])\n",
    "#df_pdall.show(2)\n",
    "df_dis_num = df_pdall.groupBy(\"DiseaseICD10\").count().withColumnRenamed(\"count\", \"countAll\")\n",
    "#df_dis_num.show(2)\n",
    "df_dis_merge = df_pdall.join(df_dis_num,\"DiseaseICD10\"  ).distinct()\n",
    "pd_dis_sel = df_dis_merge.toPandas()[['Code','DiseaseICD10','countAll','SecondCode','SecondType','FirstCode','FirstType']].sort_values(by='countAll',ascending=False)\n",
    "pd_dis_sel.head(2)"
   ]
  },
  {
   "cell_type": "code",
   "execution_count": 21,
   "metadata": {
    "collapsed": true
   },
   "outputs": [],
   "source": [
    "writer = pd.ExcelWriter('datasets/hospital_discharge_threeTypes20180103.xlsx')\n",
    "pandas_df3.to_excel(writer,\"一级分类统计\")\n",
    "pd_df_sec_merge_sel.to_excel(writer,'二级分类统计')\n",
    "pd_dis_sel.to_excel(writer,\"疾病统计\")\n",
    "writer.save()"
   ]
  },
  {
   "cell_type": "code",
   "execution_count": 23,
   "metadata": {
    "collapsed": false
   },
   "outputs": [
    {
     "data": {
      "text/html": [
       "<div>\n",
       "<table border=\"1\" class=\"dataframe\">\n",
       "  <thead>\n",
       "    <tr style=\"text-align: right;\">\n",
       "      <th></th>\n",
       "      <th>FirstType</th>\n",
       "      <th>FirstCode</th>\n",
       "      <th>ICD10Count</th>\n",
       "      <th>typeAll</th>\n",
       "      <th>typePerICD10</th>\n",
       "      <th>typePer</th>\n",
       "      <th>countAll</th>\n",
       "      <th>numPer</th>\n",
       "    </tr>\n",
       "  </thead>\n",
       "  <tbody>\n",
       "    <tr>\n",
       "      <th>12</th>\n",
       "      <td>呼吸系统疾病</td>\n",
       "      <td>J00-J99</td>\n",
       "      <td>660</td>\n",
       "      <td>127</td>\n",
       "      <td>19.242424</td>\n",
       "      <td>6.204201</td>\n",
       "      <td>2800</td>\n",
       "      <td>4.963131</td>\n",
       "    </tr>\n",
       "    <tr>\n",
       "      <th>13</th>\n",
       "      <td>消化系统疾病</td>\n",
       "      <td>KOO-K93</td>\n",
       "      <td>1346</td>\n",
       "      <td>254</td>\n",
       "      <td>18.870728</td>\n",
       "      <td>12.408403</td>\n",
       "      <td>5822</td>\n",
       "      <td>10.319767</td>\n",
       "    </tr>\n",
       "    <tr>\n",
       "      <th>1</th>\n",
       "      <td>症状、体症和临床与实验室异常所见，不可归类在他处者</td>\n",
       "      <td>R00-R99</td>\n",
       "      <td>615</td>\n",
       "      <td>99</td>\n",
       "      <td>16.097561</td>\n",
       "      <td>4.836346</td>\n",
       "      <td>3160</td>\n",
       "      <td>5.601248</td>\n",
       "    </tr>\n",
       "    <tr>\n",
       "      <th>18</th>\n",
       "      <td>耳和乳突疾病</td>\n",
       "      <td>H60-H95</td>\n",
       "      <td>175</td>\n",
       "      <td>28</td>\n",
       "      <td>16.000000</td>\n",
       "      <td>1.367855</td>\n",
       "      <td>281</td>\n",
       "      <td>0.498086</td>\n",
       "    </tr>\n",
       "    <tr>\n",
       "      <th>11</th>\n",
       "      <td>泌尿生殖系统疾病</td>\n",
       "      <td>N00-N99</td>\n",
       "      <td>979</td>\n",
       "      <td>144</td>\n",
       "      <td>14.708887</td>\n",
       "      <td>7.034685</td>\n",
       "      <td>3380</td>\n",
       "      <td>5.991208</td>\n",
       "    </tr>\n",
       "    <tr>\n",
       "      <th>19</th>\n",
       "      <td>循环系统疾病</td>\n",
       "      <td>I00-I99</td>\n",
       "      <td>1481</td>\n",
       "      <td>186</td>\n",
       "      <td>12.559082</td>\n",
       "      <td>9.086468</td>\n",
       "      <td>12769</td>\n",
       "      <td>22.633650</td>\n",
       "    </tr>\n",
       "    <tr>\n",
       "      <th>10</th>\n",
       "      <td>眼和附器疾病</td>\n",
       "      <td>H00-H59</td>\n",
       "      <td>804</td>\n",
       "      <td>97</td>\n",
       "      <td>12.064677</td>\n",
       "      <td>4.738642</td>\n",
       "      <td>1842</td>\n",
       "      <td>3.265031</td>\n",
       "    </tr>\n",
       "    <tr>\n",
       "      <th>2</th>\n",
       "      <td>皮肤和皮下组织病</td>\n",
       "      <td>L00-L99</td>\n",
       "      <td>788</td>\n",
       "      <td>84</td>\n",
       "      <td>10.659898</td>\n",
       "      <td>4.103566</td>\n",
       "      <td>612</td>\n",
       "      <td>1.084799</td>\n",
       "    </tr>\n",
       "    <tr>\n",
       "      <th>6</th>\n",
       "      <td>肿瘤</td>\n",
       "      <td>C00-D48</td>\n",
       "      <td>2382</td>\n",
       "      <td>235</td>\n",
       "      <td>9.865659</td>\n",
       "      <td>11.480215</td>\n",
       "      <td>8705</td>\n",
       "      <td>15.430020</td>\n",
       "    </tr>\n",
       "    <tr>\n",
       "      <th>0</th>\n",
       "      <td>神经系统疾病</td>\n",
       "      <td>G00-G99</td>\n",
       "      <td>1010</td>\n",
       "      <td>90</td>\n",
       "      <td>8.910891</td>\n",
       "      <td>4.396678</td>\n",
       "      <td>1861</td>\n",
       "      <td>3.298710</td>\n",
       "    </tr>\n",
       "  </tbody>\n",
       "</table>\n",
       "</div>"
      ],
      "text/plain": [
       "                    FirstType FirstCode  ICD10Count  typeAll  typePerICD10  \\\n",
       "12                     呼吸系统疾病   J00-J99         660      127     19.242424   \n",
       "13                     消化系统疾病   KOO-K93        1346      254     18.870728   \n",
       "1   症状、体症和临床与实验室异常所见，不可归类在他处者   R00-R99         615       99     16.097561   \n",
       "18                     耳和乳突疾病   H60-H95         175       28     16.000000   \n",
       "11                   泌尿生殖系统疾病   N00-N99         979      144     14.708887   \n",
       "19                     循环系统疾病   I00-I99        1481      186     12.559082   \n",
       "10                     眼和附器疾病   H00-H59         804       97     12.064677   \n",
       "2                    皮肤和皮下组织病   L00-L99         788       84     10.659898   \n",
       "6                          肿瘤   C00-D48        2382      235      9.865659   \n",
       "0                      神经系统疾病   G00-G99        1010       90      8.910891   \n",
       "\n",
       "      typePer  countAll     numPer  \n",
       "12   6.204201      2800   4.963131  \n",
       "13  12.408403      5822  10.319767  \n",
       "1    4.836346      3160   5.601248  \n",
       "18   1.367855       281   0.498086  \n",
       "11   7.034685      3380   5.991208  \n",
       "19   9.086468     12769  22.633650  \n",
       "10   4.738642      1842   3.265031  \n",
       "2    4.103566       612   1.084799  \n",
       "6   11.480215      8705  15.430020  \n",
       "0    4.396678      1861   3.298710  "
      ]
     },
     "execution_count": 23,
     "metadata": {},
     "output_type": "execute_result"
    }
   ],
   "source": [
    "pandas_df3.head(10)"
   ]
  },
  {
   "cell_type": "code",
   "execution_count": null,
   "metadata": {
    "collapsed": true
   },
   "outputs": [],
   "source": []
  }
 ],
 "metadata": {
  "anaconda-cloud": {},
  "kernelspec": {
   "display_name": "Python [default]",
   "language": "python",
   "name": "python3"
  },
  "language_info": {
   "codemirror_mode": {
    "name": "ipython",
    "version": 3
   },
   "file_extension": ".py",
   "mimetype": "text/x-python",
   "name": "python",
   "nbconvert_exporter": "python",
   "pygments_lexer": "ipython3",
   "version": "3.5.2"
  }
 },
 "nbformat": 4,
 "nbformat_minor": 1
}
