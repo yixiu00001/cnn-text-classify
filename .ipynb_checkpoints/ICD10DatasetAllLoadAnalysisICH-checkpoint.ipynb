{
 "cells": [
  {
   "cell_type": "code",
   "execution_count": 1,
   "metadata": {
    "collapsed": true
   },
   "outputs": [],
   "source": [
    "# -*- coding: utf8 -*-"
   ]
  },
  {
   "cell_type": "code",
   "execution_count": 2,
   "metadata": {
    "collapsed": true
   },
   "outputs": [],
   "source": [
    "from pyspark import SparkConf, SparkContext\n",
    "from pyspark.sql import SQLContext\n",
    "conf = SparkConf().setAppName(\"hospitalDiseaseAll\")\n",
    "sc = SparkContext(conf=conf)"
   ]
  },
  {
   "cell_type": "code",
   "execution_count": 3,
   "metadata": {
    "collapsed": true
   },
   "outputs": [],
   "source": [
    "sqlContext = SQLContext(sc)"
   ]
  },
  {
   "cell_type": "markdown",
   "metadata": {},
   "source": [
    "#### mode: determines the parsing mode. By default it is PERMISSIVE. Possible values are:\n",
    "PERMISSIVE: tries to parse all lines: nulls are inserted for missing tokens and extra tokens are ignored.DROPMALFORMED: drops lines which have fewer or more tokens than expected or tokens which do not match the schema FAILFAST: aborts with a RuntimeException if encounters any malformed line   charset: defaults to 'UTF-8' but can be set to other valid charset names"
   ]
  },
  {
   "cell_type": "markdown",
   "metadata": {},
   "source": [
    "### 加载病案首页"
   ]
  },
  {
   "cell_type": "code",
   "execution_count": 4,
   "metadata": {
    "collapsed": false
   },
   "outputs": [
    {
     "name": "stdout",
     "output_type": "stream",
     "text": [
      "datasets count= 50542609\n",
      "+-----------------+-------------------+---+--------------+----------------+------------+-----------------+--------------+-------------------+----------+---------+\n",
      "|               ID|             DCS_ID| SN|DIAGNOSIS_TYPE|    DISEASE_CODE|     DISEASE|IS_CAWM_DIAGNOSIS|DIAGNOSIS_DATE|ADMISSION_CONDITION|CREATED_AT|NODE_TYPE|\n",
      "+-----------------+-------------------+---+--------------+----------------+------------+-----------------+--------------+-------------------+----------+---------+\n",
      "|49300074532186399|493000745z002604-32|  3|             0|493000745I25.103|冠状动脉粥样硬化性心脏病|                2|      20171218|               null|      null|        1|\n",
      "|49300074532186400|493000745z002604-32|  4|             0|         I25.500|      缺血性心肌病|                2|      20171218|               null|      null|        1|\n",
      "|49300074532186401|493000745z002604-32|  5|             0|493000745I50.901|       心功能不全|                2|      20171218|               null|      null|        1|\n",
      "|49300074532194547|493000745z002604-32|  5|             0|493000745I50.901|       心功能不全|                2|      20180103|               null|      null|        1|\n",
      "|49300074532185028|493000745z002604-32|  1|             1|493000745I51.904|         心脏病|                2|      20171208|               null|      null|        1|\n",
      "+-----------------+-------------------+---+--------------+----------------+------------+-----------------+--------------+-------------------+----------+---------+\n",
      "only showing top 5 rows\n",
      "\n"
     ]
    }
   ],
   "source": [
    "filePathICH = \"/data/icd10-2/ich_record_diagnosis.csv\"\n",
    "df = sqlContext\\\n",
    "    .read.format(\"com.databricks.spark.csv\")\\\n",
    "    .option(\"header\", \"true\")\\\n",
    "    .option(\"inferschema\", \"true\")\\\n",
    "    .option(\"mode\", \"DROPMALFORMED\")\\\n",
    "    .load(filePathICH)\n",
    "    #.load(\"/data/icd10/hospitaldischarge.csv\")\n",
    "print(\"datasets count=\", df.count())\n",
    "df.show(5)"
   ]
  },
  {
   "cell_type": "code",
   "execution_count": 5,
   "metadata": {
    "collapsed": false
   },
   "outputs": [
    {
     "name": "stdout",
     "output_type": "stream",
     "text": [
      "DropDuplicates counts= 36037002\n"
     ]
    }
   ],
   "source": [
    "df_ = df.dropDuplicates()\n",
    "print(\"DropDuplicates counts=\", df_.count())"
   ]
  },
  {
   "cell_type": "code",
   "execution_count": 6,
   "metadata": {
    "collapsed": false
   },
   "outputs": [
    {
     "name": "stdout",
     "output_type": "stream",
     "text": [
      "Remove NULL counts: 36036934\n"
     ]
    }
   ],
   "source": [
    "df_ich = df_.filter((df_.DISEASE!=\"NULL\") &(df_.DISEASE.isNotNull())).dropDuplicates()\n",
    "print(\"Remove NULL counts:\",df_ich.count())"
   ]
  },
  {
   "cell_type": "code",
   "execution_count": 7,
   "metadata": {
    "collapsed": true
   },
   "outputs": [],
   "source": [
    "#df_ich_count = 36036934"
   ]
  },
  {
   "cell_type": "code",
   "execution_count": 8,
   "metadata": {
    "collapsed": true
   },
   "outputs": [],
   "source": [
    "df_ich_count = df_ich.count()"
   ]
  },
  {
   "cell_type": "code",
   "execution_count": 9,
   "metadata": {
    "collapsed": true
   },
   "outputs": [],
   "source": [
    "icd = sqlContext.read.format(\"com.databricks.spark.csv\")\\\n",
    "        .option(\"header\", \"true\")\\\n",
    "        .option(\"inferschema\", \"true\")\\\n",
    "        .option(\"mode\", \"DROPMALFORMED\")\\\n",
    "        .load(\"/data/icd10-2/icd.csv\")\n",
    "            \n",
    "icd10_disease_code = icd.select([\"Disease\",\"Code\"]).toPandas()\n",
    "icd10_disease = icd10_disease_code[\"Disease\"].tolist()\n",
    "icd10_code = icd10_disease_code[\"Code\"].tolist()\n"
   ]
  },
  {
   "cell_type": "code",
   "execution_count": 10,
   "metadata": {
    "collapsed": true
   },
   "outputs": [],
   "source": [
    "def diseaseToCode(disease):\n",
    "    icd_dict = {}\n",
    "    for i in range(len(icd10_disease)):\n",
    "        icd_dict[icd10_disease[i]] = icd10_code[i]\n",
    "    if disease in icd10_disease:\n",
    "        code = icd_dict[disease]\n",
    "    else:\n",
    "        code = \"888888888\"\n",
    "    return code"
   ]
  },
  {
   "cell_type": "code",
   "execution_count": 11,
   "metadata": {
    "collapsed": true
   },
   "outputs": [],
   "source": [
    "import re\n",
    "def doWordFormat(word):\n",
    "    word = word.strip()\n",
    "    word = word.replace(\"（\",\"(\")\n",
    "    word = word.replace(\"）\",\")\")\n",
    "    word = word.replace(\" \",\"\")\n",
    "    fil1 = re.compile(r'\\((.*?)\\)' )\n",
    "    wordFilter = fil1.sub('',word)#.decode(\"utf8\")\n",
    "    r1 = u'[0-9_’!\"#$%&\\'*+,-./:;<=>?@，。、…【】《》？“”‘’！[\\\\]^_`{|}~]+'\n",
    "    filtered_strs = re.sub(r1, \" \", wordFilter)\n",
    "    return filtered_strs"
   ]
  },
  {
   "cell_type": "code",
   "execution_count": 12,
   "metadata": {
    "collapsed": false
   },
   "outputs": [],
   "source": [
    "from pyspark.sql.functions import udf\n",
    "newCode = udf(lambda x: diseaseToCode(x))\n",
    "diseaseFormat = udf(lambda x: doWordFormat(x))"
   ]
  },
  {
   "cell_type": "code",
   "execution_count": 13,
   "metadata": {
    "collapsed": false
   },
   "outputs": [
    {
     "name": "stdout",
     "output_type": "stream",
     "text": [
      "+------------------+------------------+----+--------------+--------------------+-------+-----------------+--------------+-------------------+--------------------+---------+---------+--------------+-----------+\n",
      "|                ID|            DCS_ID|  SN|DIAGNOSIS_TYPE|        DISEASE_CODE|DISEASE|IS_CAWM_DIAGNOSIS|DIAGNOSIS_DATE|ADMISSION_CONDITION|          CREATED_AT|NODE_TYPE| CODE_ICD|DISEASE_FORMAT|FORMAT_CODE|\n",
      "+------------------+------------------+----+--------------+--------------------+-------+-----------------+--------------+-------------------+--------------------+---------+---------+--------------+-----------+\n",
      "|493000577005371561|493000577005371561|   1|            03|             P23.901|  新生儿肺炎|                2|      20180104|               null|                null|        1|  P23.901|         新生儿肺炎|    P23.901|\n",
      "|493000577005374142|493000577005374142|   2|            03|             O69.101| 脐带绕颈2周|                2|      20180104|               null|                null|        1|888888888|        脐带绕颈 周|  888888888|\n",
      "|   493000665175676|   493000665175676|null|             1|17558.00000000000000|   手指损伤|                1|      05/08/20|               null|29-DEC-17 12.30.2...|        1|  S69.904|          手指损伤|    S69.904|\n",
      "+------------------+------------------+----+--------------+--------------------+-------+-----------------+--------------+-------------------+--------------------+---------+---------+--------------+-----------+\n",
      "only showing top 3 rows\n",
      "\n"
     ]
    }
   ],
   "source": [
    "df_ich_join = df_ich.withColumn(\"CODE_ICD\", newCode(df_ich.DISEASE))\n",
    "df_ich_join = df_ich_join.withColumn(\"DISEASE_FORMAT\", diseaseFormat(df_ich_join.DISEASE))\n",
    "df_diag_join = df_ich_join.withColumn(\"FORMAT_CODE\", newCode(df_ich_join.DISEASE_FORMAT))\n",
    "df_diag_join.show(3)"
   ]
  },
  {
   "cell_type": "markdown",
   "metadata": {},
   "source": [
    "#### 疾病名称与icd10一致"
   ]
  },
  {
   "cell_type": "code",
   "execution_count": 15,
   "metadata": {
    "collapsed": false
   },
   "outputs": [
    {
     "name": "stdout",
     "output_type": "stream",
     "text": [
      "disease same count: 18019185 , percent=0.500020 \n"
     ]
    }
   ],
   "source": [
    "#def calPercent(df_ich_join):\n",
    "df_ich_dis = df_ich_join.filter(df_ich_join['DISEASE_FORMAT'].isin(icd10_disease))\n",
    "df_ich_dis_count = df_ich_dis.count()\n",
    "print(\"disease same count: %d , percent=%f \" %(df_ich_dis_count, df_ich_dis_count*1.0/df_ich_count))"
   ]
  },
  {
   "cell_type": "code",
   "execution_count": 16,
   "metadata": {
    "collapsed": false
   },
   "outputs": [
    {
     "name": "stdout",
     "output_type": "stream",
     "text": [
      "I50.901\n",
      "+------------------+------------------+----+--------------+--------------------+-------+-----------------+--------------+-------------------+--------------------+---------+--------+--------------+-----------+\n",
      "|                ID|            DCS_ID|  SN|DIAGNOSIS_TYPE|        DISEASE_CODE|DISEASE|IS_CAWM_DIAGNOSIS|DIAGNOSIS_DATE|ADMISSION_CONDITION|          CREATED_AT|NODE_TYPE|CODE_ICD|DISEASE_FORMAT|Code_FORMAT|\n",
      "+------------------+------------------+----+--------------+--------------------+-------+-----------------+--------------+-------------------+--------------------+---------+--------+--------------+-----------+\n",
      "|493000577005371561|493000577005371561|   1|            03|             P23.901|  新生儿肺炎|                2|      20180104|               null|                null|        1| P23.901|         新生儿肺炎|    P23.901|\n",
      "|   493000665175676|   493000665175676|null|             1|17558.00000000000000|   手指损伤|                1|      05/08/20|               null|29-DEC-17 12.30.2...|        1| S69.904|          手指损伤|    0000000|\n",
      "+------------------+------------------+----+--------------+--------------------+-------+-----------------+--------------+-------------------+--------------------+---------+--------+--------------+-----------+\n",
      "only showing top 2 rows\n",
      "\n",
      "disease sanme and code isnot null: 18019185\n"
     ]
    }
   ],
   "source": [
    "tmp=\"493000745I50.901\"\n",
    "print(tmp[-7:])\n",
    "codeFormat = udf(lambda x: x[-7:] )\n",
    "df_ich_dis_ = df_ich_dis.filter(df_ich_dis.DISEASE_CODE.isNotNull())\n",
    "#df_ich_dis__ = df_ich_dis.withColumn(\"Code_FORMAT\", codeFormat(df_ich_dis.DISEASE_CODE) )\n",
    "df_ich_dis_.show(2)\n",
    "df_ich_dis_count = df_ich_dis_.count()\n",
    "print(\"disease sanme and code isnot null:\",df_ich_dis_count )"
   ]
  },
  {
   "cell_type": "markdown",
   "metadata": {},
   "source": [
    "#### 疾病名称和code与icd10一致"
   ]
  },
  {
   "cell_type": "code",
   "execution_count": 19,
   "metadata": {
    "collapsed": false
   },
   "outputs": [
    {
     "name": "stdout",
     "output_type": "stream",
     "text": [
      "join count= 8326887\n"
     ]
    }
   ],
   "source": [
    "#df_ich_dis_code = df_ich_dis__.filter((df_ich_dis.Code_FORMAT.isNotNull() )&( df_ich_dis.CODE_ICD.isNotNull()))\n",
    "#df_ich_dis_code_ = df_ich_dis__.filter(df_ich_dis__['Code_FORMAT']==df_ich_dis__[\"CODE_ICD\"])\n",
    "#df_ich_code_count = df_ich_dis_code_.count()\n",
    "#print(\"disease and code both same count: %d , percent=%f \" %(df_ich_code_count, df_ich_code_count*1.0/df_ich_count))\n",
    "df_ich_dis_join = df_ich_dis_.join(icd, df_ich_dis_['DISEASE_CODE']==icd['Code'])\n",
    "df_ich_dis_join_count = df_ich_dis_join.count()\n",
    "print(\"join count=%d, percent=%f\" %(df_ich_dis_join_count, df_ich_dis_join_count*1.0/df_ich_count)\n"
   ]
  },
  {
   "cell_type": "code",
   "execution_count": 20,
   "metadata": {
    "collapsed": false
   },
   "outputs": [
    {
     "data": {
      "text/plain": [
       "0.23106535644791534"
      ]
     },
     "execution_count": 20,
     "metadata": {},
     "output_type": "execute_result"
    }
   ],
   "source": [
    "8326887*1.0/df_ich_count"
   ]
  },
  {
   "cell_type": "code",
   "execution_count": null,
   "metadata": {
    "collapsed": true
   },
   "outputs": [],
   "source": [
    "df_ich_dis_join5 = df_ich_dis_.join(icd, df_ich_dis_['DISEASE_CODE'].substr(1,6)==icd['Code'].substr(1,6))\n",
    "print(\"disease and code5 both same count: %d , percent=%f \" %(df_ich_code5_count, df_ich_code5_count*1.0/df_ich_count))"
   ]
  },
  {
   "cell_type": "code",
   "execution_count": null,
   "metadata": {
    "collapsed": true
   },
   "outputs": [],
   "source": []
  }
 ],
 "metadata": {
  "kernelspec": {
   "display_name": "Python [default]",
   "language": "python",
   "name": "python3"
  },
  "language_info": {
   "codemirror_mode": {
    "name": "ipython",
    "version": 3
   },
   "file_extension": ".py",
   "mimetype": "text/x-python",
   "name": "python",
   "nbconvert_exporter": "python",
   "pygments_lexer": "ipython3",
   "version": "3.5.2"
  }
 },
 "nbformat": 4,
 "nbformat_minor": 1
}
