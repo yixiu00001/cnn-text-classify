{
 "cells": [
  {
   "cell_type": "code",
   "execution_count": 1,
   "metadata": {
    "collapsed": true
   },
   "outputs": [],
   "source": [
    "# _*_coding:utf-8 _*_"
   ]
  },
  {
   "cell_type": "code",
   "execution_count": 2,
   "metadata": {
    "collapsed": true
   },
   "outputs": [],
   "source": [
    "import fasttext\n",
    "from medicalDataLoad import *\n",
    "from time import time"
   ]
  },
  {
   "cell_type": "markdown",
   "metadata": {},
   "source": [
    "### 训练模型"
   ]
  },
  {
   "cell_type": "code",
   "execution_count": 3,
   "metadata": {
    "collapsed": false
   },
   "outputs": [
    {
     "name": "stdout",
     "output_type": "stream",
     "text": [
      "fasttext trained in 0.0 seconds\n"
     ]
    }
   ],
   "source": [
    "t0 = time()\n",
    "classifier = fasttext.supervised(\"datasets/fastText.train\",\"disease_fasttext1.model\",label_prefix=\"__label__\")\n",
    "tt = time() - t0\n",
    "print (\"fasttext trained in {} seconds\".format(round(tt,3)))"
   ]
  },
  {
   "cell_type": "markdown",
   "metadata": {},
   "source": [
    "### 测试模型"
   ]
  },
  {
   "cell_type": "code",
   "execution_count": 4,
   "metadata": {
    "collapsed": false
   },
   "outputs": [],
   "source": [
    "#测试模型\n",
    "testPath = \"datasets/fastText.test\"\n",
    "result = classifier.test(testPath)\n",
    "print (result.precision)\n",
    "print (result.recall)"
   ]
  },
  {
   "cell_type": "code",
   "execution_count": 30,
   "metadata": {
    "collapsed": false
   },
   "outputs": [
    {
     "name": "stdout",
     "output_type": "stream",
     "text": [
      "fasttext trained in 1.354 seconds\n",
      "test precision: 0.9044328166650212\n",
      "test recall: 0.9044328166650212\n"
     ]
    }
   ],
   "source": [
    "def trainAndTest(trainPath, testPath, modelPath):\n",
    "    t0 = time()\n",
    "    classifier = fasttext.supervised(trainPath,modelPath,label_prefix=\"__label__\")\n",
    "    tt = time() - t0\n",
    "    print (\"fasttext trained in {} seconds\".format(round(tt,3)))\n",
    "    \n",
    "    #测试模型\n",
    "    result = classifier.test(testPath)\n",
    "    print (\"test precision:\",result.precision)\n",
    "    print (\"test recall:\",result.recall)\n",
    "trainPath = \"datasets/fastText.train\"\n",
    "testPath = \"datasets/fastText.test\"\n",
    "modelPath = \"datasets/disease_fasttext.model\"\n",
    "trainAndTest(trainPath, testPath, modelPath)"
   ]
  },
  {
   "cell_type": "markdown",
   "metadata": {},
   "source": [
    "### 测试单分类准确"
   ]
  },
  {
   "cell_type": "code",
   "execution_count": 5,
   "metadata": {
    "collapsed": true
   },
   "outputs": [],
   "source": [
    "classifier = fasttext.load_model('disease_fasttext.model.bin', label_prefix='__label__')"
   ]
  },
  {
   "cell_type": "code",
   "execution_count": 22,
   "metadata": {
    "collapsed": false
   },
   "outputs": [
    {
     "name": "stdout",
     "output_type": "stream",
     "text": [
      "[8.0, 13.0, 10.0, 10.0, 10.0, 10.0, 10.0, 10.0, 10.0, 10.0, 10.0, 10.0, 10.0, 10.0, 10.0, 10.0, 10.0, 10.0, 10.0, 10.0, 10.0, 10.0, 10.0, 10.0, 10.0, 9.0, 10.0, 10.0, 10.0, 10.0]\n",
      "true_label; [19.0, 19.0, 10.0, 10.0, 10.0, 10.0, 10.0, 10.0, 10.0, 10.0, 10.0, 10.0, 10.0, 10.0, 10.0, 10.0, 10.0, 10.0, 10.0, 10.0]\n",
      "kappa_score =  0.873147703896\n",
      "Print classificatioin report:\n",
      "             precision    recall  f1-score   support\n",
      "\n",
      "        0.0       0.99      0.86      0.92       610\n",
      "        1.0       0.96      0.97      0.96      1575\n",
      "        2.0       0.92      0.12      0.22        98\n",
      "        3.0       0.91      0.83      0.87       239\n",
      "        4.0       0.35      0.28      0.31        29\n",
      "        5.0       0.97      0.73      0.83       330\n",
      "        6.0       0.92      0.96      0.94       331\n",
      "        7.0       0.00      0.00      0.00        51\n",
      "        8.0       0.94      0.98      0.96      2293\n",
      "        9.0       0.59      0.95      0.73       497\n",
      "       10.0       0.88      0.94      0.91      1046\n",
      "       11.0       0.64      0.68      0.66       111\n",
      "       12.0       0.91      0.92      0.91       314\n",
      "       13.0       0.78      0.96      0.86       608\n",
      "       14.0       0.87      0.94      0.90       459\n",
      "       15.0       0.99      0.92      0.95        83\n",
      "       16.0       0.77      0.33      0.47        81\n",
      "       17.0       0.86      0.57      0.68       584\n",
      "       18.0       0.86      0.73      0.79       303\n",
      "       19.0       0.00      0.00      0.00         2\n",
      "       20.0       0.98      0.88      0.93       485\n",
      "\n",
      "avg / total       0.89      0.89      0.88     10129\n",
      "\n",
      "Confusion matrix:\n",
      "526   1     0     1     0     0     0     0     4     48    6     11    1     3     5     0     0     2     2     0     0     \n",
      "0     1520  0     1     0     2     2     0     3     8     20    3     0     5     0     0     0     3     4     0     4     \n",
      "1     17    12    0     0     0     0     0     23    10    9     7     0     3     0     0     2     13    0     0     1     \n",
      "0     0     0     198   0     0     1     0     12    19    2     0     0     5     1     0     0     0     1     0     0     \n",
      "0     2     0     0     8     2     0     0     10    2     0     1     0     0     0     0     0     2     2     0     0     \n",
      "0     4     0     3     4     241   1     0     25    22    0     0     21    1     3     0     0     2     3     0     0     \n",
      "0     0     0     0     2     1     319   0     3     1     1     2     0     0     0     1     0     0     1     0     0     \n",
      "2     0     0     0     9     0     0     0     15    6     0     1     0     1     9     0     6     1     1     0     0     \n",
      "0     0     0     5     0     2     0     0     2239  24    6     1     0     4     0     0     0     11    1     0     0     \n",
      "2     1     0     1     0     0     0     0     3     472   2     2     1     2     0     0     0     5     6     0     0     \n",
      "0     12    0     1     0     0     1     0     1     25    987   0     0     8     0     0     0     8     3     0     0     \n",
      "0     4     1     0     0     0     0     0     1     15    8     75    0     4     2     0     0     0     0     0     1     \n",
      "0     0     0     5     0     0     0     0     3     4     3     0     289   3     3     0     0     0     4     0     0     \n",
      "0     0     0     0     0     0     0     0     0     5     1     2     0     585   11    0     0     1     1     0     2     \n",
      "0     0     0     1     0     0     0     0     1     6     1     0     0     18    431   0     0     0     0     0     1     \n",
      "0     0     0     0     0     0     0     0     0     2     2     0     0     0     0     76    0     3     0     0     0     \n",
      "0     0     0     0     0     0     0     0     2     5     2     0     0     40    4     0     27    1     0     0     0     \n",
      "3     3     0     1     0     0     0     0     26    103   61    2     0     30    21    0     0     332   2     0     0     \n",
      "0     1     0     0     0     0     17    0     6     14    3     11    6     21    2     0     0     0     222   0     0     \n",
      "0     0     0     0     0     0     0     0     1     0     0     0     0     1     0     0     0     0     0     0     0     \n",
      "0     16    0     1     0     0     5     0     1     3     9     0     0     13    3     0     0     2     4     0     428   \n",
      "Print precisiion recall and F1-SCORE\n",
      "true count :  {0.0: 610, 1.0: 1575, 2.0: 98, 3.0: 239, 4.0: 29, 5.0: 330, 6.0: 331, 7.0: 51, 8.0: 2293, 9.0: 497, 10.0: 1046, 11.0: 111, 12.0: 314, 13.0: 608, 14.0: 459, 15.0: 83, 16.0: 81, 17.0: 584, 18.0: 303, 19.0: 2, 20.0: 485}\n"
     ]
    },
    {
     "name": "stderr",
     "output_type": "stream",
     "text": [
      "/opt/anaconda3/lib/python3.5/site-packages/sklearn/metrics/classification.py:1074: UndefinedMetricWarning: Precision and F-score are ill-defined and being set to 0.0 in labels with no predicted samples.\n",
      "  'precision', 'predicted', average, warn_for)\n"
     ]
    },
    {
     "data": {
      "image/png": "[encoded data removed]",
      "text/plain": [
       "<matplotlib.figure.Figure at 0x7f5cecf659b0>"
      ]
     },
     "metadata": {},
     "output_type": "display_data"
    }
   ],
   "source": [
    "from sklearn.metrics import classification_report\n",
    "from sklearn.metrics import confusion_matrix\n",
    "from sklearn.metrics import cohen_kappa_score\n",
    "from ModelVisualization import *\n",
    "\n",
    "def testPre(testPath, labelPath):\n",
    "    testFile = open(testPath)\n",
    "    predict_label = [float(e[0]) for e in classifier.predict(testFile)]\n",
    "    print(predict_label[0:30])\n",
    "   \n",
    "    labels_right = list(open(labelPath).readlines()) \n",
    "    true_label = [item .strip().replace(\"__label__\",\"\") for item in labels_right] \n",
    "    true_label = [float(item)  for item in true_label]\n",
    "    print(\"true_label;\",true_label[0:20])\n",
    "    \n",
    "    #输出Kappa系数\n",
    "    print(\"kappa_score = \", cohen_kappa_score(true_label,predict_label))\n",
    "    #输出分类报告\n",
    "    print(\"Print classificatioin report:\")\n",
    "    print(classification_report(true_label,predict_label))\n",
    "    #输出原始的混淆矩阵\n",
    "    print(\"Confusion matrix:\")\n",
    "    \n",
    "    #print(confusion_matrix(true_label,predict_label))\n",
    "    #输出混淆矩阵的优化显示\n",
    "    matrixDisplay(confusion_matrix(true_label,predict_label))\n",
    "    #输出F-score和每类样本数量的对比条形图\n",
    "    print(\"Print precisiion recall and F1-SCORE\")\n",
    "    \n",
    "    precision_list, recall_list, f_list, key_list, true_count_list = testPrecision(predict_label, true_label)\n",
    "    comparisonPlot(key_list,f_list,true_count_list)\n",
    "    \n",
    "testPath = \"datasets/fastTextFeature.test\"\n",
    "labelPath = \"datasets/fastTextLabel.test\"\n",
    "testPre(testPath, labelPath)\n"
   ]
  },
  {
   "cell_type": "code",
   "execution_count": 23,
   "metadata": {
    "collapsed": false,
    "scrolled": false
   },
   "outputs": [
    {
     "name": "stdout",
     "output_type": "stream",
     "text": [
      "['8', '13', '10', '10', '10', '10', '10', '10', '10', '10', '10', '10', '10', '10', '10', '10', '10', '10', '10', '10', '10', '10', '10', '10', '10', '9', '10', '10', '10', '10']\n",
      "{'1': 1520, '5': 241, '11': 75, '6': 319, '14': 431, '15': 76, '12': 289, '18': 222, '3': 198, '8': 2239, '16': 27, '13': 585, '19': 0, '7': 0, '20': 428, '2': 12, '0': 526, '9': 472, '17': 332, '10': 987, '4': 8}\n",
      "{'1': 1575, '5': 330, '11': 111, '6': 331, '14': 459, '15': 83, '12': 314, '18': 303, '3': 239, '8': 2293, '16': 81, '13': 608, '19': 2, '7': 51, '20': 485, '2': 98, '0': 610, '9': 497, '17': 584, '10': 1046, '4': 29}\n",
      "{'1': 1581, '5': 248, '11': 118, '6': 346, '15': 77, '12': 318, '18': 257, '3': 218, '8': 2379, '16': 35, '13': 747, '2': 13, '20': 437, '14': 495, '4': 23, '9': 794, '17': 386, '10': 1123, '0': 534}\n",
      "8987 10129 10129 0.8872544180077007 0.8872544180077007\n",
      "1:\t TPTN:1520 TPFP:1581 TPFN:1575 p:0.961417\t r:0.965079\t f:0.963245\n",
      "5:\t TPTN:241 TPFP:248 TPFN:330 p:0.971774\t r:0.730303\t f:0.833910\n",
      "11:\t TPTN:75 TPFP:118 TPFN:111 p:0.635593\t r:0.675676\t f:0.655022\n",
      "6:\t TPTN:319 TPFP:346 TPFN:331 p:0.921965\t r:0.963746\t f:0.942393\n",
      "14:\t TPTN:431 TPFP:495 TPFN:459 p:0.870707\t r:0.938998\t f:0.903564\n",
      "15:\t TPTN:76 TPFP:77 TPFN:83 p:0.987013\t r:0.915663\t f:0.950000\n",
      "12:\t TPTN:289 TPFP:318 TPFN:314 p:0.908805\t r:0.920382\t f:0.914557\n",
      "18:\t TPTN:222 TPFP:257 TPFN:303 p:0.863813\t r:0.732673\t f:0.792857\n",
      "3:\t TPTN:198 TPFP:218 TPFN:239 p:0.908257\t r:0.828452\t f:0.866521\n",
      "8:\t TPTN:2239 TPFP:2379 TPFN:2293 p:0.941152\t r:0.976450\t f:0.958476\n",
      "16:\t TPTN:27 TPFP:35 TPFN:81 p:0.771429\t r:0.333333\t f:0.465517\n",
      "13:\t TPTN:585 TPFP:747 TPFN:608 p:0.783133\t r:0.962171\t f:0.863469\n",
      "error: 19 right: 0 real: 2 predict: 0\n",
      "error: 7 right: 0 real: 51 predict: 0\n",
      "20:\t TPTN:428 TPFP:437 TPFN:485 p:0.979405\t r:0.882474\t f:0.928416\n",
      "2:\t TPTN:12 TPFP:13 TPFN:98 p:0.923077\t r:0.122449\t f:0.216216\n",
      "0:\t TPTN:526 TPFP:534 TPFN:610 p:0.985019\t r:0.862295\t f:0.919580\n",
      "9:\t TPTN:472 TPFP:794 TPFN:497 p:0.594458\t r:0.949698\t f:0.731216\n",
      "17:\t TPTN:332 TPFP:386 TPFN:584 p:0.860104\t r:0.568493\t f:0.684536\n",
      "10:\t TPTN:987 TPFP:1123 TPFN:1046 p:0.878896\t r:0.943595\t f:0.910097\n",
      "4:\t TPTN:8 TPFP:23 TPFN:29 p:0.347826\t r:0.275862\t f:0.307692\n"
     ]
    }
   ],
   "source": [
    "import pandas as pd\n",
    "import matplotlib.pyplot as plt\n",
    "import numpy as np\n",
    "\n",
    "\n",
    "\n",
    "def testPrecision(testPath, labelPath):\n",
    "\n",
    "    testFile = open(testPath)\n",
    "    labels_predict = [e[0] for e in classifier.predict(testFile)]\n",
    "    print(labels_predict[0:30])\n",
    "    \n",
    "    labels_right = list(open(labelPath).readlines()) \n",
    "    labels_right = [item .strip().replace(\"__label__\",\"\") for item in labels_right]\n",
    "   \n",
    "    A = dict.fromkeys(labels_right,0)  #预测正确的各个类的数目\n",
    "    B = dict.fromkeys(labels_right,0)   #测试数据集中各个类的数目\n",
    "    C = dict.fromkeys(labels_predict,0) #预测结果中各个类的数目\n",
    "    for i in range(0,len(labels_right)):\n",
    "        B[labels_right[i]] += 1\n",
    "        C[labels_predict[i]] += 1\n",
    "        if labels_right[i] == labels_predict[i]:\n",
    "            A[labels_right[i]] += 1\n",
    "    print(A)\n",
    "    print(B)\n",
    "    print(C)\n",
    "    Asum = sum(A.values())\n",
    "    Bsum = sum(B.values())\n",
    "    Csum = sum(C.values())\n",
    "    print(Asum, Bsum, Csum, Asum*1.0/Bsum, Asum*1.0/Csum)\n",
    "    fList = list()\n",
    "    keyList = list()\n",
    "    blist = list()\n",
    "    for key in B:\n",
    "        keyList.append(key)\n",
    "        blist.append(B[key])\n",
    "        try:\n",
    "            r = float(A[key]) / float(B[key])\n",
    "            p = float(A[key]) / float(C[key])\n",
    "            f = p * r * 2 / (p + r)\n",
    "            fList.append(f)\n",
    "            print (\"%s:\\t TPTN:%d TPFP:%d TPFN:%d p:%f\\t r:%f\\t f:%f\" % (key,A[key],C[key],B[key],p,r,f))\n",
    "        except:\n",
    "            fList.append(0)\n",
    "            print (\"error:\", key, \"right:\", A.get(key,0), \"real:\", B.get(key,0), \"predict:\",C.get(key,0))\n",
    "    return fList, keyList,blist\n",
    "testPath = \"datasets/fastTextFeature.test\"\n",
    "labelPath = \"datasets/fastTextLabel.test\"\n",
    "fList, keyList ,blist= testPrecision(testPath, labelPath)"
   ]
  },
  {
   "cell_type": "code",
   "execution_count": null,
   "metadata": {
    "collapsed": false
   },
   "outputs": [],
   "source": [
    "print(len(fList))\n",
    "print(len(blist))\n",
    "x = np.arange(0,21,1)\n",
    "#plt.figure(figsize=(10,5))\n",
    "plt.plot(x,fList , label=\"F1SCORE\")\n",
    "#plt.plot(x,blist, 'r--', label=\"RightCounts\")\n",
    "plt.xticks(x, keyList, rotation=0)  \n",
    "plt.title(\"The F1Score of each firsttype\")\n",
    "plt.xlabel(\"FirstType\")\n",
    "plt.ylabel(\"F1Score\")\n",
    "plt.grid() \n",
    "plt.show()"
   ]
  },
  {
   "cell_type": "code",
   "execution_count": null,
   "metadata": {
    "collapsed": false
   },
   "outputs": [],
   "source": [
    "x = np.arange(0,21,1)\n",
    "plt.plot( x, blist )\n",
    "plt.xticks(x, keyList, rotation=0)  \n",
    "plt.title(\"the true counts of each firstType\")\n",
    "plt.xlabel(\"FirstType\")\n",
    "plt.ylabel(\"RightCounts\")\n",
    "plt.grid() \n",
    "\n",
    "plt.show()"
   ]
  },
  {
   "cell_type": "markdown",
   "metadata": {},
   "source": [
    "### 输入测试文件，测试准确率"
   ]
  },
  {
   "cell_type": "code",
   "execution_count": 24,
   "metadata": {
    "collapsed": false
   },
   "outputs": [
    {
     "name": "stdout",
     "output_type": "stream",
     "text": [
      "8987 10129 0.8872544180077007\n"
     ]
    }
   ],
   "source": [
    "def testFileAccuracy(testPath1, testLabel1):\n",
    "\n",
    "    testFile = open(testPath1)\n",
    "    labelList = list(open(testLabel1).readlines())\n",
    "    label = [item.strip().replace(\"__label__\",\"\") for item in labelList]\n",
    "    predict = classifier.predict(testFile)\n",
    "    predict_ = [item[0] for item in predict]\n",
    "    #计算预测正确的数量\n",
    "    res = [i for i in range(len(label)) if label[i]==predict_[i]]\n",
    "    print(len(res), len(label),len(res)*1.0/len(label))\n",
    "testPath1 = \"datasets/fastTextFeature.test\"\n",
    "testLabel1 = \"datasets/fastTextLabel.test\"\n",
    "classifier = fasttext.load_model('disease_fasttext.model.bin', label_prefix='__label__')\n",
    "testFileAccuracy(testPath1, testLabel1)"
   ]
  },
  {
   "cell_type": "markdown",
   "metadata": {},
   "source": [
    "### 载入映射分类名称的文件"
   ]
  },
  {
   "cell_type": "code",
   "execution_count": 25,
   "metadata": {
    "collapsed": false
   },
   "outputs": [],
   "source": [
    "import pandas as pd\n",
    "firstCode2TypePath=\"datasets/firstCode2Index2Type.txt\"\n",
    "firstIndex2TypeDict = dict()\n",
    "f = open(firstCode2TypePath)\n",
    "for line in f:\n",
    "    lineArr = line.strip().split(\" \")\n",
    "    firstIndex2TypeDict[lineArr[1]] = lineArr[2]"
   ]
  },
  {
   "cell_type": "markdown",
   "metadata": {},
   "source": [
    "### 输入几个关键字，测试"
   ]
  },
  {
   "cell_type": "code",
   "execution_count": 28,
   "metadata": {
    "collapsed": false
   },
   "outputs": [
    {
     "name": "stdout",
     "output_type": "stream",
     "text": [
      "5 神经系统疾病\n",
      "0 某些传染病和寄生虫病\n",
      "6 眼和附器疾病\n",
      "8 循环系统疾病\n",
      "10 消化系统疾病\n",
      "1 肿瘤\n",
      "12 肌肉和骨骼系统和结缔组织疾病\n"
     ]
    }
   ],
   "source": [
    "def testClassifyOnetoOne(inStr, classifier):\n",
    "    inList = list()\n",
    "    inList.append(inStr)\n",
    "    predict = classifier.predict(inList)\n",
    "    return (predict[0][0]), firstIndex2TypeDict[(predict[0][0])]\n",
    "inList = list()   \n",
    "inStr1 = \"癫痫 颈软 抽搐\"#神经系统疾病\n",
    "inList.append(inStr1)\n",
    "inStr2 = \"手足口病 流涕 惊厥 皮疹 腹泻 消退 睡眠 呕吐 发热\" #0\n",
    "inList.append(inStr2)\n",
    "inStr3 = \"虹膜异色  IOL植入术 左眼\"#眼和附器疾病\n",
    "inList.append(inStr3)\n",
    "inStr4 = \"脑梗死 视物不清 双侧瞳孔 心肺听诊 肌力肌张力 肢体活动 无恶心呕吐 视野缺损 等大 等圆 无压痛 查体 左眼 神志 不灵 食欲 未及 头晕 \"#循环系统疾病\n",
    "inList.append(inStr4)\n",
    "inStr5=\"十二指肠息肉 现患 反跳痛 无腹 无压痛 查体 自诉 神志 恶心 呕吐 发热 腹部 平坦 精神\"#消化\n",
    "inList.append(inStr5)\n",
    "inStr6 = \"肺癌 畸形 无压痛 右肺癌 肺呼吸音 双肺 查体 听诊 肿大 分泌物 右肺 蜘蛛痣 未见异常 黄染 转移 切题 脾未触及\"#1肿瘤\n",
    "inList.append(inStr6)\n",
    "inStr7=\"直腿抬高试验 坐骨神经牵拉试验 加强实验 四字 试验 黄染 局部压痛 双肺呼吸音清 右下肢 反跳痛\"#15\n",
    "inList.append(inStr7)\n",
    "classifier = fasttext.load_model('disease_fasttext.model.bin', label_prefix='__label__')\n",
    "for item in inList:\n",
    "    index, res = testClassifyOnetoOne(item, classifier)\n",
    "    print(index , res)"
   ]
  },
  {
   "cell_type": "markdown",
   "metadata": {},
   "source": [
    "### 输入原始数据，疾病和入院情况，预测类型"
   ]
  },
  {
   "cell_type": "code",
   "execution_count": 29,
   "metadata": {
    "collapsed": false
   },
   "outputs": [
    {
     "name": "stdout",
     "output_type": "stream",
     "text": [
      "8 循环系统疾病\n",
      "1 肿瘤\n"
     ]
    }
   ],
   "source": [
    "def testSource():\n",
    "    inListKey = list()\n",
    "    inSource1Dis = \"脑梗死\"#循环系统疾病\n",
    "    inSource1Adm = \"伸舌居中。颈软，无抵抗感，脑膜刺激征（-），心肺听诊无异常。右侧肢体肌力4+级，生理反射存在，病理征未引出。2015-02-23头颅MRI示脑梗死\"\n",
    "    inListKey.append(doPrepareSourceDiseaseAndAdmin(inSource1Dis,inSource1Adm ))\n",
    "    \n",
    "    inSource2Dis = \"胃恶性肿瘤\"#肿瘤\n",
    "    inSource2Adm = \"患者1年半（2015年1月）前无明显原因及诱因出现上腹疼痛，后就诊于当地医院，行上腹部CT及胃镜检查，诊断“胃癌”，遂行胃癌手术治疗(具体手术范围不详)，术中发现肝脏转移结节，术后病理示“胃高分化腺癌”，术后未行放化疗，病情好转出院。患者于1月前无明显原因及诱因出现胸闷不适，无心悸、胸痛及肩背部放射痛，无发热、咳嗽、咳痰、咯血。为求进一步治疗就诊于我院，门诊以“胃癌术后”收入我科，患者自发病以来，神志清，精神好，饮食睡眠一般，大小便正常。\"\n",
    "    inListKey.append(doPrepareSourceDiseaseAndAdmin(inSource2Dis,inSource2Adm ))\n",
    "    classifier = fasttext.load_model('disease_fasttext.model.bin', label_prefix='__label__')\n",
    "    for item in inListKey:\n",
    "        index, res = testClassifyOnetoOne(item, classifier)\n",
    "        print(index , res)\n",
    "testSource()"
   ]
  },
  {
   "cell_type": "code",
   "execution_count": null,
   "metadata": {
    "collapsed": true
   },
   "outputs": [],
   "source": []
  },
  {
   "cell_type": "code",
   "execution_count": null,
   "metadata": {
    "collapsed": true
   },
   "outputs": [],
   "source": []
  }
 ],
 "metadata": {
  "anaconda-cloud": {},
  "kernelspec": {
   "display_name": "Python [default]",
   "language": "python",
   "name": "python3"
  },
  "language_info": {
   "codemirror_mode": {
    "name": "ipython",
    "version": 3
   },
   "file_extension": ".py",
   "mimetype": "text/x-python",
   "name": "python",
   "nbconvert_exporter": "python",
   "pygments_lexer": "ipython3",
   "version": "3.5.2"
  }
 },
 "nbformat": 4,
 "nbformat_minor": 1
}
