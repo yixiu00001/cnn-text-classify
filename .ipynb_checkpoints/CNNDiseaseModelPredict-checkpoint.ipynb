{
 "cells": [
  {
   "cell_type": "code",
   "execution_count": 2,
   "metadata": {
    "collapsed": true
   },
   "outputs": [],
   "source": [
    "from CNNdata_helpers import *\n",
    "from medicalDataLoad import *"
   ]
  },
  {
   "cell_type": "code",
   "execution_count": 3,
   "metadata": {
    "collapsed": true
   },
   "outputs": [],
   "source": [
    "from gensim.models import Word2Vec\n",
    "import pickle\n",
    "import tensorflow as tf\n",
    "import numpy as np\n",
    "import datetime"
   ]
  },
  {
   "cell_type": "markdown",
   "metadata": {},
   "source": [
    "# 基于ICD10的国际标准编码的一级分类21类模型验证"
   ]
  },
  {
   "cell_type": "code",
   "execution_count": 4,
   "metadata": {
    "collapsed": false
   },
   "outputs": [],
   "source": [
    "tf.flags.DEFINE_string(\"test_data_path\", \"./cnnModel/datasets/test.feature\", \"Test data source\")\n",
    "tf.flags.DEFINE_string(\"test_label_path\", \"./cnnModel/datasets/test.label\", \"Label for test data\")\n",
    "tf.app.flags.DEFINE_string(\"word2vec_model_path\", \"./model/word2VecModelsh.bin5_100_1e-05_15\",\n",
    "                           \"word2vec's vocabulary and vectors\")\n",
    "tf.flags.DEFINE_integer(\"sequence_length\", 21, \"max sequence_length\")\n",
    "tf.flags.DEFINE_string(\"ckpt_dir\", \"./runs/cnn_disease_checkpoint1/\",\n",
    "                           \"checkpoint location for the model\")\n",
    "\n",
    "# Misc Parameters\n",
    "tf.flags.DEFINE_boolean(\"allow_soft_placement\", True, \"Allow device soft device placement\")\n",
    "tf.flags.DEFINE_boolean(\"log_device_placement\", False, \"Log placement of ops on devices\")\n",
    "\n",
    "FLAGS = tf.flags.FLAGS"
   ]
  },
  {
   "cell_type": "markdown",
   "metadata": {},
   "source": [
    "### 载入index word映射词典"
   ]
  },
  {
   "cell_type": "code",
   "execution_count": 5,
   "metadata": {
    "collapsed": false
   },
   "outputs": [],
   "source": [
    "def load_voabulary(word2vec_model_path=FLAGS.word2vec_model_path, name_scope=''):\n",
    "    cache_path = './cache_vocabulary_label_pik/' + name_scope + \"_word_voabulary.pik\"\n",
    "    #print(\"cache_path:\", cache_path, \"file_exists:\", os.path.exists(cache_path))\n",
    "    # load the cache file if exists\n",
    "    if os.path.exists(cache_path):\n",
    "        with open(cache_path, 'rb') as data_f:\n",
    "            vocabulary_word2index, vocabulary_index2word = pickle.load(data_f)\n",
    "            return vocabulary_word2index, vocabulary_index2word\n",
    "    else:\n",
    "        print(cache_path,\"is not exits.\")"
   ]
  },
  {
   "cell_type": "code",
   "execution_count": 6,
   "metadata": {
    "collapsed": false
   },
   "outputs": [],
   "source": [
    "vocabulary_word2index, vocabulary_index2word = load_voabulary(\n",
    "        word2vec_model_path=FLAGS.word2vec_model_path, \n",
    "        name_scope=\"cnn\")"
   ]
  },
  {
   "cell_type": "code",
   "execution_count": 7,
   "metadata": {
    "collapsed": false
   },
   "outputs": [
    {
     "name": "stdout",
     "output_type": "stream",
     "text": [
      "maxlen= 21\n"
     ]
    }
   ],
   "source": [
    "x_test, y_test = loadTrainOrTest_data(FLAGS.test_data_path, FLAGS.test_label_path, vocabulary_word2index)\n",
    "testX = pad_sequences(x_test, maxlen=FLAGS.sequence_length)\n",
    "testY = y_test"
   ]
  },
  {
   "cell_type": "markdown",
   "metadata": {},
   "source": [
    "### 对输入的内容预测分类"
   ]
  },
  {
   "cell_type": "code",
   "execution_count": 52,
   "metadata": {
    "collapsed": false
   },
   "outputs": [],
   "source": [
    "allow_soft_placement= True\n",
    "log_device_placement = False\n",
    "batch_size = 64\n",
    "def CNN_PredictOne2One(inList):\n",
    "    vocab_size = len(vocabulary_word2index)\n",
    "    print(vocab_size)\n",
    "    #1.data prepare, padding\n",
    "    x_test_temp = list([a.split(\" \") for a in inList])\n",
    "    x = [[a.strip() for a in b] for b in x_test_temp]\n",
    "    for i in range(len(x)):\n",
    "        for j in range(len(x[i])):\n",
    "            x[i][j] = vocabulary_word2index.get(x[i][j], 0)\n",
    "    x_test = np.array(x).tolist()\n",
    "    testX = pad_sequences(x_test, maxlen=21, value=0.)  # padding to max length\n",
    "    #2.check file \n",
    "    ckpt_dir=\"./runs/cnn_disease_checkpoint1/\"\n",
    "    checkpoint_file = \"./runs/cnn_disease_checkpoint1/model.ckpt-10\"\n",
    "    #checkpoint_file = tf.train.latest_checkpoint(ckpt_dir)\n",
    "    graph = tf.Graph()\n",
    "    with graph.as_default():\n",
    "        session_conf = tf.ConfigProto(\n",
    "            allow_soft_placement=allow_soft_placement,\n",
    "            log_device_placement=log_device_placement)\n",
    "        sess = tf.Session(config=session_conf)\n",
    "        with sess.as_default():\n",
    "            # 3.Load the saved meta graph and restore variables\n",
    "            saver = tf.train.import_meta_graph(\"{}.meta\".format(checkpoint_file))\n",
    "            saver.restore(sess, checkpoint_file)\n",
    "\n",
    "            #graph = sess.graph\n",
    "            # Get the placeholders from the graph by name\n",
    "            input_x = graph.get_operation_by_name(\"input_x\").outputs[0]\n",
    "            # input_y = graph.get_operation_by_name(\"input_y\").outputs[0]\n",
    "            dropout_keep_prob = graph.get_operation_by_name(\"dropout_keep_prob\").outputs[0]\n",
    "\n",
    "            # Tensors we want to evaluate\n",
    "            predictions = sess.graph.get_operation_by_name(\"predictions\").outputs[0]\n",
    "\n",
    "            # Generate batches for one epoch\n",
    "            #batches = data_helpersNew.batch_iter(list(testX), batch_size, 1, False)\n",
    "\n",
    "            # Collect the predictions here\n",
    "            all_predictions = []\n",
    "\n",
    "            #for x_test_batch in batches:\n",
    "                #print(len(x_test_batch), x_test_batch[0])\n",
    "            batch_predictions = sess.run(predictions, {input_x: testX, dropout_keep_prob: 1.0})\n",
    "            all_predictions = np.concatenate([all_predictions, batch_predictions])\n",
    "            predictions = np.array(all_predictions)\n",
    "        \n",
    "            #print(all_predictions[0:30])\n",
    "    return all_predictions\n"
   ]
  },
  {
   "cell_type": "code",
   "execution_count": 53,
   "metadata": {
    "collapsed": true
   },
   "outputs": [],
   "source": [
    "def predict2Name(all_predictions):\n",
    "    for item in all_predictions:\n",
    "        print (int(item), firstIndex2TypeDict[str(int(item))])\n",
    "    res = [firstIndex2TypeDict[str(int(item))] for item in all_predictions]\n",
    "    return res"
   ]
  },
  {
   "cell_type": "markdown",
   "metadata": {},
   "source": [
    "### 测试模型效果，输入测试集合的feature和label文件地址"
   ]
  },
  {
   "cell_type": "code",
   "execution_count": 54,
   "metadata": {
    "collapsed": false
   },
   "outputs": [
    {
     "name": "stdout",
     "output_type": "stream",
     "text": [
      "192413\n",
      "maxlen= 21\n",
      "INFO:tensorflow:Restoring parameters from ./runs/cnn_disease_checkpoint1/model.ckpt-10\n",
      "['糖尿病 血糖控制良好 一般情况 不适 患者 \\n', '成人迟发自身免疫性糖尿病 症状缓解 血糖控制 自动出院 夜间睡眠 空腹血糖 低血糖 食欲 心慌 出院 饥饿 饮食 症状 理想 患者 控制 \\n', '糖尿病 血糖控制 空腹血糖 夜间睡眠 低血糖 尚可 食欲 心慌 出院 饥饿 病情 饮食 症状 平稳 患者 控制 \\n', '脑耗盐综合征 神志 不适 精神 \\n', '糖尿病 叩诊 清音 黄染 多尿 无杂音 心律齐 无压痛 全身皮肤粘膜 啰音 反跳痛 心界 未触及 辅助检查 凹陷性浮肿 呼吸音 双下肢 随机血糖 双肺 糖化血红蛋白 全身浅表淋巴结肿大 \\n', '2型糖尿病 双下肢 未见 异常 右下腹部 足背动脉搏动 无压痛 神经系统查体 双侧 入院体格检查 心肺查体 双侧甲状腺 皮温 血糖高 瘢痕 入院 神志 肿大 陈旧 水肿 腹部 \\n', '2型糖尿病 余年 双下肢 查体 皮温 视网膜激光光凝术 肺腹 双侧 对光反射 小脑萎缩 足背动脉搏动 10年 血糖高 胃炎 入院 肿大 术后 甲状腺 延迟 水肿 乏力 \\n', '糖尿病 相关检查 护胃 患者入院 保肝 营养神经 调脂 改善微循环 降血糖 合并症 降压 胰岛素 并发症 糖尿病 给予 完善 \\n', '2型糖尿病 腱反射 肝脾肋下未触及 视物模糊 辅助检查 2017-8-7 双侧 足背动脉搏动 肺呼吸音 2月 湿性啰音 随机血糖 病理性杂音 四肢肌力 无压痛 反跳痛 心律齐 多尿 四肢活动 查体 听诊 \\n', '糖尿病 平稳 辅助检查 自主能力 阳性体征 和清 出院时 意识状态 不符合 生命体征 空腹血糖 患者情况 入院诊断 截瘫 偏瘫 随访 嗜睡 阴性 体征 出院 不平 \\n']\n",
      "['3 \\n', '3 \\n', '3 \\n', '3 \\n', '3 \\n', '3 \\n', '3 \\n', '3 \\n', '3 \\n', '3 \\n'] [ 3.  3.  3.  3.  3.  3.  3.  3.  3.  3.]\n",
      "Total numbers of test is:  10141\n",
      "The accuracy is:  0.9919140124248101\n",
      "kappa_score =  0.990933649555\n",
      "Print classificatioin report:\n",
      "             precision    recall  f1-score   support\n",
      "\n",
      "          0       1.00      0.99      1.00       606\n",
      "          1       1.00      1.00      1.00      1554\n",
      "          2       0.98      0.99      0.98        99\n",
      "          3       0.99      1.00      0.99       237\n",
      "          4       1.00      0.87      0.93        30\n",
      "          5       1.00      0.98      0.99       331\n",
      "          6       0.98      0.99      0.99       328\n",
      "          7       1.00      0.92      0.96        52\n",
      "          8       1.00      1.00      1.00      2301\n",
      "          9       0.99      0.99      0.99       517\n",
      "         10       0.99      1.00      0.99      1049\n",
      "         11       0.99      0.96      0.97       112\n",
      "         12       1.00      0.99      1.00       308\n",
      "         13       1.00      0.99      0.99       619\n",
      "         14       1.00      0.99      0.99       465\n",
      "         15       1.00      0.98      0.99        85\n",
      "         16       1.00      0.94      0.97        83\n",
      "         17       0.94      0.99      0.96       575\n",
      "         18       0.97      0.99      0.98       303\n",
      "         19       0.00      0.00      0.00         2\n",
      "         20       1.00      1.00      1.00       485\n",
      "\n",
      "avg / total       0.99      0.99      0.99     10141\n",
      "\n",
      "Confusion matrix:\n",
      "600   0     0     1     0     0     0     0     0     2     0     1     1     0     0     0     0     1     0     0     0     \n",
      "0     1550  0     0     0     0     0     0     0     0     1     0     0     0     0     0     0     2     1     0     0     \n",
      "0     0     98    0     0     0     0     0     0     1     0     0     0     0     0     0     0     0     0     0     0     \n",
      "0     0     0     237   0     0     0     0     0     0     0     0     0     0     0     0     0     0     0     0     0     \n",
      "0     0     0     0     26    1     0     0     0     0     0     0     0     0     0     0     0     3     0     0     0     \n",
      "0     0     0     0     0     325   0     0     1     0     0     0     0     0     0     0     0     2     3     0     0     \n",
      "0     0     0     1     0     0     325   0     1     0     0     0     0     0     0     0     0     1     0     0     0     \n",
      "0     2     0     0     0     0     0     48    0     0     0     0     0     0     0     0     0     1     1     0     0     \n",
      "0     1     0     1     0     0     1     0     2296  0     0     0     0     0     0     0     0     1     1     0     0     \n",
      "0     0     2     0     0     0     0     0     0     514   0     0     0     0     0     0     0     1     0     0     0     \n",
      "0     0     0     0     0     0     0     0     1     0     1044  0     0     0     0     0     0     4     0     0     0     \n",
      "0     0     0     0     0     0     1     0     0     0     0     107   0     0     0     0     0     4     0     0     0     \n",
      "0     0     0     0     0     0     0     0     0     0     0     0     306   1     0     0     0     1     0     0     0     \n",
      "0     1     0     0     0     0     0     0     0     0     0     0     0     610   1     0     0     7     0     0     0     \n",
      "0     1     0     0     0     0     0     0     0     0     0     0     0     0     462   0     0     2     0     0     0     \n",
      "0     0     0     0     0     0     0     0     1     0     0     0     0     0     1     83    0     0     0     0     0     \n",
      "0     0     0     0     0     0     3     0     1     0     0     0     0     0     0     0     78    1     0     0     0     \n",
      "0     0     0     0     0     0     0     0     0     1     5     0     0     0     0     0     0     567   2     0     0     \n",
      "0     1     0     0     0     0     1     0     0     0     0     0     0     0     0     0     0     1     299   0     1     \n",
      "0     0     0     0     0     0     0     0     0     0     0     0     0     0     0     0     0     2     0     0     0     \n",
      "0     0     0     0     0     0     0     0     0     0     0     0     0     0     0     0     0     0     1     0     484   \n",
      "Print precisiion recall and F1-SCORE\n"
     ]
    },
    {
     "name": "stderr",
     "output_type": "stream",
     "text": [
      "/opt/anaconda3/lib/python3.5/site-packages/sklearn/metrics/classification.py:1074: UndefinedMetricWarning: Precision and F-score are ill-defined and being set to 0.0 in labels with no predicted samples.\n",
      "  'precision', 'predicted', average, warn_for)\n"
     ]
    },
    {
     "name": "stdout",
     "output_type": "stream",
     "text": [
      "true count :  {0: 606, 1: 1554, 2: 99, 3: 237, 4: 30, 5: 331, 6: 328, 7: 52, 8: 2301, 9: 517, 10: 1049, 11: 112, 12: 308, 13: 619, 14: 465, 15: 85, 16: 83, 17: 575, 18: 303, 19: 2, 20: 485}\n"
     ]
    },
    {
     "data": {
      "image/png": "[encoded data removed]",
      "text/plain": [
       "<matplotlib.figure.Figure at 0x7f592c47ffd0>"
      ]
     },
     "metadata": {},
     "output_type": "display_data"
    }
   ],
   "source": [
    "from sklearn.metrics import classification_report\n",
    "from sklearn.metrics import confusion_matrix\n",
    "from sklearn.metrics import cohen_kappa_score\n",
    "\n",
    "from ModelVisualization import *\n",
    "\n",
    "def testFileAccuracy(fileFeature, fileLable):\n",
    "    inList = list() \n",
    "    testList = list(open(fileFeature,\"r\").readlines())\n",
    "    trueLabel = list(open(fileLable,\"r\").readlines())\n",
    "    true_label = np.array([np.int32(a) for a in trueLabel])\n",
    "    predict_label = CNN_PredictOne2One(testList)\n",
    "    print(testList[0:10])\n",
    "    print(trueLabel[0:10], predict_label[0:10])\n",
    "    \n",
    "    correct_predictions=0\n",
    "    for i in range(len(predict_label)):\n",
    "        if np.array_equal(predict_label[i], y_test[i]):\n",
    "            correct_predictions += 1\n",
    "    correct_predictions = float(correct_predictions)\n",
    "    print(\"Total numbers of test is: \", len(true_label))\n",
    "    print(\"The accuracy is: \",correct_predictions*1.0/len(true_label))\n",
    "    \n",
    "     #输出Kappa系数\n",
    "    print(\"kappa_score = \", cohen_kappa_score(true_label,predict_label))\n",
    "    #输出分类报告\n",
    "    print(\"Print classificatioin report:\")\n",
    "    print(classification_report(true_label,predict_label))\n",
    "    #输出原始的混淆矩阵\n",
    "    print(\"Confusion matrix:\")\n",
    "    #print(confusion_matrix(true_label,predict_label))\n",
    "    #输出混淆矩阵的优化显示\n",
    "    matrixDisplay(confusion_matrix(true_label,predict_label))\n",
    "    #输出F-score和每类样本数量的对比条形图\n",
    "    print(\"Print precisiion recall and F1-SCORE\")\n",
    "    precision_list, recall_list, f_list, key_list, true_count_list = testPrecision(predict_label, true_label)\n",
    "    comparisonPlot(key_list,f_list,true_count_list)\n",
    "    \n",
    "fileFeature = \"./cnnModel/datasets/test.feature\"\n",
    "fileLable = \"./cnnModel/datasets/test.label\"\n",
    "testFileAccuracy(fileFeature, fileLable)"
   ]
  },
  {
   "cell_type": "markdown",
   "metadata": {},
   "source": [
    "### 载入疾病类型和index映射的词典"
   ]
  },
  {
   "cell_type": "code",
   "execution_count": 55,
   "metadata": {
    "collapsed": false
   },
   "outputs": [],
   "source": [
    "import pandas as pd\n",
    "def loadDict():\n",
    "    firstCode2TypePath=\"datasets/firstCode2Index2Type.txt\"\n",
    "    firstIndex2TypeDict = dict()\n",
    "    f = open(firstCode2TypePath)\n",
    "    for line in f:\n",
    "        lineArr = line.strip().split(\" \")\n",
    "        firstIndex2TypeDict[lineArr[1]] = lineArr[2]\n",
    "    return firstIndex2TypeDict\n",
    "firstIndex2TypeDict = loadDict()"
   ]
  },
  {
   "cell_type": "markdown",
   "metadata": {},
   "source": [
    "### 输入疾病和入院情况的原始文本字段预测分类"
   ]
  },
  {
   "cell_type": "code",
   "execution_count": 56,
   "metadata": {
    "collapsed": false
   },
   "outputs": [
    {
     "name": "stdout",
     "output_type": "stream",
     "text": [
      "192413\n",
      "maxlen= 21\n",
      "INFO:tensorflow:Restoring parameters from ./runs/cnn_disease_checkpoint1/model.ckpt-10\n",
      "8 循环系统疾病\n",
      "1 肿瘤\n",
      "['循环系统疾病', '肿瘤']\n"
     ]
    }
   ],
   "source": [
    "def sourceInTest():\n",
    "  \n",
    "    inListKey = list()\n",
    "    inSource1Dis = \"脑梗死\"\n",
    "    inSource1Adm = \"伸舌居中。颈软，无抵抗感，脑膜刺激征（-），心肺听诊无异常。右侧肢体肌力4+级，生理反射存在，病理征未引出。2015-02-23头颅MRI示脑梗死\"\n",
    "    inListKey.append(doPrepareSourceDiseaseAndAdmin(inSource1Dis,inSource1Adm ))\n",
    "    \n",
    "    inSource2Dis = \"肺恶性肿瘤\"\n",
    "    inSource2Adm = \"肺恶性肿瘤3周期化疗后1月余，靶向治疗2周。T36.7℃P78次/分R18次/分BP110/70mmHg。神志清醒，发育正常，营养良好，正常面容，体型适中，步入病房，自主体位，对答切题，查体合作。皮肤粘膜无黄染，无肝掌，无蜘蛛痣，无贫血貌。全身浅表淋巴结无肿大。无巩膜黄染，口唇红润。颈软，颈静脉无怒张，肝颈静脉回流征阴性，双侧甲状腺无肿大。双肺呼吸音清，双肺未及干啰音、湿啰音。心率78次/分，心律齐，无病理性杂音。腹壁柔软，无压痛，无反跳痛，肝肋下未触及，脾肋下未触及，未触及腹部包块。无肝区叩击痛，无肾区叩击痛，移动性浊音(-)。四肢活动自如，双下肢无浮肿。生理反射存在，病理反射未引出。本院：胸部CT示:1.左肺占位性病变。2.心包积液。3.纵膈内淋巴结肿大。\"\n",
    "    inListKey.append(doPrepareSourceDiseaseAndAdmin(inSource2Dis,inSource2Adm ))\n",
    "    \n",
    "    reskey = CNN_PredictOne2One(inListKey)\n",
    "    resName = predict2Name(reskey)\n",
    "\n",
    "    print(resName)\n",
    "sourceInTest()"
   ]
  },
  {
   "cell_type": "markdown",
   "metadata": {},
   "source": [
    "### 输入关键字预测分类1"
   ]
  },
  {
   "cell_type": "code",
   "execution_count": 57,
   "metadata": {
    "collapsed": false
   },
   "outputs": [
    {
     "name": "stdout",
     "output_type": "stream",
     "text": [
      "192413\n",
      "maxlen= 21\n",
      "INFO:tensorflow:Restoring parameters from ./runs/cnn_disease_checkpoint1/model.ckpt-10\n",
      "3 内分泌、营养和代谢疾病\n",
      "1 肿瘤\n",
      "9 呼吸系统疾病\n",
      "13 泌尿生殖系统疾病\n",
      "2 血液及造血器官疾病和某些涉及免疫机制的疾患\n",
      "['内分泌、营养和代谢疾病', '肿瘤', '呼吸系统疾病', '泌尿生殖系统疾病', '血液及造血器官疾病和某些涉及免疫机制的疾患']\n"
     ]
    }
   ],
   "source": [
    "def keyInTest():\n",
    "    inListKey = list()\n",
    "    inStr5=\"糖尿病 平稳 辅助检查 自主能力 阳性体征 和清 出院时 意识状态 不符合 空腹血糖 患者情况 入院诊断 截瘫 偏瘫 随访 嗜睡 阴性 体征\"#内分泌\n",
    "    inListKey.append(inStr5)\n",
    "    inStr6 = \"肺恶性肿瘤 无压痛 右肺癌 肺呼吸音 双肺 查体 听诊 肿大 分泌物 右肺 蜘蛛痣 未见异常 黄染 转移 切题 脾未触及\"#1肿瘤\n",
    "    inListKey.append(inStr6)\n",
    "    inStr7 = \"肺部感染 呼吸音 右肺 双肺结核 结节状 无畸形 低度影 肺野 语音震颤 胸部CT 局限性增厚 右肺中叶 右侧胸腔 胸膜摩擦感 捻发感 湿性啰音 无压痛 右侧胸膜 肺上叶 检查诊断 触觉语颤\"#呼吸\n",
    "    inListKey.append(inStr7)\n",
    "    inStr8 = \"肾结石 左肾积水 诊治 患者 排尿困难 CT 左肾结石  肉眼血尿 外院 查体 尿急 尿频 入院 大小便 神志 腹胀\"#泌尿生殖\n",
    "    inListKey.append(inStr8)\n",
    "    inStr9 = \"全血细胞减少 皮肤出血点 全身浅表淋巴结未触及肿大 血常规 呼吸音 散在 面色苍黄 无压痛 四肢肌力 各瓣膜区未闻及病理性杂音 湿性啰音 针尖样出血点 面黄 心音 神志 肿大 张力\"#血液\n",
    "    inListKey.append(inStr9)\n",
    "    reskey = CNN_PredictOne2One(inListKey)\n",
    "    resName = predict2Name(reskey)\n",
    "\n",
    "    print(resName)\n",
    "keyInTest()   "
   ]
  },
  {
   "cell_type": "markdown",
   "metadata": {},
   "source": [
    "### 输入关键字预测分类2"
   ]
  },
  {
   "cell_type": "code",
   "execution_count": 58,
   "metadata": {
    "collapsed": false
   },
   "outputs": [
    {
     "name": "stdout",
     "output_type": "stream",
     "text": [
      "192413\n",
      "maxlen= 21\n",
      "INFO:tensorflow:Restoring parameters from ./runs/cnn_disease_checkpoint1/model.ckpt-10\n",
      "0 某些传染病和寄生虫病\n",
      "13 泌尿生殖系统疾病\n",
      "5 神经系统疾病\n",
      "9 呼吸系统疾病\n",
      "6 眼和附器疾病\n",
      "3 内分泌、营养和代谢疾病\n",
      "10 消化系统疾病\n"
     ]
    }
   ],
   "source": [
    "def keyInTest2():\n",
    "    inList = list()\n",
    "    in1 = \"手足口病 较好 一般情况 皮疹消退 肢体活动 心肺听诊无异常 患儿 出院 治愈 进食 体温 睡眠 精神\"#传染\n",
    "    inList.append(in1)#泌尿\n",
    "    in2 = \"输尿管结石 治疗 患者 左侧 一般情况 腰腹部 效果不佳 肉眼血尿 无恶心呕吐 突然出现 输尿管结石 寒战发热 尿急 绞痛 尿频 耐受 输尿管 神志 排尿 结石 起病\"\n",
    "    inList.append(in2)#神经系统\n",
    "    in3 = \"短暂性脑缺血发作 抗栓 改善循环 脑保护治疗 营养神经 阿托伐他汀钙片 血塞通 舒血宁 氯吡格雷 阿司匹林肠溶片 调脂 脑蛋白水解物 \"\n",
    "    inList.append(in3)#呼吸\n",
    "    in4 = \"支气管哮喘  无胸痛 肩背部 白痰 现患 无痰 心前区 放射痛 喘憋 查体 纳差 神志 心悸 腹痛 腹泻 恶心 呕吐 发热 咳嗽 \"\n",
    "    inList.append(in4)#眼\n",
    "    in5 = \"虹膜脓肿  双肺呼吸音清 房水混浊 玻璃体混浊 心律齐 下肢皮肤 查体 眼压 结节性 心音 右眼 左眼 红斑 角膜 眼底 神志 瞳孔 眼科 晶体 模糊 \"\n",
    "    inList.append(in5)#内分泌\n",
    "    in6 = \"2型糖尿病 双下肢 未见 异常 右下腹部 足背动脉搏动 无压痛 神经系统查体 双侧 入院体格检查 心肺查体 双侧甲状腺 皮温 血糖高 瘢痕 入院 神志 肿大 陈旧 水肿 腹部\"\n",
    "    inList.append(in6)#消化\n",
    "    in7 = \"急性胆囊炎  上腹CT 肩背部  二便 憩室炎 3. 停止排气 消炎药物 钝痛 平扫 自发病 急性胆囊炎 患者及家属 胃内容物 低脂饮食 十二指肠憩室 呕吐物 胆囊炎 \"\n",
    "    inList.append(in7)\n",
    "    reskey = CNN_PredictOne2One(inList)\n",
    "    resName = predict2Name(reskey)\n",
    "keyInTest2()"
   ]
  },
  {
   "cell_type": "markdown",
   "metadata": {},
   "source": [
    "### 输入疾病名称预测分类3"
   ]
  },
  {
   "cell_type": "code",
   "execution_count": 59,
   "metadata": {
    "collapsed": false
   },
   "outputs": [
    {
     "name": "stdout",
     "output_type": "stream",
     "text": [
      "192413\n",
      "maxlen= 21\n",
      "INFO:tensorflow:Restoring parameters from ./runs/cnn_disease_checkpoint1/model.ckpt-10\n",
      "0 某些传染病和寄生虫病\n",
      "13 泌尿生殖系统疾病\n",
      "5 神经系统疾病\n",
      "9 呼吸系统疾病\n",
      "6 眼和附器疾病\n",
      "3 内分泌、营养和代谢疾病\n",
      "10 消化系统疾病\n"
     ]
    }
   ],
   "source": [
    "def keyInTest2():\n",
    "    inList = list()\n",
    "    in1 = \"手足口病 \"#传染\n",
    "    inList.append(in1)#泌尿\n",
    "    in2 = \"输尿管结石 \"\n",
    "    inList.append(in2)#神经系统\n",
    "    in3 = \"短暂性脑缺血发作  \"\n",
    "    inList.append(in3)#呼吸\n",
    "    in4 = \"支气管哮喘  \"\n",
    "    inList.append(in4)#眼\n",
    "    in5 = \"虹膜脓肿   \"\n",
    "    inList.append(in5)#内分泌\n",
    "    in6 = \"2型糖尿病 \"\n",
    "    inList.append(in6)#消化\n",
    "    in7 = \"急性胆囊炎 \"\n",
    "    inList.append(in7)\n",
    "    reskey = CNN_PredictOne2One(inList)\n",
    "    resName = predict2Name(reskey)\n",
    "keyInTest2()"
   ]
  },
  {
   "cell_type": "code",
   "execution_count": null,
   "metadata": {
    "collapsed": true
   },
   "outputs": [],
   "source": []
  }
 ],
 "metadata": {
  "anaconda-cloud": {},
  "kernelspec": {
   "display_name": "Python [default]",
   "language": "python",
   "name": "python3"
  },
  "language_info": {
   "codemirror_mode": {
    "name": "ipython",
    "version": 3
   },
   "file_extension": ".py",
   "mimetype": "text/x-python",
   "name": "python",
   "nbconvert_exporter": "python",
   "pygments_lexer": "ipython3",
   "version": "3.5.2"
  }
 },
 "nbformat": 4,
 "nbformat_minor": 1
}
