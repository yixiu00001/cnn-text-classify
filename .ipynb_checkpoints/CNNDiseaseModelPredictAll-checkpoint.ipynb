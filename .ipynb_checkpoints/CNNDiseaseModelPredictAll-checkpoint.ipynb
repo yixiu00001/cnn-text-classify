{
 "cells": [
  {
   "cell_type": "code",
   "execution_count": 1,
   "metadata": {
    "collapsed": false
   },
   "outputs": [],
   "source": [
    "# -*- coding: utf8 -*-\n",
    "from CNNdata_helpers import *\n",
    "from medicalDataLoad import *"
   ]
  },
  {
   "cell_type": "code",
   "execution_count": 2,
   "metadata": {
    "collapsed": true
   },
   "outputs": [],
   "source": [
    "from gensim.models import Word2Vec\n",
    "import pickle\n",
    "import tensorflow as tf\n",
    "import numpy as np\n",
    "import datetime"
   ]
  },
  {
   "cell_type": "code",
   "execution_count": 3,
   "metadata": {
    "collapsed": false
   },
   "outputs": [],
   "source": [
    "tf.flags.DEFINE_string(\"test_data_path\", \"./cnnModel/datasets/testall.feature\", \"Test data source\")\n",
    "tf.flags.DEFINE_string(\"test_label_path\", \"./cnnModel/datasets/testall.label\", \"Label for test data\")\n",
    "tf.app.flags.DEFINE_string(\"word2vec_model_path\", \"./model/word2VecModelsh.bin5_100_1e-05_15\",\n",
    "                           \"word2vec's vocabulary and vectors\")\n",
    "tf.flags.DEFINE_integer(\"sequence_length\", 81, \"max sequence_length\")\n",
    "tf.flags.DEFINE_string(\"ckpt_dir\", \"./runs/cnn_disease_checkpoint3in/\",\n",
    "                           \"checkpoint location for the model\")\n",
    "# Misc Parameters\n",
    "tf.flags.DEFINE_boolean(\"allow_soft_placement\", True, \"Allow device soft device placement\")\n",
    "tf.flags.DEFINE_boolean(\"log_device_placement\", False, \"Log placement of ops on devices\")\n",
    "\n",
    "FLAGS = tf.flags.FLAGS"
   ]
  },
  {
   "cell_type": "code",
   "execution_count": 4,
   "metadata": {
    "collapsed": false
   },
   "outputs": [],
   "source": [
    "def load_voabulary(word2vec_model_path=FLAGS.word2vec_model_path, name_scope=''):\n",
    "    cache_path = './cache_vocabulary_label_pik3in/' + name_scope + \"_word_voabulary.pik\"\n",
    "    #print(\"cache_path:\", cache_path, \"file_exists:\", os.path.exists(cache_path))\n",
    "    # load the cache file if exists\n",
    "    if os.path.exists(cache_path):\n",
    "        with open(cache_path, 'rb') as data_f:\n",
    "            vocabulary_word2index, vocabulary_index2word = pickle.load(data_f)\n",
    "            return vocabulary_word2index, vocabulary_index2word\n",
    "    else:\n",
    "        print(cache_path,\"is not exits.\")"
   ]
  },
  {
   "cell_type": "code",
   "execution_count": 5,
   "metadata": {
    "collapsed": false
   },
   "outputs": [],
   "source": [
    "vocabulary_word2index, vocabulary_index2word = load_voabulary(\n",
    "        word2vec_model_path=FLAGS.word2vec_model_path, \n",
    "        name_scope=\"cnn\")"
   ]
  },
  {
   "cell_type": "code",
   "execution_count": 6,
   "metadata": {
    "collapsed": false
   },
   "outputs": [
    {
     "name": "stdout",
     "output_type": "stream",
     "text": [
      "maxlen= 81\n"
     ]
    }
   ],
   "source": [
    "x_test, y_test = loadTrainOrTest_data(FLAGS.test_data_path, FLAGS.test_label_path, vocabulary_word2index)\n",
    "testX = pad_sequences(x_test, maxlen=FLAGS.sequence_length)\n",
    "testY = y_test"
   ]
  },
  {
   "cell_type": "code",
   "execution_count": 58,
   "metadata": {
    "collapsed": false
   },
   "outputs": [],
   "source": [
    "allow_soft_placement= True\n",
    "log_device_placement = False\n",
    "batch_size = 64\n",
    "def CNN_PredictOne2One(inStr):\n",
    "    vocab_size = len(vocabulary_word2index)\n",
    "    print(vocab_size)\n",
    "    #1.data prepare, padding\n",
    "    x_test_temp = list([a.split(\" \") for a in inStr])\n",
    "    x = [[a.strip() for a in b] for b in x_test_temp]\n",
    "    for i in range(len(x)):\n",
    "        for j in range(len(x[i])):\n",
    "            x[i][j] = vocabulary_word2index.get(x[i][j], 0)\n",
    "    x_test = np.array(x).tolist()\n",
    "    testX = pad_sequences(x_test, maxlen=FLAGS.sequence_length, value=0.)  # padding to max length\n",
    "    #2.check file \n",
    "    ckpt_dir=FLAGS.ckpt_dir\n",
    "    #checkpoint_file = tf.train.latest_checkpoint(ckpt_dir)\n",
    "    checkpoint_file = \"./runs/cnn_disease_checkpoint3in/model.ckpt-10\"\n",
    "    graph = tf.Graph()\n",
    "    with graph.as_default():\n",
    "        session_conf = tf.ConfigProto(\n",
    "            allow_soft_placement=allow_soft_placement,\n",
    "            log_device_placement=log_device_placement)\n",
    "        sess = tf.Session(config=session_conf)\n",
    "        with sess.as_default():\n",
    "            # 3.Load the saved meta graph and restore variables\n",
    "            saver = tf.train.import_meta_graph(\"{}.meta\".format(checkpoint_file))\n",
    "            saver.restore(sess, checkpoint_file)\n",
    "\n",
    "            #graph = sess.graph\n",
    "            # Get the placeholders from the graph by name\n",
    "            input_x = graph.get_operation_by_name(\"input_x\").outputs[0]\n",
    "            # input_y = graph.get_operation_by_name(\"input_y\").outputs[0]\n",
    "            dropout_keep_prob = graph.get_operation_by_name(\"dropout_keep_prob\").outputs[0]\n",
    "\n",
    "            # Tensors we want to evaluate\n",
    "            predictions = sess.graph.get_operation_by_name(\"predictions\").outputs[0]\n",
    "\n",
    "            # Generate batches for one epoch\n",
    "            #batches = data_helpersNew.batch_iter(list(testX), batch_size, 1, False)\n",
    "\n",
    "            # Collect the predictions here\n",
    "            all_predictions = []\n",
    "\n",
    "            #for x_test_batch in batches:\n",
    "                #print(len(x_test_batch), x_test_batch[0])\n",
    "            batch_predictions = sess.run(predictions, {input_x: testX, dropout_keep_prob: 1.0})\n",
    "            all_predictions = np.concatenate([all_predictions, batch_predictions])\n",
    "            predictions = np.array(all_predictions)\n",
    "            \n",
    "\n",
    "            #print(all_predictions[0:30])\n",
    "    return all_predictions\n"
   ]
  },
  {
   "cell_type": "code",
   "execution_count": 48,
   "metadata": {
    "collapsed": true
   },
   "outputs": [],
   "source": [
    "def predict2Name(all_predictions):\n",
    "    for item in all_predictions:\n",
    "        print (int(item), firstIndex2TypeDict[str(int(item))])\n",
    "    res = [firstIndex2TypeDict[str(int(item))] for item in all_predictions]\n",
    "    return res"
   ]
  },
  {
   "cell_type": "code",
   "execution_count": 53,
   "metadata": {
    "collapsed": false
   },
   "outputs": [
    {
     "name": "stdout",
     "output_type": "stream",
     "text": [
      "['短暂性脑缺血发作 血糖 服用 二甲双胍 雷米 脂血 血压控制 非洛地平 氟伐他汀 意识丧失 精神差 无言语 肢体麻木无力 倍他乐克 高血压病史 拜糖平 短暂性脑缺血发作 空腹血糖控制 治疗 咖啡色 自解 提示 对症治疗 肩袖损伤 辅助检查 冲击波治疗 甲状腺超声 抗血小板 甲状腺结节 病情好转 肩关节 降糖 补液 科室 会诊 入院 降压 出院 血管 予以 扩张 肩关节外伤 脑动脉硬化 腔隙性脑梗死 短暂性脑缺血发作 高血压3级 型糖尿病 3. 极高危组 高脂血症 右侧 0 0 0 0 0 0 0 0 0 0 结节性甲状腺肿 脑动脉硬化 极高危组 腔隙性脑梗死 高血压3级 型糖尿病 3. 肩袖损伤 短暂性脑缺血发作 高脂血症 右侧 0 0 0 0 0 0 0 0 0\\n', '短暂性脑缺血发作 病情 好转 患者 0 0 0 0 0 0 0 0 0 0 0 0 0 0 0 0 0 病情 好转 患者 0 0 0 0 0 0 0 0 0 0 0 0 0 0 0 0 0 病情 好转 患者 0 0 0 0 0 0 0 0 0 0 0 0 0 0 0 0 0 病情 好转 患者 0 0 0 0 0 0 0 0 0 0 0 0 0 0 0 0 0\\n', '后循环缺血 双侧 对称 湿性啰音 辅助检查 光反应 颅脑CT 无杂音 四肢肌 缺血灶 2017-04-23 双侧瞳孔 等圆 鼻唇沟 痛温觉 伸舌居中 四肢肌力 理解判断 膝腱反射 颈软 等大 痛温觉 肺呼吸音 无杂音 四肢肌 湿性啰音 无压痛 患者神志 膝腱反射 心律齐 四肢肌力 双侧 查体 心音 大小便 张力 引出 不适 睡眠 四肢 饮食 出院 患者 调脂 抗血小板聚集 患者病情 改善循环 入院 准予 降压 动脉硬化 医师 服药 请示 上级 好转 给予 检查 完善 保护 今日 复诊 康复训练 硝苯地平控释片 低脂 医学科 监测血压 普伐他汀钠片 缬沙坦氢氯噻嗪片 传染科门诊 普通饮食 受凉 阿司匹林 院外 内科 门诊 就诊 康复 不适 服用 神经\\n', '脊髓炎 痛温觉 右下肢 下肢肌力 踝阵挛阳性 共济运动 伸舌居中 湿啰音 双下肢肌张力 心律规整 双侧病理征 双下肢 鼻唇沟 颈软 3级 2月 腱反射亢进 瓣膜区 双肺呼吸音清 双下肢无力 查体 给予 入院 营养神经 胃肠外科 好转 会诊 复查 转入 病情 症状 患者 符合 检查 抑酸 护胃 三大常规 消化道穿孔 脑脊液常规 脊髓病变 结果报告 多发性硬化 0 0 0 0 0 0 0 0 0 0 0 0 0 0 0 0 0 0 0 消化道穿孔 3. 中枢神经系统脱髓鞘 急性弥漫性腹膜炎 0 0 0 0 0 0 0 0 0 0 0 0 0 0 0 0\\n', '中枢神经系统感染 查体 巴氏征 急性病容 瞳孔等大 双眼球 光反应 湿性啰音 心律齐 伸舌居中 脾未触及 KERNING 双肺呼吸音清 双侧 等圆 鼻唇沟 四肢肌力 无压痛 反跳痛 腱反射 无抵抗 尚可 巴氏征 伸舌居中 双侧 双肺呼吸音清 再出现 颈软 等圆 KERNING 四肢肌力 无压痛 心律齐 瞳孔等大 湿性啰音 光反应 查体 心音 杂音 流利 神志 辅检 患者病情 患者家属 对症支持治疗 入院 抗病毒 出院 签字 好转 给予 完善 保护 相关 0 0 0 0 0 0 0 院外 抗病毒 治疗 0 0 0 0 0 0 0 0 0 0 0 0 0 0 0 0 0\\n', '运动障碍 拱背 侧方平衡 俯卧位抬头 俯卧位 四肢肌 妇幼保健院 线位 仰卧位 两手抓 逗笑 临沂 主动 患儿 肿大 张力 出声 右侧 姿势 翻身 对称 拱背 侧方平衡 俯卧位抬头 俯卧位 四肢肌 妇幼保健院 线位 仰卧位 两手抓 逗笑 临沂 主动 患儿 肿大 张力 出声 右侧 姿势 翻身 对称 拱背 侧方平衡 俯卧位抬头 俯卧位 四肢肌 妇幼保健院 线位 仰卧位 两手抓 逗笑 临沂 主动 患儿 肿大 张力 出声 右侧 姿势 翻身 对称 拱背 侧方平衡 俯卧位抬头 俯卧位 四肢肌 妇幼保健院 线位 仰卧位 两手抓 逗笑 临沂 主动 患儿 肿大 张力 出声 右侧 姿势 翻身 对称\\n', '短暂性脑缺血发作 未见异常 入院查体 肺腹 反复发作性 闭目难立征 腱反射 四肢肌力 病理反射阴性 颈软 直线行走 共济运动 右侧肢体 感觉检查 高血压病 高脂血症 脑神经 入院 神志 阴性 病史 左侧 入院 头颅 放射冠区 小脑半球 化验结果 双侧颈 三大常规 糖化血红蛋白 抗血小板聚集 内中膜增厚 粗细不均 蛛网膜囊肿 右侧锁骨下动脉 轻度狭窄 回示 双侧颈总动脉 颈部血管超声 脑血管硬化 额顶叶 短暂性脑缺血发作 3. 高血压病 高脂血症 糖尿病 0 0 0 0 0 0 0 0 0 0 0 0 0 0 0 左侧 狭窄 腔隙性脑梗死 颈动脉粥样硬化 颈内动脉系统 颈内动脉虹吸部 脑动脉硬化 短暂性脑缺血发作 3. 高血压病 高脂血症 0 0 0 0 0 0 0 0 0\\n', '运动障碍 患儿 黄染 无咳嗽 精神反应 肝脾 双下肢肌张力 腹平软 双肺呼吸音清 主动伸展 无抵抗 病理征阴性 双手拇指 无抽搐 头后仰 湿性啰音 查体 笑出 心音 杂音 大小便 患儿 黄染 无咳嗽 精神反应 肝脾 双下肢肌张力 腹平软 双肺呼吸音清 主动伸展 无抵抗 病理征阴性 双手拇指 无抽搐 头后仰 湿性啰音 查体 笑出 心音 杂音 大小便 患儿 黄染 无咳嗽 精神反应 肝脾 双下肢肌张力 腹平软 双肺呼吸音清 主动伸展 无抵抗 病理征阴性 双手拇指 无抽搐 头后仰 湿性啰音 查体 笑出 心音 杂音 大小便 患儿 黄染 无咳嗽 精神反应 肝脾 双下肢肌张力 腹平软 双肺呼吸音清 主动伸展 无抵抗 病理征阴性 双手拇指 无抽搐 头后仰 湿性啰音 查体 笑出 心音 杂音 大小便\\n', '运动障碍 杨慧 住院医师 邹莉 正规医院 主治医师 亲属 患者 治疗 0 0 0 0 0 0 0 0 0 0 0 0 杨慧 住院医师 邹莉 正规医院 主治医师 亲属 患者 治疗 0 0 0 0 0 0 0 0 0 0 0 0 杨慧 住院医师 邹莉 正规医院 主治医师 亲属 患者 治疗 0 0 0 0 0 0 0 0 0 0 0 0 杨慧 住院医师 邹莉 正规医院 主治医师 亲属 患者 治疗 0 0 0 0 0 0 0 0 0 0 0 0\\n', '癫痫 异常 颈软 间断抽搐 啰音 肺呼吸音 四肢肌力 查体 脑电图 入院 患儿 张力 腹泻 睡眠 心腹 咳嗽 状态 0 0 0 0 异常 颈软 间断抽搐 啰音 肺呼吸音 四肢肌力 查体 脑电图 入院 患儿 张力 腹泻 睡眠 心腹 咳嗽 状态 0 0 0 0 异常 颈软 间断抽搐 啰音 肺呼吸音 四肢肌力 查体 脑电图 入院 患儿 张力 腹泻 睡眠 心腹 咳嗽 状态 0 0 0 0 异常 颈软 间断抽搐 啰音 肺呼吸音 四肢肌力 查体 脑电图 入院 患儿 张力 腹泻 睡眠 心腹 咳嗽 状态 0 0 0 0\\n']\n",
      "192413\n",
      "maxlen= 81\n",
      "INFO:tensorflow:Restoring parameters from ./runs/cnn_disease_checkpoint3in/model.ckpt-20\n",
      "Total numbers of test is:  10174\n",
      "The accuracy is:  0.9961666994299194\n",
      "kappa_score =  0.995703655041\n",
      "Print classificatioin report:\n",
      "             precision    recall  f1-score   support\n",
      "\n",
      "          0       1.00      1.00      1.00       604\n",
      "          1       1.00      1.00      1.00      1575\n",
      "          2       1.00      1.00      1.00        96\n",
      "          3       0.99      1.00      1.00       244\n",
      "          4       0.96      0.93      0.95        29\n",
      "          5       1.00      0.99      0.99       340\n",
      "          6       0.99      1.00      0.99       337\n",
      "          7       1.00      0.98      0.99        46\n",
      "          8       1.00      1.00      1.00      2293\n",
      "          9       1.00      0.99      1.00       510\n",
      "         10       1.00      1.00      1.00      1048\n",
      "         11       1.00      0.99      1.00       106\n",
      "         12       1.00      1.00      1.00       320\n",
      "         13       1.00      1.00      1.00       613\n",
      "         14       1.00      0.99      1.00       466\n",
      "         15       1.00      0.99      0.99        83\n",
      "         16       1.00      0.98      0.99        85\n",
      "         17       0.97      1.00      0.98       579\n",
      "         18       0.99      0.99      0.99       315\n",
      "         19       0.00      0.00      0.00         2\n",
      "         20       1.00      1.00      1.00       483\n",
      "\n",
      "avg / total       1.00      1.00      1.00     10174\n",
      "\n",
      "Confusion matrix:\n",
      "604   0     0     0     0     0     0     0     0     0     0     0     0     0     0     0     0     0     0     0     0     \n",
      "0     1569  0     1     0     0     0     0     0     0     0     0     0     0     0     0     0     4     0     0     1     \n",
      "0     0     96    0     0     0     0     0     0     0     0     0     0     0     0     0     0     0     0     0     0     \n",
      "0     0     0     244   0     0     0     0     0     0     0     0     0     0     0     0     0     0     0     0     0     \n",
      "0     0     0     0     27    0     0     0     1     0     0     0     0     0     0     0     0     1     0     0     0     \n",
      "0     0     0     0     0     335   0     0     0     0     0     0     0     0     0     0     0     5     0     0     0     \n",
      "0     0     0     0     0     0     337   0     0     0     0     0     0     0     0     0     0     0     0     0     0     \n",
      "0     0     0     0     0     0     0     45    0     0     0     0     0     0     0     0     0     1     0     0     0     \n",
      "0     0     0     0     0     0     0     0     2293  0     0     0     0     0     0     0     0     0     0     0     0     \n",
      "0     0     0     0     0     0     0     0     1     505   0     0     0     0     0     0     0     4     0     0     0     \n",
      "0     0     0     1     0     0     0     0     0     0     1046  0     0     0     0     0     0     1     0     0     0     \n",
      "0     1     0     0     0     0     0     0     0     0     0     105   0     0     0     0     0     0     0     0     0     \n",
      "0     0     0     0     0     0     0     0     0     0     0     0     320   0     0     0     0     0     0     0     0     \n",
      "0     0     0     0     0     0     0     0     0     0     0     0     1     610   0     0     0     1     1     0     0     \n",
      "0     0     0     0     0     0     1     0     1     0     0     0     0     2     462   0     0     0     0     0     0     \n",
      "0     0     0     0     0     1     0     0     0     0     0     0     0     0     0     82    0     0     0     0     0     \n",
      "0     0     0     0     0     0     1     0     0     0     0     0     0     0     0     0     83    1     0     0     0     \n",
      "0     0     0     0     1     0     0     0     1     0     0     0     0     0     0     0     0     577   0     0     0     \n",
      "0     0     0     0     0     0     1     0     0     0     0     0     0     0     0     0     0     1     313   0     0     \n",
      "0     0     0     0     0     0     1     0     0     0     0     0     0     0     0     0     0     1     0     0     0     \n",
      "0     0     0     0     0     0     0     0     0     0     0     0     0     0     0     0     0     0     1     0     482   \n",
      "Print precisiion recall and F1-SCORE\n",
      "true count :  {0: 604, 1: 1575, 2: 96, 3: 244, 4: 29, 5: 340, 6: 337, 7: 46, 8: 2293, 9: 510, 10: 1048, 11: 106, 12: 320, 13: 613, 14: 466, 15: 83, 16: 85, 17: 579, 18: 315, 19: 2, 20: 483}\n"
     ]
    },
    {
     "name": "stderr",
     "output_type": "stream",
     "text": [
      "/opt/anaconda3/lib/python3.5/site-packages/sklearn/metrics/classification.py:1074: UndefinedMetricWarning: Precision and F-score are ill-defined and being set to 0.0 in labels with no predicted samples.\n",
      "  'precision', 'predicted', average, warn_for)\n"
     ]
    },
    {
     "data": {
      "image/png": "[encoded data removed]",
      "text/plain": [
       "<matplotlib.figure.Figure at 0x7fae2617b2e8>"
      ]
     },
     "metadata": {},
     "output_type": "display_data"
    }
   ],
   "source": [
    "from sklearn.metrics import classification_report\n",
    "from sklearn.metrics import confusion_matrix\n",
    "from sklearn.metrics import cohen_kappa_score\n",
    "\n",
    "from ModelVisualization import *\n",
    "\n",
    "def testFileAccuracy(fileFeature, fileLable):\n",
    "    inList = list() \n",
    "    inStr1 = \"癫痫 颈软 抽搐\"\n",
    "    testList = list(open(fileFeature,\"r\").readlines())\n",
    "    trueLabel = list(open(fileLable,\"r\").readlines())\n",
    "    true_label = np.array([np.int32(a) for a in trueLabel])\n",
    "    print(testList[0:10])\n",
    "    predict_label = CNN_PredictOne2One(testList)\n",
    "    \n",
    "    \n",
    "    correct_predictions=0\n",
    "    for i in range(len(predict_label)):\n",
    "        if np.array_equal(predict_label[i], y_test[i]):\n",
    "            correct_predictions += 1\n",
    "    correct_predictions = float(correct_predictions)\n",
    "    print(\"Total numbers of test is: \", len(true_label))\n",
    "    print(\"The accuracy is: \",correct_predictions*1.0/len(true_label))\n",
    "    \n",
    "     #输出Kappa系数\n",
    "    print(\"kappa_score = \", cohen_kappa_score(true_label,predict_label))\n",
    "    #输出分类报告\n",
    "    print(\"Print classificatioin report:\")\n",
    "    print(classification_report(true_label,predict_label))\n",
    "    #输出原始的混淆矩阵\n",
    "    print(\"Confusion matrix:\")\n",
    "    #print(confusion_matrix(true_label,predict_label))\n",
    "    #输出混淆矩阵的优化显示\n",
    "    matrixDisplay(confusion_matrix(true_label,predict_label))\n",
    "    #输出F-score和每类样本数量的对比条形图\n",
    "    print(\"Print precisiion recall and F1-SCORE\")\n",
    "    precision_list, recall_list, f_list, key_list, true_count_list = testPrecision(predict_label, true_label)\n",
    "    comparisonPlot(key_list,f_list,true_count_list)\n",
    "    \n",
    "fileFeature = \"./cnnModel/datasets/testall.feature\"\n",
    "fileLable = \"./cnnModel/datasets/testall.label\"\n",
    "testFileAccuracy(fileFeature, fileLable)"
   ]
  },
  {
   "cell_type": "code",
   "execution_count": 50,
   "metadata": {
    "collapsed": false
   },
   "outputs": [],
   "source": [
    "import pandas as pd\n",
    "def loadDict():\n",
    "    firstCode2TypePath=\"datasets/firstCode2Index2Type.txt\"\n",
    "    firstIndex2TypeDict = dict()\n",
    "    f = open(firstCode2TypePath)\n",
    "    for line in f:\n",
    "        lineArr = line.strip().split(\" \")\n",
    "        firstIndex2TypeDict[lineArr[1]] = lineArr[2]\n",
    "    return firstIndex2TypeDict\n",
    "firstIndex2TypeDict = loadDict()"
   ]
  },
  {
   "cell_type": "code",
   "execution_count": 51,
   "metadata": {
    "collapsed": false
   },
   "outputs": [
    {
     "name": "stdout",
     "output_type": "stream",
     "text": [
      "192413\n",
      "maxlen= 81\n",
      "INFO:tensorflow:Restoring parameters from ./runs/cnn_disease_checkpoint3in/model.ckpt-20\n",
      "8 循环系统疾病\n",
      "1 肿瘤\n",
      "['循环系统疾病', '肿瘤']\n"
     ]
    }
   ],
   "source": [
    "def sourceInTest():\n",
    "  \n",
    "    inListKey = list()\n",
    "    inSource1Dis = \"脑梗死\"\n",
    "    inSource1Adm = \"伸舌居中。颈软，无抵抗感，脑膜刺激征（-），心肺听诊无异常。右侧肢体肌力4+级，生理反射存在，病理征未引出。2015-02-23头颅MRI示脑梗死\"\n",
    "    inListKey.append(doPrepareSourceDiseaseAndAdmin(inSource1Dis,inSource1Adm ))\n",
    "    \n",
    "    inSource2Dis = \"肺恶性肿瘤\"\n",
    "    inSource2Adm = \"肺恶性肿瘤3周期化疗后1月余，靶向治疗2周。T36.7℃P78次/分R18次/分BP110/70mmHg。神志清醒，发育正常，营养良好，正常面容，体型适中，步入病房，自主体位，对答切题，查体合作。皮肤粘膜无黄染，无肝掌，无蜘蛛痣，无贫血貌。全身浅表淋巴结无肿大。无巩膜黄染，口唇红润。颈软，颈静脉无怒张，肝颈静脉回流征阴性，双侧甲状腺无肿大。双肺呼吸音清，双肺未及干啰音、湿啰音。心率78次/分，心律齐，无病理性杂音。腹壁柔软，无压痛，无反跳痛，肝肋下未触及，脾肋下未触及，未触及腹部包块。无肝区叩击痛，无肾区叩击痛，移动性浊音(-)。四肢活动自如，双下肢无浮肿。生理反射存在，病理反射未引出。本院：胸部CT示:1.左肺占位性病变。2.心包积液。3.纵膈内淋巴结肿大。\"\n",
    "    inListKey.append(doPrepareSourceDiseaseAndAdmin(inSource2Dis,inSource2Adm ))\n",
    "    \n",
    "    reskey = CNN_PredictOne2One(inListKey)\n",
    "    resName = predict2Name(reskey)\n",
    "\n",
    "    print(resName)\n",
    "sourceInTest()"
   ]
  },
  {
   "cell_type": "code",
   "execution_count": 52,
   "metadata": {
    "collapsed": false
   },
   "outputs": [
    {
     "name": "stdout",
     "output_type": "stream",
     "text": [
      "192413\n",
      "maxlen= 81\n",
      "INFO:tensorflow:Restoring parameters from ./runs/cnn_disease_checkpoint3in/model.ckpt-20\n",
      "3 内分泌、营养和代谢疾病\n",
      "1 肿瘤\n",
      "9 呼吸系统疾病\n",
      "13 泌尿生殖系统疾病\n",
      "14 妊娠分娩及产褥期\n",
      "['内分泌、营养和代谢疾病', '肿瘤', '呼吸系统疾病', '泌尿生殖系统疾病', '妊娠分娩及产褥期']\n"
     ]
    }
   ],
   "source": [
    "def keyInTest():\n",
    "    inListKey = list()\n",
    "    inStr1=\"糖尿病 血糖控制 空腹血糖 夜间睡眠 低血糖 尚可 食欲 心慌 出院 饥饿 病情 饮食 症状 平稳 患者 控制\"#内分泌\n",
    "    inListKey.append(inStr1)\n",
    "    inStr2 = \"肺恶性肿瘤 无压痛 右肺癌 肺呼吸音 双肺 查体 听诊 肿大 分泌物 右肺 蜘蛛痣 未见异常 黄染 转移 切题 脾未触及\"#1肿瘤\n",
    "    inListKey.append(inStr2)\n",
    "    inStr3= \"肺炎 阴性 哮鸣音 湿啰音 肺呼吸音 双侧扁桃  肝脾肋下未触及 巴宾斯基征 三凹征 咽部充血\"#呼吸\n",
    "    inListKey.append(inStr3)\n",
    "    inStr4= \"输卵管积水 输卵管积水 子宫输卵管造影 手术处理 全胚冻存 胚胎移植 阴道超声检查 肛门坠胀感 无回声 自发病\"#泌尿生殖\n",
    "    inListKey.append(inStr4)\n",
    "    inStr5 = \"妊娠合并子宫瘢痕 杨敏 腹围 彩超 检查 脐带绕颈 胎盘成熟度 剖宫产分娩 胎心率 无宫缩 晚孕 胎膜未破 宫高 停经\"#妊娠\n",
    "    inListKey.append(inStr5)\n",
    "    reskey = CNN_PredictOne2One(inListKey)\n",
    "    resName = predict2Name(reskey)\n",
    "\n",
    "    print(resName)\n",
    "keyInTest()   "
   ]
  },
  {
   "cell_type": "code",
   "execution_count": 59,
   "metadata": {
    "collapsed": false
   },
   "outputs": [
    {
     "name": "stdout",
     "output_type": "stream",
     "text": [
      "192413\n",
      "maxlen= 81\n",
      "INFO:tensorflow:Restoring parameters from ./runs/cnn_disease_checkpoint3in/model.ckpt-10\n",
      "0 某些传染病和寄生虫病\n",
      "7 耳和乳突疾病\n",
      "5 神经系统疾病\n",
      "9 呼吸系统疾病\n",
      "7 耳和乳突疾病\n",
      "5 神经系统疾病\n",
      "10 消化系统疾病\n"
     ]
    }
   ],
   "source": [
    "def keyInTest2():\n",
    "    inList = list()\n",
    "    in1 = \"手足口病 较好 一般情况 皮疹消退 肢体活动 心肺听诊无异常 患儿 出院 治愈 进食 体温 睡眠 精神\"#传染\n",
    "    inList.append(in1)#泌尿\n",
    "    in2 = \"输尿管结石 治疗 患者 左侧 一般情况 腰腹部 效果不佳 肉眼血尿 无恶心呕吐 突然出现 输尿管结石 寒战发热 尿急 绞痛 尿频 耐受 输尿管 神志 排尿 结石 起病\"\n",
    "    inList.append(in2)#神经系统\n",
    "    in3 = \"短暂性脑缺血发作 抗栓 改善循环 脑保护治疗 营养神经 阿托伐他汀钙片 血塞通 舒血宁 氯吡格雷 阿司匹林肠溶片 调脂 脑蛋白水解物 \"\n",
    "    inList.append(in3)#呼吸\n",
    "    in4 = \"支气管哮喘  无胸痛 肩背部 白痰 现患 无痰 心前区 放射痛 喘憋 查体 纳差 神志 心悸 腹痛 腹泻 恶心 呕吐 发热 咳嗽 \"\n",
    "    inList.append(in4)#眼\n",
    "    in5 = \"虹膜脓肿   玻璃体混浊  右眼 左眼 红斑 角膜 眼底 神志 瞳孔 眼科 晶体 模糊 \"\n",
    "    inList.append(in5)#内分泌\n",
    "    in6 = \"2型糖尿病 双下肢 未见 异常 右下腹部 足背动脉搏动 无压痛 神经系统查体 双侧 入院体格检查 心肺查体 双侧甲状腺 皮温 血糖高 瘢痕 入院 神志 肿大 陈旧 水肿 腹部\"\n",
    "    inList.append(in6)#消化\n",
    "    in7 = \"急性胆囊炎  上腹CT 肩背部  二便 憩室炎 3. 停止排气 消炎药物 钝痛 平扫 自发病 急性胆囊炎 患者及家属 胃内容物 低脂饮食 十二指肠憩室 呕吐物 胆囊炎 \"\n",
    "    inList.append(in7)\n",
    "    reskey = CNN_PredictOne2One(inList)\n",
    "    resName = predict2Name(reskey)\n",
    "keyInTest2()"
   ]
  },
  {
   "cell_type": "code",
   "execution_count": 60,
   "metadata": {
    "collapsed": false
   },
   "outputs": [
    {
     "name": "stdout",
     "output_type": "stream",
     "text": [
      "192413\n",
      "maxlen= 81\n",
      "INFO:tensorflow:Restoring parameters from ./runs/cnn_disease_checkpoint3in/model.ckpt-10\n",
      "0 某些传染病和寄生虫病\n",
      "13 泌尿生殖系统疾病\n",
      "5 神经系统疾病\n",
      "9 呼吸系统疾病\n",
      "7 耳和乳突疾病\n",
      "3 内分泌、营养和代谢疾病\n",
      "10 消化系统疾病\n"
     ]
    }
   ],
   "source": [
    "def keyInTest2():\n",
    "    inList = list()\n",
    "    in1 = \"手足口病 \"#传染\n",
    "    inList.append(in1)#泌尿\n",
    "    in2 = \"输尿管结石 \"\n",
    "    inList.append(in2)#神经系统\n",
    "    in3 = \"短暂性脑缺血发作  \"\n",
    "    inList.append(in3)#呼吸\n",
    "    in4 = \"支气管哮喘  \"\n",
    "    inList.append(in4)#眼\n",
    "    in5 = \"虹膜脓肿   \"\n",
    "    inList.append(in5)#内分泌\n",
    "    in6 = \"2型糖尿病 \"\n",
    "    inList.append(in6)#消化\n",
    "    in7 = \"急性胆囊炎 \"\n",
    "    inList.append(in7)\n",
    "    reskey = CNN_PredictOne2One(inList)\n",
    "    resName = predict2Name(reskey)\n",
    "keyInTest2()"
   ]
  },
  {
   "cell_type": "code",
   "execution_count": null,
   "metadata": {
    "collapsed": true
   },
   "outputs": [],
   "source": []
  }
 ],
 "metadata": {
  "anaconda-cloud": {},
  "kernelspec": {
   "display_name": "Python [default]",
   "language": "python",
   "name": "python3"
  },
  "language_info": {
   "codemirror_mode": {
    "name": "ipython",
    "version": 3
   },
   "file_extension": ".py",
   "mimetype": "text/x-python",
   "name": "python",
   "nbconvert_exporter": "python",
   "pygments_lexer": "ipython3",
   "version": "3.5.2"
  }
 },
 "nbformat": 4,
 "nbformat_minor": 1
}
