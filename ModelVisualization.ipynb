{
 "cells": [
  {
   "cell_type": "code",
   "execution_count": 1,
   "metadata": {
    "collapsed": true
   },
   "outputs": [],
   "source": [
    "#得到准确率、召回率、以及数量统计的list\n",
    "import pandas as pd\n",
    "import matplotlib.pyplot as plt\n",
    "import numpy as np"
   ]
  },
  {
   "cell_type": "code",
   "execution_count": 2,
   "metadata": {
    "collapsed": true
   },
   "outputs": [],
   "source": [
    "def testPrecision(predict_label, true_label):\n",
    "        \n",
    "    A = dict.fromkeys(true_label,0)  #预测正确的各个类的数目\n",
    "    B = dict.fromkeys(true_label,0)   #测试数据集中实际的各个类的数目\n",
    "    C = dict.fromkeys(predict_label,0) #预测结果中各个类的数目\n",
    "    for i in range(0,len(true_label)):\n",
    "        B[true_label[i]] += 1\n",
    "        C[predict_label[i]] += 1\n",
    "        if true_label[i] == predict_label[i]:\n",
    "            A[true_label[i]] += 1\n",
    "    print(\"predict is right : \",A)\n",
    "    print(\"true count : \", B)\n",
    "    print(\"predict count : \", C)\n",
    "    \n",
    "    key_list = []\n",
    "    true_count_list = []\n",
    "    precision_list = []\n",
    "    recall_list = []\n",
    "    f_list = []\n",
    "    \n",
    "    for i in range(21):\n",
    "        key_list.append(i)\n",
    "        true_count_list.append(int(B[float(i)]))\n",
    "        try:\n",
    "            precision = A[float(i)]*1.0/C[float(i)]\n",
    "            precision_list.append(precision)\n",
    "        except:\n",
    "            precision_list.append(0)\n",
    "        try:\n",
    "            recall = A[float(i)]*1.0/B[float(i)]\n",
    "            recall_list.append(recall)\n",
    "        except:\n",
    "            recall_list.append(0)\n",
    "        try:\n",
    "            f = precision * recall * 2 / (precision + recall)\n",
    "            f_list.append(f)\n",
    "        except:\n",
    "            f_list.append(0)\n",
    "        \n",
    "    return precision_list, recall_list, f_list, key_list, true_count_list"
   ]
  },
  {
   "cell_type": "code",
   "execution_count": 3,
   "metadata": {
    "collapsed": true
   },
   "outputs": [],
   "source": [
    "#矩阵的优化显示\n",
    "def matrixDisplay(matrix):\n",
    "    shape = matrix.shape\n",
    "    #求矩阵中的最大位数：\n",
    "    max_digits = 0\n",
    "    for i in range(shape[0]):\n",
    "        for j in range(shape[1]):\n",
    "            if len(str(matrix[i][j]))> max_digits:\n",
    "                max_digits = len(str(matrix[i][j]))\n",
    "    #拼接矩阵中的行，转为字符串，输出\n",
    "    for i in range(shape[0]):\n",
    "        row_str = \"\"\n",
    "        for j in range(shape[1]):\n",
    "            if len(str(matrix[i][j]))< max_digits:\n",
    "                space_str = \"\"\n",
    "                for u in range(max_digits-len(str(matrix[i][j]))):\n",
    "                    space_str = space_str + \" \"\n",
    "                row_str = row_str + str(matrix[i][j])+ space_str +\"  \"\n",
    "            else:\n",
    "                row_str = row_str + str(matrix[i][j])+\"  \"\n",
    "        print(row_str)  "
   ]
  },
  {
   "cell_type": "code",
   "execution_count": 4,
   "metadata": {
    "collapsed": true
   },
   "outputs": [],
   "source": [
    "#条形图的输出\n",
    "import matplotlib.pyplot as plt\n",
    "import numpy as np\n",
    "def comparisonPlot(label,y1,y2): \n",
    "    index = np.arange(0,21,1)\n",
    "    fig = plt.figure()\n",
    "    ax1 = fig.add_subplot(111)\n",
    "    names = (u'F-Score', u'Quantity')\n",
    "    subjects = index\n",
    "    bar_width = 0.35\n",
    "\n",
    "    ax1.bar(index, y1, bar_width, color='#0072BC', label=names[0])\n",
    "\n",
    "    ax1.set_xticks(index)  \n",
    "    ax1.set_xticklabels(label, rotation=0)\n",
    "    ax1.set_ylabel(\"The F-Score of each firsttype\")\n",
    "    ax1.set_xlabel(\"First Type Index\")\n",
    "    \n",
    "    ax2 = ax1.twinx()  # this is the important function\n",
    "    ax2.bar(index + bar_width, y2, bar_width, color='#ED1C24', label=names[1])\n",
    "    ax1.set_xticks(index + bar_width)  \n",
    "    ax2.set_ylabel(\"The quantity of each firsttype\")\n",
    "    \n",
    "    ax1.legend(loc='upper center', bbox_to_anchor=(0.35, -0.12))\n",
    "    ax2.legend(loc='upper center', bbox_to_anchor=(0.65, -0.12))\n",
    "    plt.show()"
   ]
  },
  {
   "cell_type": "code",
   "execution_count": null,
   "metadata": {
    "collapsed": true
   },
   "outputs": [],
   "source": []
  }
 ],
 "metadata": {
  "anaconda-cloud": {},
  "kernelspec": {
   "display_name": "Python [default]",
   "language": "python",
   "name": "python3"
  },
  "language_info": {
   "codemirror_mode": {
    "name": "ipython",
    "version": 3
   },
   "file_extension": ".py",
   "mimetype": "text/x-python",
   "name": "python",
   "nbconvert_exporter": "python",
   "pygments_lexer": "ipython3",
   "version": "3.5.2"
  }
 },
 "nbformat": 4,
 "nbformat_minor": 1
}
