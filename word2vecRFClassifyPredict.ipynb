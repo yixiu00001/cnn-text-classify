{
 "cells": [
  {
   "cell_type": "code",
   "execution_count": 4,
   "metadata": {
    "collapsed": true
   },
   "outputs": [],
   "source": [
    "# -*- coding: utf8 -*-"
   ]
  },
  {
   "cell_type": "code",
   "execution_count": 5,
   "metadata": {
    "collapsed": true
   },
   "outputs": [],
   "source": [
    "from pyspark import SparkConf, SparkContext\n",
    "from pyspark.sql import SQLContext\n",
    "conf = SparkConf().setAppName(\"hospitalDiseaseWorr2vec\")\n",
    "sc = SparkContext(conf=conf)\n",
    "sqlContext = SQLContext(sc)"
   ]
  },
  {
   "cell_type": "code",
   "execution_count": 6,
   "metadata": {
    "collapsed": true
   },
   "outputs": [],
   "source": [
    "import numpy as np\n",
    "from gensim.models import Word2Vec\n",
    "from medicalDataLoad import *"
   ]
  },
  {
   "cell_type": "code",
   "execution_count": 7,
   "metadata": {
    "collapsed": true
   },
   "outputs": [],
   "source": [
    "#RF model train and test\n",
    "from pyspark.mllib.tree import RandomForest, RandomForestModel\n",
    "from pyspark.mllib.util import MLUtils\n",
    "from time import time"
   ]
  },
  {
   "cell_type": "markdown",
   "metadata": {},
   "source": [
    "### load一级分类index和名称词典"
   ]
  },
  {
   "cell_type": "code",
   "execution_count": 16,
   "metadata": {
    "collapsed": false
   },
   "outputs": [
    {
     "name": "stdout",
     "output_type": "stream",
     "text": [
      "{'17': '症状、体症和临床与实验室异常所见，不可归类在他处者', '3': '内分泌、营养和代谢疾病', '4': '精神和行为障碍', '11': '皮肤和皮下组织病', '6': '眼和附器疾病', '18': '损伤、中毒和外因的某些其它后果', '15': '起源于围生期的某些情况', '10': '消化系统疾病', '16': '先天畸形、变性和染色体异常', '8': '循环系统疾病', '9': '呼吸系统疾病', '5': '神经系统疾病', '2': '血液及造血器官疾病和某些涉及免疫机制的疾患', '12': '肌肉和骨骼系统和结缔组织疾病', '19': '疾病和死亡的外因', '14': '妊娠分娩及产褥期', '0': '某些传染病和寄生虫病', '7': '耳和乳突疾病', '20': '影响健康状态和保健机构接触的因素', '1': '肿瘤', '13': '泌尿生殖系统疾病'}\n"
     ]
    }
   ],
   "source": [
    "def loadCodeType(fileName):\n",
    "    fileList = list(open(fileName,\"r\").readlines())\n",
    "    #print(fileList)\n",
    "    firstCode2IndexDict = dict()\n",
    "    firstIndex2TypeDict = dict()\n",
    "    for i in range(len(fileList)):\n",
    "        itemArr = fileList[i].strip().split(\" \")\n",
    "        firstCode2IndexDict[itemArr[0]] = itemArr[1]\n",
    "        firstIndex2TypeDict[itemArr[1]] = itemArr[2]\n",
    "    return firstCode2IndexDict, firstIndex2TypeDict\n",
    "fileName = \"datasets/firstCode2Index2Type.txt\"\n",
    "firstCode2IndexDict, firstIndex2TypeDict = loadCodeType(fileName)\n",
    "#print(firstCode2IndexDict)\n",
    "print(firstIndex2TypeDict)"
   ]
  },
  {
   "cell_type": "markdown",
   "metadata": {},
   "source": [
    "### 输入keyword，输出词向量的均值"
   ]
  },
  {
   "cell_type": "code",
   "execution_count": 17,
   "metadata": {
    "collapsed": true
   },
   "outputs": [],
   "source": [
    "#4.word2vec\n",
    "def keyWord2Vec(word, model,vector_size):\n",
    "    disNoList = list()\n",
    "    test_docs = word.split(\" \")\n",
    "    vecSum=np.zeros(vector_size)\n",
    "    realLen =0\n",
    "    for word in test_docs:\n",
    "        try:\n",
    "            #print(word)\n",
    "            vecTmp = model[word]\n",
    "            vecSum += vecTmp\n",
    "            realLen +=1\n",
    "        except KeyError:\n",
    "            disNoList.append(word)\n",
    "    #print(\"vec=\",vecSum)\n",
    "    return vecSum*1.0/realLen"
   ]
  },
  {
   "cell_type": "markdown",
   "metadata": {},
   "source": [
    "### 输入向量list，输出预测结果"
   ]
  },
  {
   "cell_type": "code",
   "execution_count": 18,
   "metadata": {
    "collapsed": true
   },
   "outputs": [],
   "source": [
    "def RFPredict(rfModel, inListKey):\n",
    "    inRDD = sc.parallelize(inListKey) \n",
    "    predict = rfModel.predict(inRDD)\n",
    "    for item in predict.collect():\n",
    "        print (int(item), firstIndex2TypeDict[str(int(item))])\n",
    "    res = [firstIndex2TypeDict[str(int(item))] for item in predict.collect()]\n",
    "    print(res)\n",
    "    return  predict"
   ]
  },
  {
   "cell_type": "markdown",
   "metadata": {},
   "source": [
    "### 输入disease+admin keyword，输出向量"
   ]
  },
  {
   "cell_type": "code",
   "execution_count": 27,
   "metadata": {
    "collapsed": true
   },
   "outputs": [],
   "source": [
    "def doPrepareKeywordDiseaseAndAdminAve(dis, admin, word2vec_model,vector_size):\n",
    "    disVec = keyWord2Vec(dis,word2vec_model,vector_size)\n",
    "    adminVec = keyWord2Vec(admin,word2vec_model,vector_size)\n",
    "    vecRow = (disVec + adminVec)*1.0/2 \n",
    "    return vecRow  "
   ]
  },
  {
   "cell_type": "markdown",
   "metadata": {},
   "source": [
    "### 输入关键字list，输出向量list"
   ]
  },
  {
   "cell_type": "code",
   "execution_count": 30,
   "metadata": {
    "collapsed": true
   },
   "outputs": [],
   "source": [
    "def doPrepareKeyList2VecList(inList):\n",
    "    vector_size = 100\n",
    "    modelName = \"model/word2VecModelsh.bin10_100_1e-05_15\"\n",
    "    word2vec_model = Word2Vec.load(modelName) \n",
    "    vecList = list()\n",
    "    for i in range(len(inList)):\n",
    "        item = inList[i]\n",
    "        itemArr = item.split(\" \")\n",
    "        dis = itemArr[0]\n",
    "        admin = \" \".join(itemArr[1:])\n",
    "        vec = doPrepareKeywordDiseaseAndAdminAve(dis, admin, word2vec_model,vector_size)\n",
    "        vecList.append(vec)\n",
    "    return vecList"
   ]
  },
  {
   "cell_type": "code",
   "execution_count": 35,
   "metadata": {
    "collapsed": false
   },
   "outputs": [
    {
     "name": "stdout",
     "output_type": "stream",
     "text": [
      "11 皮肤和皮下组织病\n",
      "1 肿瘤\n",
      "6 眼和附器疾病\n",
      "8 循环系统疾病\n",
      "10 消化系统疾病\n",
      "['皮肤和皮下组织病', '肿瘤', '眼和附器疾病', '循环系统疾病', '消化系统疾病']\n"
     ]
    }
   ],
   "source": [
    "def testRFKeyword():\n",
    "    inList = list() #皮肤  \n",
    "    inStr1 = \"大疱性类天疱疮 水疱 散在 疱液 四肢 红斑 黄豆 大小 纤维 鳞屑性丘疹 经治疗 轻度瘙痒 密集分布 潍坊市皮肤病医院 融合 钟台村委会 电镜检查 点状出血现象 疗效不佳 双侧 \"#神经系统疾病\n",
    "    inList.append(inStr1)\n",
    "    inStr2 = \"气管恶性肿瘤 湿性啰音 肝脾 无胸痛 查体 大小便 心率 下肢 失眠 发作 饮食\" #0\n",
    "    inList.append(inStr2)\n",
    "    inStr3 = \"虹膜异色性白内障 前房深度 晶状体混浊 虹膜 眼底 角膜 瞳孔 充血 水肿 模糊 直径 透明网膜 右眼结膜 B超 玻璃体混浊 玻璃体后脱离 右眼视力下降 眼结膜 不清 在位\"#眼和附器疾病\n",
    "    inList.append(inStr3)\n",
    "    inStr4 = \"脑梗死 视物不清 双侧瞳孔 心肺听诊 肌力肌张力 肢体活动 无恶心呕吐 视野缺损 等大 等圆 无压痛 查体 左眼 神志 不灵 食欲 未及 头晕 \"#循环系统疾病\n",
    "    inList.append(inStr4)\n",
    "    inStr5=\"膜炎 大便 患者 CT 周围脓肿形成 胆囊结石 伴胆囊炎 炎性病变 腹部疼痛 全腹 阑尾穿孔 排气排便 消化道穿孔 肾周围 腹腔粘连 自服药物 科会 阑尾粪石 左肾结石 阑尾炎 下腹部 腹膜\"#消化\n",
    "    inList.append(inStr5)\n",
    "\n",
    "\n",
    "    savePath  = \"datasets/w2v_rf_model2\"\n",
    "    rfModel = RandomForestModel.load(sc, savePath)\n",
    " \n",
    "    inListVec = doPrepareKeyList2VecList(inList )\n",
    "    res = RFPredict(rfModel, inListVec)\n",
    "testRFKeyword()"
   ]
  },
  {
   "cell_type": "markdown",
   "metadata": {},
   "source": [
    "### 入院情况输入原始文本，输出向量 "
   ]
  },
  {
   "cell_type": "code",
   "execution_count": 20,
   "metadata": {
    "collapsed": true
   },
   "outputs": [],
   "source": [
    "\n",
    "def doPrepareSourceDiseaseAndAdminAve(dis, admin, word2vec_model,vector_size):\n",
    "    adminKey = getKeyWordFromSource(admin)\n",
    "    disVec = keyWord2Vec(dis,word2vec_model,vector_size)\n",
    "    adminVec = keyWord2Vec(adminKey,word2vec_model,vector_size)\n",
    "    vecRow = (disVec + adminVec)*1.0/2 \n",
    "    return vecRow"
   ]
  },
  {
   "cell_type": "code",
   "execution_count": 21,
   "metadata": {
    "collapsed": false
   },
   "outputs": [
    {
     "name": "stdout",
     "output_type": "stream",
     "text": [
      "8 循环系统疾病\n",
      "1 肿瘤\n",
      "['循环系统疾病', '肿瘤']\n"
     ]
    }
   ],
   "source": [
    "def testRFSource():\n",
    "    vector_size = 100\n",
    "    modelName = \"model/word2VecModelsh.bin10_100_1e-05_15\"\n",
    "    word2vec_model = Word2Vec.load(modelName) \n",
    "    \n",
    "    inListKey = list()\n",
    "    inSource1Dis = \"脑梗死\"#循环\n",
    "    inSource1Adm = \"伸舌居中。颈软，无抵抗感，脑膜刺激征（-），心肺听诊无异常。右侧肢体肌力4+级，生理反射存在，病理征未引出。2015-02-23头颅MRI示脑梗死\"\n",
    "    inListKey.append(doPrepareSourceDiseaseAndAdminAve(inSource1Dis,inSource1Adm, word2vec_model, vector_size ))\n",
    "    \n",
    "    inSource2Dis = \"胃恶性肿瘤\"#肿瘤\n",
    "    inSource2Adm = \"患者1年半（2015年1月）前无明显原因及诱因出现上腹疼痛，后就诊于当地医院，行上腹部CT及胃镜检查，诊断“胃癌”，遂行胃癌手术治疗(具体手术范围不详)，术中发现肝脏转移结节，术后病理示“胃高分化腺癌”，术后未行放化疗，病情好转出院。患者于1月前无明显原因及诱因出现胸闷不适，无心悸、胸痛及肩背部放射痛，无发热、咳嗽、咳痰、咯血。为求进一步治疗就诊于我院，门诊以“胃癌术后”收入我科，患者自发病以来，神志清，精神好，饮食睡眠一般，大小便正常。\"\n",
    "    inListKey.append(doPrepareSourceDiseaseAndAdminAve(inSource2Dis,inSource2Adm,word2vec_model, vector_size ))\n",
    "    \n",
    "    savePath  = \"datasets/w2v_rf_model2\"\n",
    "    rfModel = RandomForestModel.load(sc, savePath)\n",
    "    res = RFPredict(rfModel, inListKey)\n",
    "\n",
    "testRFSource()"
   ]
  },
  {
   "cell_type": "code",
   "execution_count": null,
   "metadata": {
    "collapsed": true
   },
   "outputs": [],
   "source": []
  },
  {
   "cell_type": "code",
   "execution_count": null,
   "metadata": {
    "collapsed": true
   },
   "outputs": [],
   "source": []
  }
 ],
 "metadata": {
  "anaconda-cloud": {},
  "kernelspec": {
   "display_name": "Python [default]",
   "language": "python",
   "name": "python3"
  },
  "language_info": {
   "codemirror_mode": {
    "name": "ipython",
    "version": 3
   },
   "file_extension": ".py",
   "mimetype": "text/x-python",
   "name": "python",
   "nbconvert_exporter": "python",
   "pygments_lexer": "ipython3",
   "version": "3.5.2"
  }
 },
 "nbformat": 4,
 "nbformat_minor": 1
}
