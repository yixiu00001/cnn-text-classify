{
 "cells": [
  {
   "cell_type": "code",
   "execution_count": 1,
   "metadata": {
    "collapsed": true
   },
   "outputs": [],
   "source": [
    "# -*- coding: utf8 -*-"
   ]
  },
  {
   "cell_type": "code",
   "execution_count": 2,
   "metadata": {
    "collapsed": false
   },
   "outputs": [],
   "source": [
    "from pyspark import SparkConf, SparkContext\n",
    "from pyspark.sql import SQLContext\n",
    "conf = SparkConf().setAppName(\"hospitalDiseaseWorr2vec\")\n",
    "sc = SparkContext(conf=conf)"
   ]
  },
  {
   "cell_type": "code",
   "execution_count": 3,
   "metadata": {
    "collapsed": true
   },
   "outputs": [],
   "source": [
    "sqlContext = SQLContext(sc)"
   ]
  },
  {
   "cell_type": "code",
   "execution_count": 4,
   "metadata": {
    "collapsed": true
   },
   "outputs": [],
   "source": [
    "import numpy as np\n",
    "from gensim.models import Word2Vec\n",
    "from medicalDataLoad import *"
   ]
  },
  {
   "cell_type": "markdown",
   "metadata": {},
   "source": [
    "### 1. load入院数据"
   ]
  },
  {
   "cell_type": "code",
   "execution_count": 5,
   "metadata": {
    "collapsed": false
   },
   "outputs": [
    {
     "data": {
      "text/plain": [
       "(56416, 33)"
      ]
     },
     "execution_count": 5,
     "metadata": {},
     "output_type": "execute_result"
    }
   ],
   "source": [
    "import pandas as pd\n",
    "#829177\n",
    "diaPath = \"hospitalData/df_hospital_20171219_diseasematchKeywordNum.csv\"\n",
    "pd_dia = pd.read_csv(diaPath,  encoding='utf8').drop_duplicates()\n",
    "pd_dia.shape"
   ]
  },
  {
   "cell_type": "code",
   "execution_count": 6,
   "metadata": {
    "collapsed": false
   },
   "outputs": [],
   "source": [
    "#print(pd_dia.columns)\n",
    "#firstCode firstIndex firstType 映射，存储到文件中\n",
    "def save2CodeType():\n",
    "    pd_first = pd.read_csv(\"datasets/firstCode2Type.txt\")\n",
    "    code2TypeDict = dict()\n",
    "    firstCodeList = pd_first[\"FirstCode\"].tolist()\n",
    "    firstCodeDict =  dict(zip(list(firstCodeList), range(0, len(firstCodeList) + 1)))\n",
    "    firstTypeList = pd_first[\"FirstType\"].tolist()\n",
    "    for index in range(len(firstCodeList)):\n",
    "        code2TypeDict[firstCodeList[index]] = firstTypeList[index] \n",
    "    #print(\"len=\",len( pd_first[\"FirstCode\"]))\n",
    "    #print(\"res=\",code2TypeDict)\n",
    "    f = open(\"datasets/firstCode2Index2Type.txt\", \"w\")\n",
    "    for i in range(len(firstCodeList)):\n",
    "        key = firstCodeList[i]\n",
    "        print(str(key)+\" \"+ str(firstCodeDict[key])+\" \"+code2TypeDict[key])\n",
    "        f.write(str(key)+\" \"+ str(firstCodeDict[key])+\" \"+code2TypeDict[key]+\"\\n\" )\n",
    "    f.flush()\n",
    "    f.close()\n",
    "#save2CodeType()"
   ]
  },
  {
   "cell_type": "markdown",
   "metadata": {},
   "source": [
    "#### load一级分类index和名称词典"
   ]
  },
  {
   "cell_type": "code",
   "execution_count": 7,
   "metadata": {
    "collapsed": false
   },
   "outputs": [
    {
     "name": "stdout",
     "output_type": "stream",
     "text": [
      "{'19': '疾病和死亡的外因', '18': '损伤、中毒和外因的某些其它后果', '11': '皮肤和皮下组织病', '15': '起源于围生期的某些情况', '1': '肿瘤', '20': '影响健康状态和保健机构接触的因素', '3': '内分泌、营养和代谢疾病', '16': '先天畸形、变性和染色体异常', '4': '精神和行为障碍', '14': '妊娠分娩及产褥期', '13': '泌尿生殖系统疾病', '10': '消化系统疾病', '7': '耳和乳突疾病', '6': '眼和附器疾病', '17': '症状、体症和临床与实验室异常所见，不可归类在他处者', '2': '血液及造血器官疾病和某些涉及免疫机制的疾患', '8': '循环系统疾病', '0': '某些传染病和寄生虫病', '9': '呼吸系统疾病', '12': '肌肉和骨骼系统和结缔组织疾病', '5': '神经系统疾病'}\n"
     ]
    }
   ],
   "source": [
    "def loadCodeType(fileName):\n",
    "    fileList = list(open(fileName,\"r\").readlines())\n",
    "    #print(fileList)\n",
    "    firstCode2IndexDict = dict()\n",
    "    firstIndex2TypeDict = dict()\n",
    "    for i in range(len(fileList)):\n",
    "        itemArr = fileList[i].strip().split(\" \")\n",
    "        firstCode2IndexDict[itemArr[0]] = itemArr[1]\n",
    "        firstIndex2TypeDict[itemArr[1]] = itemArr[2]\n",
    "    return firstCode2IndexDict, firstIndex2TypeDict\n",
    "fileName = \"datasets/firstCode2Index2Type.txt\"\n",
    "firstCode2IndexDict, firstIndex2TypeDict = loadCodeType(fileName)\n",
    "#print(firstCode2IndexDict)\n",
    "print(firstIndex2TypeDict)"
   ]
  },
  {
   "cell_type": "markdown",
   "metadata": {},
   "source": [
    "### 2. 选取使用的字段"
   ]
  },
  {
   "cell_type": "code",
   "execution_count": 8,
   "metadata": {
    "collapsed": false
   },
   "outputs": [
    {
     "data": {
      "text/html": [
       "<div>\n",
       "<table border=\"1\" class=\"dataframe\">\n",
       "  <thead>\n",
       "    <tr style=\"text-align: right;\">\n",
       "      <th></th>\n",
       "      <th>FirstCode</th>\n",
       "      <th>disease</th>\n",
       "      <th>chief_complaintKey</th>\n",
       "      <th>present_illnessKey</th>\n",
       "      <th>admission_situationKey</th>\n",
       "      <th>treat_processKey</th>\n",
       "      <th>discharge_situationKey</th>\n",
       "      <th>discharge_orderKey</th>\n",
       "    </tr>\n",
       "  </thead>\n",
       "  <tbody>\n",
       "    <tr>\n",
       "      <th>0</th>\n",
       "      <td>I00-I99</td>\n",
       "      <td>脑梗死</td>\n",
       "      <td>NaN</td>\n",
       "      <td>NaN</td>\n",
       "      <td>侧肢体无力 双侧 病理征 患者病情 伸舌居中 肌力肌张力 心慌胸闷 无恶心呕吐 查房 肢体抽...</td>\n",
       "      <td>侧肢体无力 双侧 病理征 患者病情 伸舌居中 肌力肌张力 心慌胸闷 无恶心呕吐 查房 肢体抽...</td>\n",
       "      <td>侧肢体无力 双侧 病理征 患者病情 伸舌居中 肌力肌张力 心慌胸闷 无恶心呕吐 查房 肢体抽...</td>\n",
       "      <td>侧肢体无力 双侧 病理征 患者病情 伸舌居中 肌力肌张力 心慌胸闷 无恶心呕吐 查房 肢体抽...</td>\n",
       "    </tr>\n",
       "    <tr>\n",
       "      <th>1</th>\n",
       "      <td>I00-I99</td>\n",
       "      <td>脑梗死</td>\n",
       "      <td>NaN</td>\n",
       "      <td>NaN</td>\n",
       "      <td>左侧 未见异常 切题 腱反射 病理反射阴性 右侧顶叶 CT 记忆力下降 伸舌 轮替动作 肢体...</td>\n",
       "      <td>脑梗死</td>\n",
       "      <td>入院 脑萎缩 血管动脉硬化 双侧脑室 空蝶鞍 化验结果 桥脑 大脑后动脉狭窄 放射冠区 对症...</td>\n",
       "      <td>脑梗死 脑萎缩 双膝 3. 脑动脉硬化 退行性骨关节炎 狭窄</td>\n",
       "    </tr>\n",
       "    <tr>\n",
       "      <th>2</th>\n",
       "      <td>I00-I99</td>\n",
       "      <td>脑梗死</td>\n",
       "      <td>NaN</td>\n",
       "      <td>NaN</td>\n",
       "      <td>双侧 查房 双侧瞳孔 浅感觉 无恶心呕吐 心律齐 伸舌居中 双肺呼吸音清 巴氏征阴性 等大 ...</td>\n",
       "      <td>双侧 查房 双侧瞳孔 浅感觉 无恶心呕吐 心律齐 伸舌居中 双肺呼吸音清 巴氏征阴性 等大 ...</td>\n",
       "      <td>双侧 查房 双侧瞳孔 浅感觉 无恶心呕吐 心律齐 伸舌居中 双肺呼吸音清 巴氏征阴性 等大 ...</td>\n",
       "      <td>双侧 查房 双侧瞳孔 浅感觉 无恶心呕吐 心律齐 伸舌居中 双肺呼吸音清 巴氏征阴性 等大 ...</td>\n",
       "    </tr>\n",
       "  </tbody>\n",
       "</table>\n",
       "</div>"
      ],
      "text/plain": [
       "  FirstCode disease chief_complaintKey present_illnessKey  \\\n",
       "0   I00-I99     脑梗死                NaN                NaN   \n",
       "1   I00-I99     脑梗死                NaN                NaN   \n",
       "2   I00-I99     脑梗死                NaN                NaN   \n",
       "\n",
       "                              admission_situationKey  \\\n",
       "0  侧肢体无力 双侧 病理征 患者病情 伸舌居中 肌力肌张力 心慌胸闷 无恶心呕吐 查房 肢体抽...   \n",
       "1  左侧 未见异常 切题 腱反射 病理反射阴性 右侧顶叶 CT 记忆力下降 伸舌 轮替动作 肢体...   \n",
       "2  双侧 查房 双侧瞳孔 浅感觉 无恶心呕吐 心律齐 伸舌居中 双肺呼吸音清 巴氏征阴性 等大 ...   \n",
       "\n",
       "                                    treat_processKey  \\\n",
       "0  侧肢体无力 双侧 病理征 患者病情 伸舌居中 肌力肌张力 心慌胸闷 无恶心呕吐 查房 肢体抽...   \n",
       "1                                               脑梗死    \n",
       "2  双侧 查房 双侧瞳孔 浅感觉 无恶心呕吐 心律齐 伸舌居中 双肺呼吸音清 巴氏征阴性 等大 ...   \n",
       "\n",
       "                              discharge_situationKey  \\\n",
       "0  侧肢体无力 双侧 病理征 患者病情 伸舌居中 肌力肌张力 心慌胸闷 无恶心呕吐 查房 肢体抽...   \n",
       "1  入院 脑萎缩 血管动脉硬化 双侧脑室 空蝶鞍 化验结果 桥脑 大脑后动脉狭窄 放射冠区 对症...   \n",
       "2  双侧 查房 双侧瞳孔 浅感觉 无恶心呕吐 心律齐 伸舌居中 双肺呼吸音清 巴氏征阴性 等大 ...   \n",
       "\n",
       "                                  discharge_orderKey  \n",
       "0  侧肢体无力 双侧 病理征 患者病情 伸舌居中 肌力肌张力 心慌胸闷 无恶心呕吐 查房 肢体抽...  \n",
       "1                    脑梗死 脑萎缩 双膝 3. 脑动脉硬化 退行性骨关节炎 狭窄   \n",
       "2  双侧 查房 双侧瞳孔 浅感觉 无恶心呕吐 心律齐 伸舌居中 双肺呼吸音清 巴氏征阴性 等大 ...  "
      ]
     },
     "execution_count": 8,
     "metadata": {},
     "output_type": "execute_result"
    }
   ],
   "source": [
    "pd_dia_dis = pd_dia[[\"FirstCode\",\"disease\",\"chief_complaintKey\",\"present_illnessKey\",\"admission_situationKey\",\"treat_processKey\",\n",
    "                     \"discharge_situationKey\",\"discharge_orderKey\"]]\n",
    "pd_dia_dis.head(3)"
   ]
  },
  {
   "cell_type": "markdown",
   "metadata": {},
   "source": [
    "#### list数据按比例随机切分"
   ]
  },
  {
   "cell_type": "code",
   "execution_count": 9,
   "metadata": {
    "collapsed": false
   },
   "outputs": [],
   "source": [
    "#随机按照指定的比例切分训练集合和测试集合\n",
    "def doDatasetSplit(x,x_admin, y, test_size):\n",
    "    X_num=len(x)\n",
    "    train_index=[ i for i in range(X_num)]\n",
    "    #print(train_index)\n",
    "    test_index=[]\n",
    "    test_num=int(X_num*test_size)\n",
    "    print(\"test=\",test_num)\n",
    "    #随机选取index\n",
    "    for i in range(test_num):\n",
    "        randomIndex=int(np.random.uniform(0,len(train_index)))\n",
    "        if randomIndex not in train_index:\n",
    "            continue\n",
    "        test_index.append(train_index[randomIndex])\n",
    "        #print(randomIndex)\n",
    "        train_index.remove(randomIndex)\n",
    "    #train,test的index是抽取的数据集X的序号\n",
    "    x_disease_train = [x[item] for item in train_index]\n",
    "    x_admin_train = [x_admin[item] for item in train_index]\n",
    "    x_disease_test = [x[item] for item in test_index]\n",
    "    x_admin_test = [x_admin[item] for item in test_index]\n",
    "    \n",
    "    y_train = [y[item] for item in train_index]\n",
    "    y_test = [y[item] for item in test_index]\n",
    "\n",
    "    return x_disease_train, x_admin_train, x_disease_test,x_admin_test, y_train, y_test"
   ]
  },
  {
   "cell_type": "markdown",
   "metadata": {},
   "source": [
    "### 2.全量数据集合切分成训练集和测试集"
   ]
  },
  {
   "cell_type": "code",
   "execution_count": 10,
   "metadata": {
    "collapsed": false
   },
   "outputs": [
    {
     "name": "stdout",
     "output_type": "stream",
     "text": [
      "item= V01-Y98 19\n",
      "dis num= 11\n",
      "test= 2\n",
      "item= KOO-K93 10\n",
      "dis num= 5822\n",
      "test= 1164\n",
      "item= Q00-Q99 16\n",
      "dis num= 451\n",
      "test= 90\n",
      "item= A00-B99 0\n",
      "dis num= 3396\n",
      "test= 679\n",
      "item= P00-P96 15\n",
      "dis num= 465\n",
      "test= 93\n",
      "item= L00-L99 11\n",
      "dis num= 612\n",
      "test= 122\n",
      "item= F01-F99 4\n",
      "dis num= 164\n",
      "test= 32\n",
      "item= J00-J99 9\n",
      "dis num= 2800\n",
      "test= 560\n",
      "item= D50-D89 2\n",
      "dis num= 542\n",
      "test= 108\n",
      "item= R00-R99 17\n",
      "dis num= 3160\n",
      "test= 632\n",
      "item= C00-D48 1\n",
      "dis num= 8705\n",
      "test= 1741\n",
      "item= N00-N99 13\n",
      "dis num= 3380\n",
      "test= 676\n",
      "item= M00-M99 12\n",
      "dis num= 1773\n",
      "test= 354\n",
      "item= E00-E90 3\n",
      "dis num= 1347\n",
      "test= 269\n",
      "item= Z00-Z99 20\n",
      "dis num= 2698\n",
      "test= 539\n",
      "item= O00-O99 14\n",
      "dis num= 2619\n",
      "test= 523\n",
      "item= G00-G99 5\n",
      "dis num= 1861\n",
      "test= 372\n",
      "item= I00-I99 8\n",
      "dis num= 12769\n",
      "test= 2553\n",
      "item= S00-T98 18\n",
      "dis num= 1718\n",
      "test= 343\n",
      "item= H60-H95 7\n",
      "dis num= 281\n",
      "test= 56\n",
      "item= H00-H59 6\n",
      "dis num= 1842\n",
      "test= 368\n",
      "train size= 46287 test size= 10129\n",
      "sum= 56416\n"
     ]
    }
   ],
   "source": [
    "#1.load all datasets  2.do split on each first type datasets 3.merge to a final train and test sets 4.word to vector 5.do rf train and test\n",
    "#1.load all dataset pd_dia_dis\n",
    "def classifyDatasetsTF(pd_dia_dis,columnName, rate):\n",
    "    x_disease_trainAll = list()\n",
    "    x_admin_trainAll = list()\n",
    "    x_disease_testAll = list()\n",
    "    x_admin_testAll = list()\n",
    "    y_trainAll = list()\n",
    "    y_testAll = list()\n",
    "    \n",
    "    for item in firstCode2IndexDict.keys():\n",
    "        #2.do split oon each first type, disease and admission_situation\n",
    "        print(\"item=\", item,firstCode2IndexDict[item])\n",
    "        pd_tmp = pd_dia_dis[pd_dia_dis[\"FirstCode\"]==item]\n",
    "        x_disease = pd_tmp['disease'].tolist()\n",
    "        print(\"dis num=\",len(x_disease))\n",
    "        x_admin = pd_tmp[columnName].tolist()\n",
    "        #x_admin = pd_tmp[\"admission_situationKey\"].tolist()\n",
    "        label = firstCode2IndexDict[item]\n",
    "        nums = len(x_disease)\n",
    "        if nums==0:\n",
    "            continue\n",
    "        y = [label]*nums\n",
    "        x_disease_train, x_admin_train, x_disease_test,x_admin_test, y_train, y_test = doDatasetSplit(x_disease,x_admin, y, rate)\n",
    "        #3.merge \n",
    "        x_disease_trainAll.extend(x_disease_train)\n",
    "        x_admin_trainAll.extend(x_admin_train)\n",
    "        x_disease_testAll.extend(x_disease_test)\n",
    "        x_admin_testAll.extend(x_admin_test)\n",
    "        y_trainAll.extend(y_train)\n",
    "        y_testAll.extend(y_test)\n",
    "    print(\"train size=\", len(y_trainAll), \"test size=\", len(y_testAll))\n",
    "    print(\"sum=\",len(y_trainAll)+len(y_testAll))\n",
    "        \n",
    "    return x_disease_trainAll, x_admin_trainAll,x_disease_testAll,x_admin_testAll, y_trainAll, y_testAll\n",
    "rate = 0.2\n",
    "columnName = \"admission_situationKey\"\n",
    "x_disease_trainAll, x_admin_trainAll,x_disease_testAll,x_admin_testAll, y_trainAll, y_testAll = classifyDatasetsTF(pd_dia_dis,columnName,rate)"
   ]
  },
  {
   "cell_type": "code",
   "execution_count": 11,
   "metadata": {
    "collapsed": false
   },
   "outputs": [],
   "source": [
    "#构造fastText的训练样本和测试样本\n",
    "def doPrepareFastText(x_disease_trainAll, x_admin_trainAll, y_trainAll,x_disease_testAll,x_admin_testAll,y_testAll , filePathTrain,filePathTest,filePathTestFeature,filePathTestLabel):\n",
    "    fTrain = open(filePathTrain, \"w\")\n",
    "    fTest = open(filePathTest,\"w\")\n",
    "    fTestFeature = open(filePathTestFeature,\"w\")\n",
    "    fTestLable = open(filePathTestLabel,\"w\")\n",
    "    for i in range (len(x_disease_trainAll)):\n",
    "        dis = x_disease_trainAll[i]\n",
    "        adm = x_admin_trainAll[i]\n",
    "        y_train = y_trainAll[i]\n",
    "        #print(\"%d \" %(y_train))\n",
    "        y_trainStr = (\"%s \" %(y_train))\n",
    "        featureStrTrain = (\"%s%s\" %(str(dis)+\" \" + str(adm) + \" __label__\", y_trainStr))\n",
    "        fTrain.write(str(featureStrTrain)+\"\\n\")\n",
    "    fTrain.flush()\n",
    "    fTrain.close()\n",
    "    \n",
    "    for i in range(len(x_disease_testAll)):\n",
    "        disTest = x_disease_testAll[i]\n",
    "        admTest = x_admin_testAll[i]\n",
    "        y_test = y_testAll[i]\n",
    "        y_testStr = (\"%s \" %(y_test))\n",
    "        featureStrTest = (\"%s%s\" %(str(disTest)+\" \" + str(admTest) + \" __label__\", y_testStr))\n",
    "        fTest.write(str(featureStrTest)+\"\\n\")\n",
    "        featureStrTestF = (\"%s\" %(str(disTest)+\" \" + str(admTest) + \" \"))\n",
    "        fTestFeature.write(str(featureStrTestF)+\"\\n\")\n",
    "        featureStrTestL = (\"%s%s\" %(\"__label__\", y_testStr))\n",
    "        fTestLable.write(str(featureStrTestL)+\"\\n\")\n",
    "    \n",
    "    fTestFeature.flush()\n",
    "    fTestFeature.close()\n",
    "    fTestLable.flush()\n",
    "    fTestLable.close()\n",
    "filePathTrain = \"datasets/fastText.train\"\n",
    "filePathTestFeature = \"datasets/fastTextFeature.test\"\n",
    "filePathTestLabel = \"datasets/fastTextLabel.test\"\n",
    "filePathTest = \"datasets/fastText.test\"\n",
    "doPrepareFastText(x_disease_trainAll, x_admin_trainAll, y_trainAll,x_disease_testAll,x_admin_testAll,y_testAll , filePathTrain,filePathTest,filePathTestFeature,filePathTestLabel )"
   ]
  },
  {
   "cell_type": "code",
   "execution_count": 12,
   "metadata": {
    "collapsed": true
   },
   "outputs": [],
   "source": [
    "#构造CNN的训练样本和测试样本\n",
    "def doPrepareCNN(x_disease_trainAll, x_admin_trainAll, y_trainAll, filePath):\n",
    "    f = open(filePath+\".feature\", \"w\")\n",
    "    f_label =open(filePath+\".label\" ,\"w\")\n",
    "    for i in range (len(x_disease_trainAll)):\n",
    "        dis = x_disease_trainAll[i]\n",
    "        adm = x_admin_trainAll[i]\n",
    "        y_train = y_trainAll[i]\n",
    "        \n",
    "        y_trainStr = (\"%s \" %(y_train))\n",
    "        #featureStr = (\"%s%s\" %(str(dis)+\" \" + str(adm) + \" __label__\", y_trainStr))\n",
    "                               \n",
    "        featureStr = (\"%s\" %(str(dis)+\" \" + str(adm)))\n",
    "        labelStr = (\"%s\" %(y_trainStr))\n",
    "        f.write(str(featureStr)+\"\\n\")\n",
    "        f_label.write(labelStr+\"\\n\")\n",
    "    f.flush()\n",
    "    f.close()\n",
    "\n",
    "filePath = \"cnnModel/datasets/train\"\n",
    "#doPrepareCNN(x_disease_trainAll, x_admin_trainAll, y_trainAll, filePath )\n",
    "filePathtest = \"cnnModel/datasets/test\"\n",
    "#doPrepareCNN(x_disease_testAll,x_admin_testAll,y_testAll, filePathtest )"
   ]
  },
  {
   "cell_type": "markdown",
   "metadata": {},
   "source": [
    "#### 输入分词后文本，产出向量均值"
   ]
  },
  {
   "cell_type": "code",
   "execution_count": 13,
   "metadata": {
    "collapsed": true
   },
   "outputs": [],
   "source": [
    "#4.word2vec\n",
    "def keyWord2Vec(word, model,vector_size):\n",
    "    disNoList = list()\n",
    "    test_docs = word.split(\" \")\n",
    "    vecSum=np.zeros(vector_size)\n",
    "    realLen =0\n",
    "    for word in test_docs:\n",
    "        try:\n",
    "            #print(word)\n",
    "            vecTmp = model[word]\n",
    "            vecSum += vecTmp\n",
    "            realLen +=1\n",
    "        except KeyError:\n",
    "            disNoList.append(word)\n",
    "    #print(\"vec=\",vecSum)\n",
    "    return vecSum*1.0/realLen"
   ]
  },
  {
   "cell_type": "code",
   "execution_count": 14,
   "metadata": {
    "collapsed": false
   },
   "outputs": [],
   "source": [
    "#caculate the vertor, do average\n",
    "from pyspark.mllib.regression import LabeledPoint\n",
    "keyNum = 20\n",
    "def datasetsFormatAve(x_disease_trainAll, x_admin_trainAll, y_trainAll, word2vec_model, vector_size):\n",
    "    formatList = list()\n",
    "    adminVec=np.zeros(vector_size)\n",
    "    for i in range(len(x_disease_trainAll)):\n",
    "        label = y_trainAll[i]\n",
    "        \n",
    "        vecRow = \"\"\n",
    "        realKeyWord = 0\n",
    "        dis = x_disease_trainAll[i]\n",
    "        if(len(x_admin_trainAll)>0):\n",
    "            admin = x_admin_trainAll[i]      \n",
    "            if str(admin).lower() == 'nan':\n",
    "                continue\n",
    "            #4.word2vec\n",
    "            adminVec = keyWord2Vec(admin,word2vec_model,vector_size)\n",
    "        if not dis in word2vec_model.wv:\n",
    "            continue\n",
    "        disVec = keyWord2Vec(dis,word2vec_model,vector_size)\n",
    "        vecRow = (disVec + adminVec)*1.0/2 \n",
    "     \n",
    "        row = LabeledPoint(label, vecRow)\n",
    "        formatList.append(row)\n",
    "    trainRDD = sc.parallelize(formatList)\n",
    "    \n",
    "    return trainRDD\n",
    "#vector_size = 100\n",
    "#trainRDD = datasetsFormatAve(x_disease_trainAll, x_admin_trainAll, y_trainAll, word2vec_model, vector_size)\n",
    "#testRDD = datasetsFormatAve(x_disease_testAll,x_admin_testAll,y_testAll, word2vec_model,vector_size)"
   ]
  },
  {
   "cell_type": "code",
   "execution_count": 15,
   "metadata": {
    "collapsed": false
   },
   "outputs": [],
   "source": [
    "#concat all the vectors ,it's very large\n",
    "from pyspark.mllib.regression import LabeledPoint\n",
    "keyNum = 20\n",
    "def datasetsFormat(x_disease_trainAll, x_admin_trainAll, y_trainAll, word2vec_model, vector_size):\n",
    "    formatList = list()\n",
    "    for i in range(len(x_disease_trainAll)):\n",
    "        #print(i)\n",
    "        vecRow = \"\"\n",
    "        realKeyWord = 0\n",
    "        dis = x_disease_trainAll[i]\n",
    "        admin = x_admin_trainAll[i]\n",
    "       \n",
    "        if str(admin).lower() == 'nan':\n",
    "            continue\n",
    "        adminArr = admin.strip().split(\" \")\n",
    "        label = y_trainAll[i]\n",
    "        if not dis in word2vec_model.wv:\n",
    "            continue\n",
    "        #select 20 admin keeywords\n",
    "        minKeyNum = min(len(adminArr), keyNum)\n",
    "        for index in range(minKeyNum):\n",
    "            ad = adminArr[index]\n",
    "            if ad in word2vec_model.wv:\n",
    "                adVec = word2vec_model.wv[ad]\n",
    "                adVecStr = [str(item) for item in adVec]\n",
    "                vecRow = vecRow + \" \".join(adVecStr)+\" \"\n",
    "                realKeyWord += 1\n",
    "        #print(\"index=\",index)\n",
    "        #如果关键字数量不足，补空值\n",
    "        adVecStrTmp = [str(0) for i in range(vector_size)]\n",
    "        while realKeyWord<keyNum:\n",
    "            vecRow = vecRow + \" \".join(adVecStrTmp)+\" \"\n",
    "            realKeyWord +=1\n",
    "        #将disease的vec向量和20个关键字向量拼接\n",
    "        vec = word2vec_model.wv[dis]\n",
    "        vecStr = [str(item) for item in vec]\n",
    "        vecRow = \" \".join(adVecStr)+\" \"+ vecRow\n",
    "        tmp = vecRow.strip().split(\" \")\n",
    "   \n",
    "        row = LabeledPoint(label, vecRow.strip().split(\" \"))\n",
    "        formatList.append(row)\n",
    "    trainRDD = sc.parallelize(formatList)\n",
    "    \n",
    "    return trainRDD\n",
    "#trainRDD = datasetsFormat(x_disease_trainAll, x_admin_trainAll, y_trainAll, word2vec_model)\n",
    "#testRDD = datasetsFormat(x_disease_testAll,x_admin_testAll,y_testAll, word2vec_model)"
   ]
  },
  {
   "cell_type": "markdown",
   "metadata": {},
   "source": [
    "### 3.数据集向量化"
   ]
  },
  {
   "cell_type": "code",
   "execution_count": 16,
   "metadata": {
    "collapsed": false
   },
   "outputs": [],
   "source": [
    "#get the train datasets and test datasets\n",
    "def datasetsFormatAll(x_disease_trainAll, x_admin_trainAll,x_disease_testAll,x_admin_testAll, y_trainAll, y_testAll, word2vec_model,vector_size):\n",
    "    trainRDD = datasetsFormat(x_disease_trainAll, x_admin_trainAll, y_trainAll, word2vec_model,vector_size)\n",
    "    testRDD = datasetsFormat(x_disease_testAll,x_admin_testAll,y_testAll, word2vec_model,vector_size)\n",
    "    return trainRDD, testRDD\n",
    "#trainRDD, testRDD = datasetsFormatAll(x_disease_trainAll, x_admin_trainAll,x_disease_testAll,x_admin_testAll, y_trainAll, y_testAll, word2vec_model,vector_size)"
   ]
  },
  {
   "cell_type": "code",
   "execution_count": 17,
   "metadata": {
    "collapsed": false
   },
   "outputs": [],
   "source": [
    "#get the train datasets and test datasets\n",
    "def datasetsFormatAllAve(x_disease_trainAll, x_admin_trainAll,x_disease_testAll,x_admin_testAll, y_trainAll, y_testAll, word2vec_model, vector_size):\n",
    "    trainRDD = datasetsFormatAve(x_disease_trainAll, x_admin_trainAll, y_trainAll, word2vec_model, vector_size)\n",
    "    testRDD = datasetsFormatAve(x_disease_testAll,x_admin_testAll,y_testAll, word2vec_model, vector_size)\n",
    "    return trainRDD, testRDD\n",
    "#modelName = \"model/word2VecModelsh.bin10_100_1e-05_15\"\n",
    "#savePath  = \"datasets/w2v_rf_model2\"\n",
    "#word2vec_model = Word2Vec.load(modelName) \n",
    "#vector_size = 100\n",
    "#trainRDD, testRDD = datasetsFormatAllAve(x_disease_trainAll, x_admin_trainAll,x_disease_testAll,x_admin_testAll, y_trainAll, y_testAll, word2vec_model, vector_size)"
   ]
  },
  {
   "cell_type": "markdown",
   "metadata": {},
   "source": [
    "### 4.随机森林模型训练和测试"
   ]
  },
  {
   "cell_type": "code",
   "execution_count": 18,
   "metadata": {
    "collapsed": false
   },
   "outputs": [],
   "source": [
    "#RF model train and test\n",
    "from pyspark.mllib.tree import RandomForest, RandomForestModel\n",
    "from pyspark.mllib.util import MLUtils\n",
    "from time import time\n",
    "\n",
    "from sklearn.metrics import classification_report\n",
    "from sklearn.metrics import confusion_matrix\n",
    "from sklearn.metrics import cohen_kappa_score\n",
    "\n",
    "from ModelVisualization import *\n",
    "def doRFrain(trainRDD, testRDD,savePath):\n",
    "    maxTreeDepth = 4#5#5   #树的深度\n",
    "    numTrees = 50#100\n",
    "    numClass = 21\n",
    "    t0 = time()\n",
    "    # Train a RandomForest model.\n",
    "    #  Empty categoricalFeaturesInfo indicates all features are continuous.\n",
    "    #  Note: Use larger numTrees in practice.\n",
    "    #  Setting featureSubsetStrategy=\"auto\" lets the algorithm choose.\n",
    "    model = RandomForest.trainClassifier(trainRDD, numClasses=numClass, categoricalFeaturesInfo={},\n",
    "                                     numTrees=numTrees, featureSubsetStrategy=\"auto\",\n",
    "                                     impurity='gini', maxDepth=maxTreeDepth, maxBins=32)\n",
    " \n",
    "    tt = time() - t0\n",
    "    print (\"RandomForest Classifier trained in {} seconds\".format(round(tt,3)))\n",
    "    \n",
    "    # Evaluate model on test instances and compute test error\n",
    "    predictions = model.predict(testRDD.map(lambda x: x.features))\n",
    "    labelsAndPredictions = testRDD.map(lambda lp: lp.label).zip(predictions)\n",
    "    testErr = labelsAndPredictions.filter(\n",
    "        lambda lp: lp[0]== lp[1]).count() / float(testRDD.count())\n",
    "    print('Test Accuracy = ' + str(testErr))\n",
    "    \n",
    "    true_label = testRDD.map(lambda lp: lp.label).collect()\n",
    "    predict_label = predictions.collect()\n",
    "    #输出Kappa系数\n",
    "    print(\"kappa_score = \", cohen_kappa_score(true_label,predict_label))\n",
    "    #输出分类报告\n",
    "    print(\"Print classificatioin report:\")\n",
    "    print(classification_report(true_label,predict_label))\n",
    "    #输出原始的混淆矩阵\n",
    "    print(\"Confusion matrix:\")\n",
    "    #print(confusion_matrix(true_label,predict_label))\n",
    "    #输出混淆矩阵的优化显示\n",
    "    matrixDisplay(confusion_matrix(true_label,predict_label))\n",
    "    #输出F-score和每类样本数量的对比条形图\n",
    "    print(\"Print precisiion recall and F1-SCORE\")\n",
    "    precision_list, recall_list, f_list, key_list, true_count_list = testPrecision(predict_label, true_label)\n",
    "    comparisonPlot(key_list,f_list,true_count_list)\n",
    "    #print(model.toDebugString()) \n",
    "    #model.save(sc, savePath)\n",
    "    return model\n"
   ]
  },
  {
   "cell_type": "markdown",
   "metadata": {},
   "source": [
    "#### 训练模型测试"
   ]
  },
  {
   "cell_type": "code",
   "execution_count": 19,
   "metadata": {
    "collapsed": false
   },
   "outputs": [
    {
     "name": "stdout",
     "output_type": "stream",
     "text": [
      "rmr: DEPRECATED: Please use 'rm -r' instead.\n",
      "rmr: `/user/root/datasets/w2v_rf_model2/': No such file or directory\n",
      "RandomForest Classifier trained in 19.27 seconds\n",
      "Test Accuracy = 0.7945556761021797\n",
      "kappa_score =  0.764581799213\n",
      "Print classificatioin report:\n",
      "             precision    recall  f1-score   support\n",
      "\n",
      "        0.0       1.00      0.87      0.93       623\n",
      "        1.0       0.97      0.99      0.98      1538\n",
      "        2.0       0.00      0.00      0.00        96\n",
      "        3.0       1.00      0.01      0.02       236\n",
      "        4.0       0.00      0.00      0.00        28\n",
      "        5.0       1.00      0.73      0.84       339\n",
      "        6.0       1.00      0.81      0.89       328\n",
      "        7.0       0.00      0.00      0.00        51\n",
      "        8.0       0.81      0.99      0.89      2311\n",
      "        9.0       1.00      0.18      0.30       509\n",
      "       10.0       0.42      0.95      0.58      1043\n",
      "       11.0       1.00      0.45      0.62       107\n",
      "       12.0       1.00      0.77      0.87       320\n",
      "       13.0       0.88      0.95      0.91       616\n",
      "       14.0       0.94      0.99      0.97       462\n",
      "       15.0       0.00      0.00      0.00        85\n",
      "       16.0       0.00      0.00      0.00        80\n",
      "       17.0       1.00      0.28      0.44       567\n",
      "       18.0       1.00      0.49      0.66       309\n",
      "       19.0       0.00      0.00      0.00         2\n",
      "       20.0       1.00      0.92      0.96       489\n",
      "\n",
      "avg / total       0.85      0.79      0.77     10139\n",
      "\n",
      "Confusion matrix:\n",
      "545   1     0     0     0     0     0     0     1     0     74    0     0     2     0     0     0     0     0     0     0     \n",
      "0     1516  0     0     0     0     0     0     2     0     18    0     0     2     0     0     0     0     0     0     0     \n",
      "0     0     0     0     0     0     0     0     5     0     91    0     0     0     0     0     0     0     0     0     0     \n",
      "0     31    0     2     0     0     0     0     136   0     65    0     0     1     0     0     0     0     0     0     1     \n",
      "1     0     0     0     0     0     0     0     27    0     0     0     0     0     0     0     0     0     0     0     0     \n",
      "0     0     0     0     0     246   0     0     21    0     71    0     0     1     0     0     0     0     0     0     0     \n",
      "0     0     0     0     0     0     265   0     11    0     51    0     0     1     0     0     0     0     0     0     0     \n",
      "0     0     0     0     0     0     0     0     0     0     50    0     0     0     1     0     0     0     0     0     0     \n",
      "0     0     0     0     0     0     0     0     2298  0     12    0     0     1     0     0     0     0     0     0     0     \n",
      "0     12    0     0     0     0     0     0     74    91    332   0     0     0     0     0     0     0     0     0     0     \n",
      "0     4     0     0     0     0     0     0     44    0     995   0     0     0     0     0     0     0     0     0     0     \n",
      "0     0     0     0     0     0     0     0     20    0     39    48    0     0     0     0     0     0     0     0     0     \n",
      "0     0     0     0     0     0     0     0     24    0     51    0     245   0     0     0     0     0     0     0     0     \n",
      "0     0     0     0     0     0     0     0     3     0     7     0     0     583   23    0     0     0     0     0     0     \n",
      "0     0     0     0     0     0     0     0     0     0     3     0     0     0     459   0     0     0     0     0     0     \n",
      "0     0     0     0     0     0     0     0     0     0     85    0     0     0     0     0     0     0     0     0     0     \n",
      "0     0     0     0     0     0     0     0     12    0     30    0     0     38    0     0     0     0     0     0     0     \n",
      "0     0     0     0     0     0     0     0     101   0     298   0     0     6     2     0     0     160   0     0     0     \n",
      "0     1     0     0     0     0     0     0     65    0     85    0     0     7     0     0     0     0     151   0     0     \n",
      "0     0     0     0     0     0     0     0     0     0     2     0     0     0     0     0     0     0     0     0     0     \n",
      "0     0     0     0     0     0     0     0     0     0     16    0     0     20    1     0     0     0     0     0     452   \n",
      "Print precisiion recall and F1-SCORE\n",
      "true count :  {0.0: 623, 1.0: 1538, 2.0: 96, 3.0: 236, 4.0: 28, 5.0: 339, 6.0: 328, 7.0: 51, 8.0: 2311, 9.0: 509, 10.0: 1043, 11.0: 107, 12.0: 320, 13.0: 616, 14.0: 462, 15.0: 85, 16.0: 80, 17.0: 567, 18.0: 309, 19.0: 2, 20.0: 489}\n"
     ]
    },
    {
     "name": "stderr",
     "output_type": "stream",
     "text": [
      "/opt/anaconda3/lib/python3.5/site-packages/sklearn/metrics/classification.py:1074: UndefinedMetricWarning: Precision and F-score are ill-defined and being set to 0.0 in labels with no predicted samples.\n",
      "  'precision', 'predicted', average, warn_for)\n"
     ]
    },
    {
     "data": {
      "image/png": "[encoded data removed]",
      "text/plain": [
       "<matplotlib.figure.Figure at 0x7f10f5a6deb8>"
      ]
     },
     "metadata": {},
     "output_type": "display_data"
    }
   ],
   "source": [
    "def doRFTrainTest():\n",
    "    modelName = \"model/word2VecModelsh.bin10_100_1e-05_15\"\n",
    "    savePath  = \"datasets/w2v_rf_model2\"\n",
    "    !hadoop fs -rmr /user/root/datasets/w2v_rf_model2/\n",
    "    word2vec_model = Word2Vec.load(modelName) \n",
    "    vector_size = 100\n",
    "    trainRDD = datasetsFormatAve(x_disease_trainAll, x_admin_trainAll, y_trainAll, word2vec_model, vector_size)\n",
    "    testRDD = datasetsFormatAve(x_disease_testAll,x_admin_testAll,y_testAll, word2vec_model,vector_size)\n",
    "    rfModel = doRFrain(trainRDD, testRDD,savePath)\n",
    "    rfModel.save(sc, savePath)\n",
    "    return rfModel\n",
    "rfModel = doRFTrainTest()"
   ]
  },
  {
   "cell_type": "markdown",
   "metadata": {},
   "source": [
    "#### 模型预测，输入向量list，转化成spark 的DataFrame，计算预测结果"
   ]
  },
  {
   "cell_type": "code",
   "execution_count": 19,
   "metadata": {
    "collapsed": true
   },
   "outputs": [],
   "source": [
    "def RFPredict(rfModel, inListKey):\n",
    "    inRDD = sc.parallelize(inListKey) \n",
    "    predict = rfModel.predict(inRDD)\n",
    "    for item in predict.collect():\n",
    "        print (int(item), firstIndex2TypeDict[str(int(item))])\n",
    "    res = [firstIndex2TypeDict[str(int(item))] for item in predict.collect()]\n",
    "    print(res)\n",
    "    return  predict"
   ]
  },
  {
   "cell_type": "code",
   "execution_count": 33,
   "metadata": {
    "collapsed": false
   },
   "outputs": [
    {
     "ename": "Py4JJavaError",
     "evalue": "An error occurred while calling z:org.apache.spark.api.python.PythonRDD.collectAndServe.\n: org.apache.spark.SparkException: Job aborted due to stage failure: Task 3 in stage 21.0 failed 1 times, most recent failure: Lost task 3.0 in stage 21.0 (TID 63, localhost, executor driver): org.apache.spark.api.python.PythonException: Traceback (most recent call last):\n  File \"/usr/hdp/2.6.1.0-129/spark2/python/lib/pyspark.zip/pyspark/worker.py\", line 174, in main\n    process()\n  File \"/usr/hdp/2.6.1.0-129/spark2/python/lib/pyspark.zip/pyspark/worker.py\", line 169, in process\n    serializer.dump_stream(func(split_index, iterator), outfile)\n  File \"/usr/hdp/2.6.1.0-129/spark2/python/lib/pyspark.zip/pyspark/serializers.py\", line 268, in dump_stream\n    vs = list(itertools.islice(iterator, batch))\n  File \"/usr/hdp/2.6.1.0-129/spark2/python/lib/pyspark.zip/pyspark/mllib/linalg/__init__.py\", line 83, in _convert_to_vector\n    raise TypeError(\"Cannot convert type %s into Vector\" % type(l))\nTypeError: Cannot convert type <class 'str'> into Vector\n\n\tat org.apache.spark.api.python.PythonRunner$$anon$1.read(PythonRDD.scala:193)\n\tat org.apache.spark.api.python.PythonRunner$$anon$1.<init>(PythonRDD.scala:234)\n\tat org.apache.spark.api.python.PythonRunner.compute(PythonRDD.scala:152)\n\tat org.apache.spark.api.python.PythonRDD.compute(PythonRDD.scala:63)\n\tat org.apache.spark.rdd.RDD.computeOrReadCheckpoint(RDD.scala:323)\n\tat org.apache.spark.rdd.RDD.iterator(RDD.scala:287)\n\tat org.apache.spark.rdd.MapPartitionsRDD.compute(MapPartitionsRDD.scala:38)\n\tat org.apache.spark.rdd.RDD.computeOrReadCheckpoint(RDD.scala:323)\n\tat org.apache.spark.rdd.RDD.iterator(RDD.scala:287)\n\tat org.apache.spark.rdd.MapPartitionsRDD.compute(MapPartitionsRDD.scala:38)\n\tat org.apache.spark.rdd.RDD.computeOrReadCheckpoint(RDD.scala:323)\n\tat org.apache.spark.rdd.RDD.iterator(RDD.scala:287)\n\tat org.apache.spark.rdd.MapPartitionsRDD.compute(MapPartitionsRDD.scala:38)\n\tat org.apache.spark.rdd.RDD.computeOrReadCheckpoint(RDD.scala:323)\n\tat org.apache.spark.rdd.RDD.iterator(RDD.scala:287)\n\tat org.apache.spark.scheduler.ResultTask.runTask(ResultTask.scala:87)\n\tat org.apache.spark.scheduler.Task.run(Task.scala:99)\n\tat org.apache.spark.executor.Executor$TaskRunner.run(Executor.scala:322)\n\tat java.util.concurrent.ThreadPoolExecutor.runWorker(ThreadPoolExecutor.java:1142)\n\tat java.util.concurrent.ThreadPoolExecutor$Worker.run(ThreadPoolExecutor.java:617)\n\tat java.lang.Thread.run(Thread.java:745)\n\nDriver stacktrace:\n\tat org.apache.spark.scheduler.DAGScheduler.org$apache$spark$scheduler$DAGScheduler$$failJobAndIndependentStages(DAGScheduler.scala:1435)\n\tat org.apache.spark.scheduler.DAGScheduler$$anonfun$abortStage$1.apply(DAGScheduler.scala:1423)\n\tat org.apache.spark.scheduler.DAGScheduler$$anonfun$abortStage$1.apply(DAGScheduler.scala:1422)\n\tat scala.collection.mutable.ResizableArray$class.foreach(ResizableArray.scala:59)\n\tat scala.collection.mutable.ArrayBuffer.foreach(ArrayBuffer.scala:48)\n\tat org.apache.spark.scheduler.DAGScheduler.abortStage(DAGScheduler.scala:1422)\n\tat org.apache.spark.scheduler.DAGScheduler$$anonfun$handleTaskSetFailed$1.apply(DAGScheduler.scala:802)\n\tat org.apache.spark.scheduler.DAGScheduler$$anonfun$handleTaskSetFailed$1.apply(DAGScheduler.scala:802)\n\tat scala.Option.foreach(Option.scala:257)\n\tat org.apache.spark.scheduler.DAGScheduler.handleTaskSetFailed(DAGScheduler.scala:802)\n\tat org.apache.spark.scheduler.DAGSchedulerEventProcessLoop.doOnReceive(DAGScheduler.scala:1650)\n\tat org.apache.spark.scheduler.DAGSchedulerEventProcessLoop.onReceive(DAGScheduler.scala:1605)\n\tat org.apache.spark.scheduler.DAGSchedulerEventProcessLoop.onReceive(DAGScheduler.scala:1594)\n\tat org.apache.spark.util.EventLoop$$anon$1.run(EventLoop.scala:48)\n\tat org.apache.spark.scheduler.DAGScheduler.runJob(DAGScheduler.scala:628)\n\tat org.apache.spark.SparkContext.runJob(SparkContext.scala:1925)\n\tat org.apache.spark.SparkContext.runJob(SparkContext.scala:1938)\n\tat org.apache.spark.SparkContext.runJob(SparkContext.scala:1951)\n\tat org.apache.spark.SparkContext.runJob(SparkContext.scala:1965)\n\tat org.apache.spark.rdd.RDD$$anonfun$collect$1.apply(RDD.scala:936)\n\tat org.apache.spark.rdd.RDDOperationScope$.withScope(RDDOperationScope.scala:151)\n\tat org.apache.spark.rdd.RDDOperationScope$.withScope(RDDOperationScope.scala:112)\n\tat org.apache.spark.rdd.RDD.withScope(RDD.scala:362)\n\tat org.apache.spark.rdd.RDD.collect(RDD.scala:935)\n\tat org.apache.spark.api.python.PythonRDD$.collectAndServe(PythonRDD.scala:453)\n\tat org.apache.spark.api.python.PythonRDD.collectAndServe(PythonRDD.scala)\n\tat sun.reflect.NativeMethodAccessorImpl.invoke0(Native Method)\n\tat sun.reflect.NativeMethodAccessorImpl.invoke(NativeMethodAccessorImpl.java:62)\n\tat sun.reflect.DelegatingMethodAccessorImpl.invoke(DelegatingMethodAccessorImpl.java:43)\n\tat java.lang.reflect.Method.invoke(Method.java:497)\n\tat py4j.reflection.MethodInvoker.invoke(MethodInvoker.java:244)\n\tat py4j.reflection.ReflectionEngine.invoke(ReflectionEngine.java:357)\n\tat py4j.Gateway.invoke(Gateway.java:280)\n\tat py4j.commands.AbstractCommand.invokeMethod(AbstractCommand.java:132)\n\tat py4j.commands.CallCommand.execute(CallCommand.java:79)\n\tat py4j.GatewayConnection.run(GatewayConnection.java:214)\n\tat java.lang.Thread.run(Thread.java:745)\nCaused by: org.apache.spark.api.python.PythonException: Traceback (most recent call last):\n  File \"/usr/hdp/2.6.1.0-129/spark2/python/lib/pyspark.zip/pyspark/worker.py\", line 174, in main\n    process()\n  File \"/usr/hdp/2.6.1.0-129/spark2/python/lib/pyspark.zip/pyspark/worker.py\", line 169, in process\n    serializer.dump_stream(func(split_index, iterator), outfile)\n  File \"/usr/hdp/2.6.1.0-129/spark2/python/lib/pyspark.zip/pyspark/serializers.py\", line 268, in dump_stream\n    vs = list(itertools.islice(iterator, batch))\n  File \"/usr/hdp/2.6.1.0-129/spark2/python/lib/pyspark.zip/pyspark/mllib/linalg/__init__.py\", line 83, in _convert_to_vector\n    raise TypeError(\"Cannot convert type %s into Vector\" % type(l))\nTypeError: Cannot convert type <class 'str'> into Vector\n\n\tat org.apache.spark.api.python.PythonRunner$$anon$1.read(PythonRDD.scala:193)\n\tat org.apache.spark.api.python.PythonRunner$$anon$1.<init>(PythonRDD.scala:234)\n\tat org.apache.spark.api.python.PythonRunner.compute(PythonRDD.scala:152)\n\tat org.apache.spark.api.python.PythonRDD.compute(PythonRDD.scala:63)\n\tat org.apache.spark.rdd.RDD.computeOrReadCheckpoint(RDD.scala:323)\n\tat org.apache.spark.rdd.RDD.iterator(RDD.scala:287)\n\tat org.apache.spark.rdd.MapPartitionsRDD.compute(MapPartitionsRDD.scala:38)\n\tat org.apache.spark.rdd.RDD.computeOrReadCheckpoint(RDD.scala:323)\n\tat org.apache.spark.rdd.RDD.iterator(RDD.scala:287)\n\tat org.apache.spark.rdd.MapPartitionsRDD.compute(MapPartitionsRDD.scala:38)\n\tat org.apache.spark.rdd.RDD.computeOrReadCheckpoint(RDD.scala:323)\n\tat org.apache.spark.rdd.RDD.iterator(RDD.scala:287)\n\tat org.apache.spark.rdd.MapPartitionsRDD.compute(MapPartitionsRDD.scala:38)\n\tat org.apache.spark.rdd.RDD.computeOrReadCheckpoint(RDD.scala:323)\n\tat org.apache.spark.rdd.RDD.iterator(RDD.scala:287)\n\tat org.apache.spark.scheduler.ResultTask.runTask(ResultTask.scala:87)\n\tat org.apache.spark.scheduler.Task.run(Task.scala:99)\n\tat org.apache.spark.executor.Executor$TaskRunner.run(Executor.scala:322)\n\tat java.util.concurrent.ThreadPoolExecutor.runWorker(ThreadPoolExecutor.java:1142)\n\tat java.util.concurrent.ThreadPoolExecutor$Worker.run(ThreadPoolExecutor.java:617)\n\t... 1 more\n",
     "output_type": "error",
     "traceback": [
      "\u001b[0;31m---------------------------------------------------------------------------\u001b[0m",
      "\u001b[0;31mPy4JJavaError\u001b[0m                             Traceback (most recent call last)",
      "\u001b[0;32m<ipython-input-33-96c706dcdcc0>\u001b[0m in \u001b[0;36m<module>\u001b[0;34m()\u001b[0m\n\u001b[1;32m     19\u001b[0m     \u001b[0mrfModel\u001b[0m \u001b[0;34m=\u001b[0m \u001b[0mRandomForestModel\u001b[0m\u001b[0;34m.\u001b[0m\u001b[0mload\u001b[0m\u001b[0;34m(\u001b[0m\u001b[0msc\u001b[0m\u001b[0;34m,\u001b[0m \u001b[0msavePath\u001b[0m\u001b[0;34m)\u001b[0m\u001b[0;34m\u001b[0m\u001b[0m\n\u001b[1;32m     20\u001b[0m     \u001b[0mres\u001b[0m \u001b[0;34m=\u001b[0m \u001b[0mRFPredict\u001b[0m\u001b[0;34m(\u001b[0m\u001b[0mrfModel\u001b[0m\u001b[0;34m,\u001b[0m \u001b[0minList\u001b[0m\u001b[0;34m)\u001b[0m\u001b[0;34m\u001b[0m\u001b[0m\n\u001b[0;32m---> 21\u001b[0;31m \u001b[0mtestRFKeyword\u001b[0m\u001b[0;34m(\u001b[0m\u001b[0;34m)\u001b[0m\u001b[0;34m\u001b[0m\u001b[0m\n\u001b[0m",
      "\u001b[0;32m<ipython-input-33-96c706dcdcc0>\u001b[0m in \u001b[0;36mtestRFKeyword\u001b[0;34m()\u001b[0m\n\u001b[1;32m     18\u001b[0m     \u001b[0msavePath\u001b[0m  \u001b[0;34m=\u001b[0m \u001b[0;34m\"datasets/w2v_rf_model2\"\u001b[0m\u001b[0;34m\u001b[0m\u001b[0m\n\u001b[1;32m     19\u001b[0m     \u001b[0mrfModel\u001b[0m \u001b[0;34m=\u001b[0m \u001b[0mRandomForestModel\u001b[0m\u001b[0;34m.\u001b[0m\u001b[0mload\u001b[0m\u001b[0;34m(\u001b[0m\u001b[0msc\u001b[0m\u001b[0;34m,\u001b[0m \u001b[0msavePath\u001b[0m\u001b[0;34m)\u001b[0m\u001b[0;34m\u001b[0m\u001b[0m\n\u001b[0;32m---> 20\u001b[0;31m     \u001b[0mres\u001b[0m \u001b[0;34m=\u001b[0m \u001b[0mRFPredict\u001b[0m\u001b[0;34m(\u001b[0m\u001b[0mrfModel\u001b[0m\u001b[0;34m,\u001b[0m \u001b[0minList\u001b[0m\u001b[0;34m)\u001b[0m\u001b[0;34m\u001b[0m\u001b[0m\n\u001b[0m\u001b[1;32m     21\u001b[0m \u001b[0mtestRFKeyword\u001b[0m\u001b[0;34m(\u001b[0m\u001b[0;34m)\u001b[0m\u001b[0;34m\u001b[0m\u001b[0m\n",
      "\u001b[0;32m<ipython-input-19-bb0b11f5ade2>\u001b[0m in \u001b[0;36mRFPredict\u001b[0;34m(rfModel, inListKey)\u001b[0m\n\u001b[1;32m      2\u001b[0m     \u001b[0minRDD\u001b[0m \u001b[0;34m=\u001b[0m \u001b[0msc\u001b[0m\u001b[0;34m.\u001b[0m\u001b[0mparallelize\u001b[0m\u001b[0;34m(\u001b[0m\u001b[0minListKey\u001b[0m\u001b[0;34m)\u001b[0m\u001b[0;34m\u001b[0m\u001b[0m\n\u001b[1;32m      3\u001b[0m     \u001b[0mpredict\u001b[0m \u001b[0;34m=\u001b[0m \u001b[0mrfModel\u001b[0m\u001b[0;34m.\u001b[0m\u001b[0mpredict\u001b[0m\u001b[0;34m(\u001b[0m\u001b[0minRDD\u001b[0m\u001b[0;34m)\u001b[0m\u001b[0;34m\u001b[0m\u001b[0m\n\u001b[0;32m----> 4\u001b[0;31m     \u001b[0;32mfor\u001b[0m \u001b[0mitem\u001b[0m \u001b[0;32min\u001b[0m \u001b[0mpredict\u001b[0m\u001b[0;34m.\u001b[0m\u001b[0mcollect\u001b[0m\u001b[0;34m(\u001b[0m\u001b[0;34m)\u001b[0m\u001b[0;34m:\u001b[0m\u001b[0;34m\u001b[0m\u001b[0m\n\u001b[0m\u001b[1;32m      5\u001b[0m         \u001b[0mprint\u001b[0m \u001b[0;34m(\u001b[0m\u001b[0mint\u001b[0m\u001b[0;34m(\u001b[0m\u001b[0mitem\u001b[0m\u001b[0;34m)\u001b[0m\u001b[0;34m,\u001b[0m \u001b[0mfirstIndex2TypeDict\u001b[0m\u001b[0;34m[\u001b[0m\u001b[0mstr\u001b[0m\u001b[0;34m(\u001b[0m\u001b[0mint\u001b[0m\u001b[0;34m(\u001b[0m\u001b[0mitem\u001b[0m\u001b[0;34m)\u001b[0m\u001b[0;34m)\u001b[0m\u001b[0;34m]\u001b[0m\u001b[0;34m)\u001b[0m\u001b[0;34m\u001b[0m\u001b[0m\n\u001b[1;32m      6\u001b[0m     \u001b[0mres\u001b[0m \u001b[0;34m=\u001b[0m \u001b[0;34m[\u001b[0m\u001b[0mfirstIndex2TypeDict\u001b[0m\u001b[0;34m[\u001b[0m\u001b[0mstr\u001b[0m\u001b[0;34m(\u001b[0m\u001b[0mint\u001b[0m\u001b[0;34m(\u001b[0m\u001b[0mitem\u001b[0m\u001b[0;34m)\u001b[0m\u001b[0;34m)\u001b[0m\u001b[0;34m]\u001b[0m \u001b[0;32mfor\u001b[0m \u001b[0mitem\u001b[0m \u001b[0;32min\u001b[0m \u001b[0mpredict\u001b[0m\u001b[0;34m.\u001b[0m\u001b[0mcollect\u001b[0m\u001b[0;34m(\u001b[0m\u001b[0;34m)\u001b[0m\u001b[0;34m]\u001b[0m\u001b[0;34m\u001b[0m\u001b[0m\n",
      "\u001b[0;32m/usr/hdp/2.6.1.0-129/spark2/python/pyspark/rdd.py\u001b[0m in \u001b[0;36mcollect\u001b[0;34m(self)\u001b[0m\n\u001b[1;32m    806\u001b[0m         \"\"\"\n\u001b[1;32m    807\u001b[0m         \u001b[0;32mwith\u001b[0m \u001b[0mSCCallSiteSync\u001b[0m\u001b[0;34m(\u001b[0m\u001b[0mself\u001b[0m\u001b[0;34m.\u001b[0m\u001b[0mcontext\u001b[0m\u001b[0;34m)\u001b[0m \u001b[0;32mas\u001b[0m \u001b[0mcss\u001b[0m\u001b[0;34m:\u001b[0m\u001b[0;34m\u001b[0m\u001b[0m\n\u001b[0;32m--> 808\u001b[0;31m             \u001b[0mport\u001b[0m \u001b[0;34m=\u001b[0m \u001b[0mself\u001b[0m\u001b[0;34m.\u001b[0m\u001b[0mctx\u001b[0m\u001b[0;34m.\u001b[0m\u001b[0m_jvm\u001b[0m\u001b[0;34m.\u001b[0m\u001b[0mPythonRDD\u001b[0m\u001b[0;34m.\u001b[0m\u001b[0mcollectAndServe\u001b[0m\u001b[0;34m(\u001b[0m\u001b[0mself\u001b[0m\u001b[0;34m.\u001b[0m\u001b[0m_jrdd\u001b[0m\u001b[0;34m.\u001b[0m\u001b[0mrdd\u001b[0m\u001b[0;34m(\u001b[0m\u001b[0;34m)\u001b[0m\u001b[0;34m)\u001b[0m\u001b[0;34m\u001b[0m\u001b[0m\n\u001b[0m\u001b[1;32m    809\u001b[0m         \u001b[0;32mreturn\u001b[0m \u001b[0mlist\u001b[0m\u001b[0;34m(\u001b[0m\u001b[0m_load_from_socket\u001b[0m\u001b[0;34m(\u001b[0m\u001b[0mport\u001b[0m\u001b[0;34m,\u001b[0m \u001b[0mself\u001b[0m\u001b[0;34m.\u001b[0m\u001b[0m_jrdd_deserializer\u001b[0m\u001b[0;34m)\u001b[0m\u001b[0;34m)\u001b[0m\u001b[0;34m\u001b[0m\u001b[0m\n\u001b[1;32m    810\u001b[0m \u001b[0;34m\u001b[0m\u001b[0m\n",
      "\u001b[0;32m/usr/hdp/2.6.1.0-129/spark2/python/lib/py4j-0.10.4-src.zip/py4j/java_gateway.py\u001b[0m in \u001b[0;36m__call__\u001b[0;34m(self, *args)\u001b[0m\n\u001b[1;32m   1131\u001b[0m         \u001b[0manswer\u001b[0m \u001b[0;34m=\u001b[0m \u001b[0mself\u001b[0m\u001b[0;34m.\u001b[0m\u001b[0mgateway_client\u001b[0m\u001b[0;34m.\u001b[0m\u001b[0msend_command\u001b[0m\u001b[0;34m(\u001b[0m\u001b[0mcommand\u001b[0m\u001b[0;34m)\u001b[0m\u001b[0;34m\u001b[0m\u001b[0m\n\u001b[1;32m   1132\u001b[0m         return_value = get_return_value(\n\u001b[0;32m-> 1133\u001b[0;31m             answer, self.gateway_client, self.target_id, self.name)\n\u001b[0m\u001b[1;32m   1134\u001b[0m \u001b[0;34m\u001b[0m\u001b[0m\n\u001b[1;32m   1135\u001b[0m         \u001b[0;32mfor\u001b[0m \u001b[0mtemp_arg\u001b[0m \u001b[0;32min\u001b[0m \u001b[0mtemp_args\u001b[0m\u001b[0;34m:\u001b[0m\u001b[0;34m\u001b[0m\u001b[0m\n",
      "\u001b[0;32m/usr/hdp/2.6.1.0-129/spark2/python/pyspark/sql/utils.py\u001b[0m in \u001b[0;36mdeco\u001b[0;34m(*a, **kw)\u001b[0m\n\u001b[1;32m     61\u001b[0m     \u001b[0;32mdef\u001b[0m \u001b[0mdeco\u001b[0m\u001b[0;34m(\u001b[0m\u001b[0;34m*\u001b[0m\u001b[0ma\u001b[0m\u001b[0;34m,\u001b[0m \u001b[0;34m**\u001b[0m\u001b[0mkw\u001b[0m\u001b[0;34m)\u001b[0m\u001b[0;34m:\u001b[0m\u001b[0;34m\u001b[0m\u001b[0m\n\u001b[1;32m     62\u001b[0m         \u001b[0;32mtry\u001b[0m\u001b[0;34m:\u001b[0m\u001b[0;34m\u001b[0m\u001b[0m\n\u001b[0;32m---> 63\u001b[0;31m             \u001b[0;32mreturn\u001b[0m \u001b[0mf\u001b[0m\u001b[0;34m(\u001b[0m\u001b[0;34m*\u001b[0m\u001b[0ma\u001b[0m\u001b[0;34m,\u001b[0m \u001b[0;34m**\u001b[0m\u001b[0mkw\u001b[0m\u001b[0;34m)\u001b[0m\u001b[0;34m\u001b[0m\u001b[0m\n\u001b[0m\u001b[1;32m     64\u001b[0m         \u001b[0;32mexcept\u001b[0m \u001b[0mpy4j\u001b[0m\u001b[0;34m.\u001b[0m\u001b[0mprotocol\u001b[0m\u001b[0;34m.\u001b[0m\u001b[0mPy4JJavaError\u001b[0m \u001b[0;32mas\u001b[0m \u001b[0me\u001b[0m\u001b[0;34m:\u001b[0m\u001b[0;34m\u001b[0m\u001b[0m\n\u001b[1;32m     65\u001b[0m             \u001b[0ms\u001b[0m \u001b[0;34m=\u001b[0m \u001b[0me\u001b[0m\u001b[0;34m.\u001b[0m\u001b[0mjava_exception\u001b[0m\u001b[0;34m.\u001b[0m\u001b[0mtoString\u001b[0m\u001b[0;34m(\u001b[0m\u001b[0;34m)\u001b[0m\u001b[0;34m\u001b[0m\u001b[0m\n",
      "\u001b[0;32m/usr/hdp/2.6.1.0-129/spark2/python/lib/py4j-0.10.4-src.zip/py4j/protocol.py\u001b[0m in \u001b[0;36mget_return_value\u001b[0;34m(answer, gateway_client, target_id, name)\u001b[0m\n\u001b[1;32m    317\u001b[0m                 raise Py4JJavaError(\n\u001b[1;32m    318\u001b[0m                     \u001b[0;34m\"An error occurred while calling {0}{1}{2}.\\n\"\u001b[0m\u001b[0;34m.\u001b[0m\u001b[0;34m\u001b[0m\u001b[0m\n\u001b[0;32m--> 319\u001b[0;31m                     format(target_id, \".\", name), value)\n\u001b[0m\u001b[1;32m    320\u001b[0m             \u001b[0;32melse\u001b[0m\u001b[0;34m:\u001b[0m\u001b[0;34m\u001b[0m\u001b[0m\n\u001b[1;32m    321\u001b[0m                 raise Py4JError(\n",
      "\u001b[0;31mPy4JJavaError\u001b[0m: An error occurred while calling z:org.apache.spark.api.python.PythonRDD.collectAndServe.\n: org.apache.spark.SparkException: Job aborted due to stage failure: Task 3 in stage 21.0 failed 1 times, most recent failure: Lost task 3.0 in stage 21.0 (TID 63, localhost, executor driver): org.apache.spark.api.python.PythonException: Traceback (most recent call last):\n  File \"/usr/hdp/2.6.1.0-129/spark2/python/lib/pyspark.zip/pyspark/worker.py\", line 174, in main\n    process()\n  File \"/usr/hdp/2.6.1.0-129/spark2/python/lib/pyspark.zip/pyspark/worker.py\", line 169, in process\n    serializer.dump_stream(func(split_index, iterator), outfile)\n  File \"/usr/hdp/2.6.1.0-129/spark2/python/lib/pyspark.zip/pyspark/serializers.py\", line 268, in dump_stream\n    vs = list(itertools.islice(iterator, batch))\n  File \"/usr/hdp/2.6.1.0-129/spark2/python/lib/pyspark.zip/pyspark/mllib/linalg/__init__.py\", line 83, in _convert_to_vector\n    raise TypeError(\"Cannot convert type %s into Vector\" % type(l))\nTypeError: Cannot convert type <class 'str'> into Vector\n\n\tat org.apache.spark.api.python.PythonRunner$$anon$1.read(PythonRDD.scala:193)\n\tat org.apache.spark.api.python.PythonRunner$$anon$1.<init>(PythonRDD.scala:234)\n\tat org.apache.spark.api.python.PythonRunner.compute(PythonRDD.scala:152)\n\tat org.apache.spark.api.python.PythonRDD.compute(PythonRDD.scala:63)\n\tat org.apache.spark.rdd.RDD.computeOrReadCheckpoint(RDD.scala:323)\n\tat org.apache.spark.rdd.RDD.iterator(RDD.scala:287)\n\tat org.apache.spark.rdd.MapPartitionsRDD.compute(MapPartitionsRDD.scala:38)\n\tat org.apache.spark.rdd.RDD.computeOrReadCheckpoint(RDD.scala:323)\n\tat org.apache.spark.rdd.RDD.iterator(RDD.scala:287)\n\tat org.apache.spark.rdd.MapPartitionsRDD.compute(MapPartitionsRDD.scala:38)\n\tat org.apache.spark.rdd.RDD.computeOrReadCheckpoint(RDD.scala:323)\n\tat org.apache.spark.rdd.RDD.iterator(RDD.scala:287)\n\tat org.apache.spark.rdd.MapPartitionsRDD.compute(MapPartitionsRDD.scala:38)\n\tat org.apache.spark.rdd.RDD.computeOrReadCheckpoint(RDD.scala:323)\n\tat org.apache.spark.rdd.RDD.iterator(RDD.scala:287)\n\tat org.apache.spark.scheduler.ResultTask.runTask(ResultTask.scala:87)\n\tat org.apache.spark.scheduler.Task.run(Task.scala:99)\n\tat org.apache.spark.executor.Executor$TaskRunner.run(Executor.scala:322)\n\tat java.util.concurrent.ThreadPoolExecutor.runWorker(ThreadPoolExecutor.java:1142)\n\tat java.util.concurrent.ThreadPoolExecutor$Worker.run(ThreadPoolExecutor.java:617)\n\tat java.lang.Thread.run(Thread.java:745)\n\nDriver stacktrace:\n\tat org.apache.spark.scheduler.DAGScheduler.org$apache$spark$scheduler$DAGScheduler$$failJobAndIndependentStages(DAGScheduler.scala:1435)\n\tat org.apache.spark.scheduler.DAGScheduler$$anonfun$abortStage$1.apply(DAGScheduler.scala:1423)\n\tat org.apache.spark.scheduler.DAGScheduler$$anonfun$abortStage$1.apply(DAGScheduler.scala:1422)\n\tat scala.collection.mutable.ResizableArray$class.foreach(ResizableArray.scala:59)\n\tat scala.collection.mutable.ArrayBuffer.foreach(ArrayBuffer.scala:48)\n\tat org.apache.spark.scheduler.DAGScheduler.abortStage(DAGScheduler.scala:1422)\n\tat org.apache.spark.scheduler.DAGScheduler$$anonfun$handleTaskSetFailed$1.apply(DAGScheduler.scala:802)\n\tat org.apache.spark.scheduler.DAGScheduler$$anonfun$handleTaskSetFailed$1.apply(DAGScheduler.scala:802)\n\tat scala.Option.foreach(Option.scala:257)\n\tat org.apache.spark.scheduler.DAGScheduler.handleTaskSetFailed(DAGScheduler.scala:802)\n\tat org.apache.spark.scheduler.DAGSchedulerEventProcessLoop.doOnReceive(DAGScheduler.scala:1650)\n\tat org.apache.spark.scheduler.DAGSchedulerEventProcessLoop.onReceive(DAGScheduler.scala:1605)\n\tat org.apache.spark.scheduler.DAGSchedulerEventProcessLoop.onReceive(DAGScheduler.scala:1594)\n\tat org.apache.spark.util.EventLoop$$anon$1.run(EventLoop.scala:48)\n\tat org.apache.spark.scheduler.DAGScheduler.runJob(DAGScheduler.scala:628)\n\tat org.apache.spark.SparkContext.runJob(SparkContext.scala:1925)\n\tat org.apache.spark.SparkContext.runJob(SparkContext.scala:1938)\n\tat org.apache.spark.SparkContext.runJob(SparkContext.scala:1951)\n\tat org.apache.spark.SparkContext.runJob(SparkContext.scala:1965)\n\tat org.apache.spark.rdd.RDD$$anonfun$collect$1.apply(RDD.scala:936)\n\tat org.apache.spark.rdd.RDDOperationScope$.withScope(RDDOperationScope.scala:151)\n\tat org.apache.spark.rdd.RDDOperationScope$.withScope(RDDOperationScope.scala:112)\n\tat org.apache.spark.rdd.RDD.withScope(RDD.scala:362)\n\tat org.apache.spark.rdd.RDD.collect(RDD.scala:935)\n\tat org.apache.spark.api.python.PythonRDD$.collectAndServe(PythonRDD.scala:453)\n\tat org.apache.spark.api.python.PythonRDD.collectAndServe(PythonRDD.scala)\n\tat sun.reflect.NativeMethodAccessorImpl.invoke0(Native Method)\n\tat sun.reflect.NativeMethodAccessorImpl.invoke(NativeMethodAccessorImpl.java:62)\n\tat sun.reflect.DelegatingMethodAccessorImpl.invoke(DelegatingMethodAccessorImpl.java:43)\n\tat java.lang.reflect.Method.invoke(Method.java:497)\n\tat py4j.reflection.MethodInvoker.invoke(MethodInvoker.java:244)\n\tat py4j.reflection.ReflectionEngine.invoke(ReflectionEngine.java:357)\n\tat py4j.Gateway.invoke(Gateway.java:280)\n\tat py4j.commands.AbstractCommand.invokeMethod(AbstractCommand.java:132)\n\tat py4j.commands.CallCommand.execute(CallCommand.java:79)\n\tat py4j.GatewayConnection.run(GatewayConnection.java:214)\n\tat java.lang.Thread.run(Thread.java:745)\nCaused by: org.apache.spark.api.python.PythonException: Traceback (most recent call last):\n  File \"/usr/hdp/2.6.1.0-129/spark2/python/lib/pyspark.zip/pyspark/worker.py\", line 174, in main\n    process()\n  File \"/usr/hdp/2.6.1.0-129/spark2/python/lib/pyspark.zip/pyspark/worker.py\", line 169, in process\n    serializer.dump_stream(func(split_index, iterator), outfile)\n  File \"/usr/hdp/2.6.1.0-129/spark2/python/lib/pyspark.zip/pyspark/serializers.py\", line 268, in dump_stream\n    vs = list(itertools.islice(iterator, batch))\n  File \"/usr/hdp/2.6.1.0-129/spark2/python/lib/pyspark.zip/pyspark/mllib/linalg/__init__.py\", line 83, in _convert_to_vector\n    raise TypeError(\"Cannot convert type %s into Vector\" % type(l))\nTypeError: Cannot convert type <class 'str'> into Vector\n\n\tat org.apache.spark.api.python.PythonRunner$$anon$1.read(PythonRDD.scala:193)\n\tat org.apache.spark.api.python.PythonRunner$$anon$1.<init>(PythonRDD.scala:234)\n\tat org.apache.spark.api.python.PythonRunner.compute(PythonRDD.scala:152)\n\tat org.apache.spark.api.python.PythonRDD.compute(PythonRDD.scala:63)\n\tat org.apache.spark.rdd.RDD.computeOrReadCheckpoint(RDD.scala:323)\n\tat org.apache.spark.rdd.RDD.iterator(RDD.scala:287)\n\tat org.apache.spark.rdd.MapPartitionsRDD.compute(MapPartitionsRDD.scala:38)\n\tat org.apache.spark.rdd.RDD.computeOrReadCheckpoint(RDD.scala:323)\n\tat org.apache.spark.rdd.RDD.iterator(RDD.scala:287)\n\tat org.apache.spark.rdd.MapPartitionsRDD.compute(MapPartitionsRDD.scala:38)\n\tat org.apache.spark.rdd.RDD.computeOrReadCheckpoint(RDD.scala:323)\n\tat org.apache.spark.rdd.RDD.iterator(RDD.scala:287)\n\tat org.apache.spark.rdd.MapPartitionsRDD.compute(MapPartitionsRDD.scala:38)\n\tat org.apache.spark.rdd.RDD.computeOrReadCheckpoint(RDD.scala:323)\n\tat org.apache.spark.rdd.RDD.iterator(RDD.scala:287)\n\tat org.apache.spark.scheduler.ResultTask.runTask(ResultTask.scala:87)\n\tat org.apache.spark.scheduler.Task.run(Task.scala:99)\n\tat org.apache.spark.executor.Executor$TaskRunner.run(Executor.scala:322)\n\tat java.util.concurrent.ThreadPoolExecutor.runWorker(ThreadPoolExecutor.java:1142)\n\tat java.util.concurrent.ThreadPoolExecutor$Worker.run(ThreadPoolExecutor.java:617)\n\t... 1 more\n"
     ]
    }
   ],
   "source": [
    "def testRFKeyword():\n",
    "    inList = list()   \n",
    "    inStr1 = \"癫痫 颈软 抽搐\"#神经系统疾病\n",
    "    inList.append(inStr1)\n",
    "    inStr2 = \"流涕 惊厥 皮疹 腹泻 消退 睡眠 呕吐 发热\" #0\n",
    "    inList.append(inStr2)\n",
    "    inStr3 = \"虹膜异色  IOL植入术 左眼\"#眼和附器疾病\n",
    "    inList.append(inStr3)\n",
    "    inStr4 = \"脑梗死 视物不清 双侧瞳孔 心肺听诊 肌力肌张力 肢体活动 无恶心呕吐 视野缺损 等大 等圆 无压痛 查体 左眼 神志 不灵 食欲 未及 头晕 \"#循环系统疾病\n",
    "    inList.append(inStr4)\n",
    "    inStr5=\"肺呼吸音 3月 术后切口愈合 右偏 入院查体 未触及 病理性杂音 感压 颈软 瓣膜听诊区 心前区 恶性肿瘤术后 湿性啰音\"#循环系统疾病\n",
    "    inList.append(inStr5)\n",
    "    inStr6 = \"畸形 无压痛 右肺癌 肺呼吸音 双肺 查体 听诊 肿大 分泌物 右肺 蜘蛛痣 未见异常 黄染 转移 切题 脾未触及\"#1肿瘤\n",
    "    inList.append(inStr6)\n",
    "    inStr7=\"直腿抬高试验 坐骨神经牵拉试验 加强实验 四字 试验 黄染 局部压痛 双肺呼吸音清 右下肢 反跳痛\"#15\n",
    "    inList.append(inStr7)\n",
    "\n",
    "    savePath  = \"datasets/w2v_rf_model2\"\n",
    "    rfModel = RandomForestModel.load(sc, savePath)\n",
    "    res = RFPredict(rfModel, inList)\n",
    "testRFKeyword()"
   ]
  },
  {
   "cell_type": "markdown",
   "metadata": {},
   "source": [
    "#### 输入原始的disease字段和入院情况字段，输出向量"
   ]
  },
  {
   "cell_type": "code",
   "execution_count": 25,
   "metadata": {
    "collapsed": false
   },
   "outputs": [],
   "source": [
    "\n",
    "def doPrepareSourceDiseaseAndAdminAve(dis, admin, word2vec_model,vector_size):\n",
    "    adminKey = getKeyWordFromSource(admin)\n",
    "    disVec = keyWord2Vec(dis,word2vec_model,vector_size)\n",
    "    adminVec = keyWord2Vec(adminKey,word2vec_model,vector_size)\n",
    "    vecRow = (disVec + adminVec)*1.0/2 \n",
    "    return vecRow"
   ]
  },
  {
   "cell_type": "markdown",
   "metadata": {},
   "source": [
    "## 输入原始数据，输出分类结果，即标签"
   ]
  },
  {
   "cell_type": "code",
   "execution_count": 30,
   "metadata": {
    "collapsed": false
   },
   "outputs": [
    {
     "name": "stdout",
     "output_type": "stream",
     "text": [
      "8 循环系统疾病\n",
      "1 肿瘤\n",
      "['循环系统疾病', '肿瘤']\n"
     ]
    }
   ],
   "source": [
    "def testRFSource():\n",
    "    vector_size = 100\n",
    "    modelName = \"model/word2VecModelsh.bin10_100_1e-05_15\"\n",
    "    word2vec_model = Word2Vec.load(modelName) \n",
    "    \n",
    "    inListKey = list()\n",
    "    inSource1Dis = \"脑梗死\"#8\n",
    "    inSource1Adm = \"伸舌居中。颈软，无抵抗感，脑膜刺激征（-），心肺听诊无异常。右侧肢体肌力4+级，生理反射存在，病理征未引出。2015-02-23头颅MRI示脑梗死\"\n",
    "    inListKey.append(doPrepareSourceDiseaseAndAdminAve(inSource1Dis,inSource1Adm, word2vec_model, vector_size ))\n",
    "    \n",
    "    inSource2Dis = \"胃恶性肿瘤\"#肿瘤\n",
    "    inSource2Adm = \"患者1年半（2015年1月）前无明显原因及诱因出现上腹疼痛，后就诊于当地医院，行上腹部CT及胃镜检查，诊断“胃癌”，遂行胃癌手术治疗(具体手术范围不详)，术中发现肝脏转移结节，术后病理示“胃高分化腺癌”，术后未行放化疗，病情好转出院。患者于1月前无明显原因及诱因出现胸闷不适，无心悸、胸痛及肩背部放射痛，无发热、咳嗽、咳痰、咯血。为求进一步治疗就诊于我院，门诊以“胃癌术后”收入我科，患者自发病以来，神志清，精神好，饮食睡眠一般，大小便正常。\"\n",
    "    inListKey.append(doPrepareSourceDiseaseAndAdminAve(inSource2Dis,inSource2Adm,word2vec_model, vector_size ))\n",
    "    \n",
    "    #inSource2Dis = \"盆腔结缔组织良性肿瘤\"#1\n",
    "    #inSource2Adm = \"查体发现盆腔包块4天。T36.8℃，P80次/分，R20次/分，BP130/80mmHg。肿瘤，心界无扩大，心音有力，律齐，心率80次/分，各瓣膜区未闻及病理性杂音。腹胀，无压痛、无反跳痛，肝脾肋下未及，全腹无明显肿块，双肾区未及明显叩击痛，无移动性浊音，肠鸣音正常。脊柱无畸形，四肢无畸形，无浮肿。膝腱反射正常，巴氏征：未引出。外阴发育正常，阴道通畅，分泌物少，宫颈萎缩，宫体后位，萎缩，无压痛，左后方可扪及大小约5*3cm大小包块，活动度可，双侧附件区未触及明显包块及压痛。查体发现盆腔包块4天。\"\n",
    "    #inListKey.append(doPrepareSourceDiseaseAndAdminAve(inSource2Dis,inSource2Adm, word2vec_model, vector_size ))\n",
    "    savePath  = \"datasets/w2v_rf_model2\"\n",
    "    rfModel = RandomForestModel.load(sc, savePath)\n",
    "    res = RFPredict(rfModel, inListKey)\n",
    "\n",
    "testRFSource()"
   ]
  },
  {
   "cell_type": "code",
   "execution_count": null,
   "metadata": {
    "collapsed": true
   },
   "outputs": [],
   "source": []
  },
  {
   "cell_type": "markdown",
   "metadata": {},
   "source": [
    "#### 输入关键字字符串，输出向量"
   ]
  },
  {
   "cell_type": "code",
   "execution_count": 23,
   "metadata": {
    "collapsed": true
   },
   "outputs": [],
   "source": [
    "def key2vector(inStr ,word2vec_model,vector_size):\n",
    "    inStrArr = inStr.strip().split(\" \")\n",
    "    dis = inStrArr[0]\n",
    "    admin = \" \".join(inStrArr[1:])\n",
    "    #print(admin)\n",
    "    disVec = keyWord2Vec(dis,word2vec_model,vector_size)\n",
    "    adminVec = keyWord2Vec(admin,word2vec_model,vector_size)\n",
    "    vecRow = (disVec + adminVec)*1.0/2 \n",
    "    return vecRow"
   ]
  },
  {
   "cell_type": "markdown",
   "metadata": {},
   "source": [
    "#### 输入测试样本和测试标签，输出测试集合准确率"
   ]
  },
  {
   "cell_type": "code",
   "execution_count": null,
   "metadata": {
    "collapsed": false
   },
   "outputs": [
    {
     "name": "stdout",
     "output_type": "stream",
     "text": [
      "预测准确的样本数量为: 7981\n",
      "总的样本数量为： 10141\n",
      "测试集合准确率为： 0.787003254116951\n"
     ]
    }
   ],
   "source": [
    "def testFileAccuracy(testPath, testLabel, word2vec_model, vector_size, rfModel):\n",
    "    featureList = list(open(testPath,\"r\").readlines())\n",
    "    labelList = list(open(testLabel, \"r\").readlines())\n",
    "    \n",
    "    featureVec = [key2vector(item ,word2vec_model, vector_size) for item in featureList]\n",
    "    inRDD = sc.parallelize(np.array(featureVec))\n",
    "    predict = rfModel.predict(inRDD)\n",
    "    predict_label = predict.collect()\n",
    "    predict_ = [str(int(item)).strip() for item in predict_label]\n",
    "    label_ = [labelList[i].strip() for i in range(len(labelList)) ]\n",
    "    #计算预测正确的数量\n",
    "\n",
    "    res = [i for i in range(len(label_)) if label_[i]==predict_[i]]\n",
    "    print(\"预测准确的样本数量为:\" ,len(res))\n",
    "    print(\"总的样本数量为：\" ,len(label_))\n",
    "    print(\"测试集合准确率为：\" ,len(res)*1.0/len(label_))\n",
    "    return predict_label\n",
    "vector_size = 100\n",
    "modelName = \"model/word2VecModelsh.bin10_100_1e-05_15\"\n",
    "savePath  = \"datasets/w2v_rf_model2\"\n",
    "\n",
    "word2vec_model = Word2Vec.load(modelName)   \n",
    "rfModel = RandomForestModel.load(sc, savePath)\n",
    "\n",
    "testPath = \"cnnModel/datasets/test.feature\"\n",
    "testLabel = \"cnnModel/datasets/test.label\"\n",
    "predict_label = testFileAccuracy(testPath, testLabel, word2vec_model, vector_size, rfModel)"
   ]
  },
  {
   "cell_type": "markdown",
   "metadata": {},
   "source": [
    "### 针对不同的word2vec模型，训练随机森林模型 "
   ]
  },
  {
   "cell_type": "code",
   "execution_count": null,
   "metadata": {
    "collapsed": false
   },
   "outputs": [
    {
     "name": "stdout",
     "output_type": "stream",
     "text": [
      "../icd10/model/word2VecModelsh.bin5_100_1e-05_10\n",
      "RandomForest Classifier trained in 4.351 seconds\n",
      "Test Accuracy = 0.8885027799841144\n",
      "kappa_score =  0.873410366902\n",
      "Print classificatioin report:\n",
      "             precision    recall  f1-score   support\n",
      "\n",
      "        0.0       1.00      0.98      0.99       611\n",
      "        1.0       0.99      1.00      1.00      1527\n",
      "        2.0       0.00      0.00      0.00        98\n",
      "        3.0       0.00      0.00      0.00       247\n",
      "        4.0       0.00      0.00      0.00        28\n",
      "        5.0       1.00      0.98      0.99       341\n",
      "        6.0       1.00      0.91      0.95       323\n",
      "        7.0       0.00      0.00      0.00        48\n",
      "        8.0       0.88      0.99      0.93      2294\n",
      "        9.0       0.93      0.86      0.89       497\n",
      "       10.0       0.61      0.98      0.75      1052\n",
      "       11.0       0.00      0.00      0.00       107\n",
      "       12.0       0.97      0.98      0.97       313\n",
      "       13.0       0.92      0.93      0.93       599\n",
      "       14.0       0.94      0.99      0.97       464\n",
      "       15.0       0.00      0.00      0.00        87\n",
      "       16.0       0.00      0.00      0.00        84\n",
      "       17.0       0.93      0.72      0.81       563\n",
      "       18.0       1.00      0.94      0.97       301\n",
      "       19.0       0.00      0.00      0.00         2\n",
      "       20.0       1.00      0.94      0.97       486\n",
      "\n",
      "avg / total       0.85      0.89      0.86     10072\n",
      "\n",
      "Confusion matrix:\n",
      "596   0     0     0     0     0     0     0     9     0     6     0     0     0     0     0     0     0     0     0     0     \n",
      "0     1521  0     0     0     0     0     0     0     0     5     0     0     1     0     0     0     0     0     0     0     \n",
      "0     1     0     0     0     0     0     0     20    23    54    0     0     0     0     0     0     0     0     0     0     \n",
      "0     1     0     0     0     0     0     0     84    0     146   0     0     12    0     0     0     4     0     0     0     \n",
      "0     0     0     0     0     0     0     0     27    0     1     0     0     0     0     0     0     0     0     0     0     \n",
      "0     1     0     0     0     333   0     0     6     0     1     0     0     0     0     0     0     0     0     0     0     \n",
      "0     1     0     0     0     0     294   0     10    0     12    0     0     6     0     0     0     0     0     0     0     \n",
      "0     0     0     0     0     0     0     0     2     0     44    0     0     0     2     0     0     0     0     0     0     \n",
      "0     0     0     0     0     0     0     0     2276  0     18    0     0     0     0     0     0     0     0     0     0     \n",
      "0     1     0     0     0     0     0     0     47    426   22    0     0     0     0     0     0     1     0     0     0     \n",
      "0     1     0     0     0     0     0     0     21    1     1029  0     0     0     0     0     0     0     0     0     0     \n",
      "0     0     0     0     0     0     0     0     29    2     57    0     0     5     0     0     0     14    0     0     0     \n",
      "0     0     0     0     0     0     0     0     2     0     2     0     308   0     0     0     0     1     0     0     0     \n",
      "0     0     0     0     0     0     0     0     3     0     12    0     0     559   25    0     0     0     0     0     0     \n",
      "0     0     0     0     0     0     0     0     0     0     3     0     0     1     460   0     0     0     0     0     0     \n",
      "0     0     0     0     0     0     0     0     3     0     83    0     0     0     1     0     0     0     0     0     0     \n",
      "0     0     0     0     0     0     0     0     1     0     60    0     11    3     0     0     0     9     0     0     0     \n",
      "0     0     0     0     0     0     0     0     52    1     97    0     0     8     0     0     0     405   0     0     0     \n",
      "0     0     0     0     0     0     1     0     1     3     11    0     0     2     0     0     0     0     283   0     0     \n",
      "0     0     0     0     0     0     0     0     2     0     0     0     0     0     0     0     0     0     0     0     0     \n",
      "0     2     0     0     0     0     0     0     0     0     14    0     0     11    0     0     0     0     0     0     459   \n",
      "Print precisiion recall and F1-SCORE\n"
     ]
    },
    {
     "name": "stderr",
     "output_type": "stream",
     "text": [
      "/opt/anaconda3/lib/python3.5/site-packages/sklearn/metrics/classification.py:1074: UndefinedMetricWarning: Precision and F-score are ill-defined and being set to 0.0 in labels with no predicted samples.\n",
      "  'precision', 'predicted', average, warn_for)\n"
     ]
    },
    {
     "data": {
      "image/png": "[encoded data removed]",
      "text/plain": [
       "<matplotlib.figure.Figure at 0x7fc13f786438>"
      ]
     },
     "metadata": {},
     "output_type": "display_data"
    },
    {
     "name": "stdout",
     "output_type": "stream",
     "text": [
      "../icd10/model/word2VecModelsn.bin5_100_1e-05_10\n",
      "RandomForest Classifier trained in 4.009 seconds\n",
      "Test Accuracy = 0.8667593328038126\n",
      "kappa_score =  0.84975044953\n",
      "Print classificatioin report:\n",
      "             precision    recall  f1-score   support\n",
      "\n",
      "        0.0       0.99      0.92      0.95       611\n",
      "        1.0       1.00      0.99      0.99      1527\n",
      "        2.0       1.00      0.17      0.30        98\n",
      "        3.0       1.00      0.34      0.51       247\n",
      "        4.0       0.00      0.00      0.00        28\n",
      "        5.0       1.00      0.71      0.83       341\n",
      "        6.0       1.00      0.74      0.85       323\n",
      "        7.0       0.00      0.00      0.00        48\n",
      "        8.0       0.97      1.00      0.98      2294\n",
      "        9.0       1.00      0.51      0.68       497\n",
      "       10.0       0.87      0.99      0.93      1052\n",
      "       11.0       0.00      0.00      0.00       107\n",
      "       12.0       0.98      0.90      0.94       313\n",
      "       13.0       0.47      1.00      0.64       599\n",
      "       14.0       1.00      0.98      0.99       464\n",
      "       15.0       1.00      0.80      0.89        87\n",
      "       16.0       0.00      0.00      0.00        84\n",
      "       17.0       0.57      0.94      0.71       563\n",
      "       18.0       1.00      0.39      0.56       301\n",
      "       19.0       0.00      0.00      0.00         2\n",
      "       20.0       0.96      0.91      0.94       486\n",
      "\n",
      "avg / total       0.89      0.87      0.85     10072\n",
      "\n",
      "Confusion matrix:\n",
      "560   0     0     0     0     0     0     0     0     0     22    0     0     27    0     0     0     2     0     0     0     \n",
      "0     1509  0     0     0     0     0     0     1     0     0     0     0     17    0     0     0     0     0     0     0     \n",
      "0     5     17    0     0     0     0     0     6     0     43    0     0     1     1     0     0     24    0     0     1     \n",
      "0     0     0     85    0     0     0     0     11    0     8     0     0     115   0     0     0     20    0     0     8     \n",
      "0     0     0     0     0     0     0     0     15    0     0     0     0     13    0     0     0     0     0     0     0     \n",
      "0     0     0     0     0     243   0     0     2     0     0     0     0     2     0     0     0     94    0     0     0     \n",
      "0     0     0     0     0     0     240   0     5     0     2     0     0     69    0     0     0     6     0     0     1     \n",
      "1     0     0     0     0     0     0     0     0     1     0     0     0     27    0     0     0     19    0     0     0     \n",
      "0     0     0     0     0     0     0     0     2283  0     0     0     0     3     0     0     0     8     0     0     0     \n",
      "0     0     0     0     0     0     0     0     13    254   1     0     0     78    0     0     0     151   0     0     0     \n",
      "0     0     0     0     0     0     0     0     0     0     1043  0     0     7     0     0     0     2     0     0     0     \n",
      "2     0     0     0     0     0     0     0     1     0     17    0     6     31    0     0     0     50    0     0     0     \n",
      "0     0     0     0     0     0     0     0     2     0     0     0     283   18    0     0     0     9     0     0     1     \n",
      "0     0     0     0     0     0     0     0     1     0     0     0     0     598   0     0     0     0     0     0     0     \n",
      "0     0     0     0     0     0     0     0     0     0     0     0     0     10    453   0     0     1     0     0     0     \n",
      "0     0     0     0     0     0     0     0     0     0     10    0     0     5     0     70    0     2     0     0     0     \n",
      "4     0     0     0     0     0     0     0     0     0     34    0     0     32    0     0     0     14    0     0     0     \n",
      "0     0     0     0     0     0     0     0     10    0     3     0     0     19    0     0     0     531   0     0     0     \n",
      "0     0     0     0     0     0     0     0     3     0     10    0     0     162   0     0     0     1     118   0     7     \n",
      "0     0     0     0     0     0     0     0     0     0     0     0     0     2     0     0     0     0     0     0     0     \n",
      "0     1     0     0     0     0     0     0     0     0     8     0     0     32    1     0     0     1     0     0     443   \n",
      "Print precisiion recall and F1-SCORE\n"
     ]
    },
    {
     "data": {
      "image/png": "[encoded data removed]",
      "text/plain": [
       "<matplotlib.figure.Figure at 0x7fc13abacb38>"
      ]
     },
     "metadata": {},
     "output_type": "display_data"
    },
    {
     "name": "stdout",
     "output_type": "stream",
     "text": [
      "../icd10/model/word2VecModelsh.bin5_100_1e-05_15\n",
      "RandomForest Classifier trained in 3.404 seconds\n",
      "Test Accuracy = 0.8411437648927721\n",
      "kappa_score =  0.817099027736\n",
      "Print classificatioin report:\n",
      "             precision    recall  f1-score   support\n",
      "\n",
      "        0.0       1.00      0.91      0.95       611\n",
      "        1.0       0.98      0.99      0.99      1527\n",
      "        2.0       0.00      0.00      0.00        98\n",
      "        3.0       0.00      0.00      0.00       247\n",
      "        4.0       0.00      0.00      0.00        28\n",
      "        5.0       1.00      0.94      0.97       341\n",
      "        6.0       0.98      0.95      0.97       323\n",
      "        7.0       0.00      0.00      0.00        48\n",
      "        8.0       0.68      1.00      0.81      2294\n",
      "        9.0       0.98      0.61      0.75       497\n",
      "       10.0       0.72      0.95      0.82      1052\n",
      "       11.0       0.00      0.00      0.00       107\n",
      "       12.0       1.00      0.73      0.85       313\n",
      "       13.0       0.90      0.93      0.91       599\n",
      "       14.0       0.92      0.99      0.95       464\n",
      "       15.0       0.00      0.00      0.00        87\n",
      "       16.0       0.00      0.00      0.00        84\n",
      "       17.0       1.00      0.51      0.67       563\n",
      "       18.0       1.00      0.72      0.84       301\n",
      "       19.0       0.00      0.00      0.00         2\n",
      "       20.0       1.00      0.90      0.95       486\n",
      "\n",
      "avg / total       0.81      0.84      0.81     10072\n",
      "\n",
      "Confusion matrix:\n",
      "556   0     0     0     0     0     0     0     40    0     15    0     0     0     0     0     0     0     0     0     0     \n",
      "0     1514  0     0     0     0     0     0     7     0     3     0     0     3     0     0     0     0     0     0     0     \n",
      "0     1     0     0     0     0     0     0     19    0     70    0     0     8     0     0     0     0     0     0     0     \n",
      "0     8     0     0     0     0     0     0     208   6     25    0     0     0     0     0     0     0     0     0     0     \n",
      "0     0     0     0     0     0     0     0     26    0     2     0     0     0     0     0     0     0     0     0     0     \n",
      "0     0     0     0     0     321   0     0     17    0     3     0     0     0     0     0     0     0     0     0     0     \n",
      "0     0     0     0     0     0     306   0     17    0     0     0     0     0     0     0     0     0     0     0     0     \n",
      "0     0     0     0     0     0     0     0     30    0     18    0     0     0     0     0     0     0     0     0     0     \n",
      "0     0     0     0     0     0     0     0     2291  0     3     0     0     0     0     0     0     0     0     0     0     \n",
      "0     5     0     0     0     0     0     0     172   304   15    0     0     0     0     0     0     1     0     0     0     \n",
      "0     7     0     0     0     0     0     0     50    0     995   0     0     0     0     0     0     0     0     0     0     \n",
      "0     0     0     0     0     0     0     0     89    0     18    0     0     0     0     0     0     0     0     0     0     \n",
      "0     0     0     0     0     0     0     0     83    0     1     0     229   0     0     0     0     0     0     0     0     \n",
      "0     1     0     0     0     0     0     0     3     0     5     0     0     557   33    0     0     0     0     0     0     \n",
      "0     0     0     0     0     0     0     0     2     0     0     0     0     1     461   0     0     0     0     0     0     \n",
      "0     0     0     0     0     0     0     0     14    0     63    0     0     3     7     0     0     0     0     0     0     \n",
      "0     0     0     0     0     0     0     0     5     0     49    0     0     30    0     0     0     0     0     0     0     \n",
      "0     2     0     0     0     0     0     0     209   0     46    0     0     20    1     0     0     285   0     0     0     \n",
      "0     0     0     0     0     0     0     0     46    0     38    0     0     0     0     0     0     0     217   0     0     \n",
      "0     0     0     0     0     0     0     0     1     0     1     0     0     0     0     0     0     0     0     0     0     \n",
      "0     1     0     0     0     0     5     0     35    0     8     0     0     0     1     0     0     0     0     0     436   \n",
      "Print precisiion recall and F1-SCORE\n"
     ]
    },
    {
     "data": {
      "image/png": "[encoded data removed]",
      "text/plain": [
       "<matplotlib.figure.Figure at 0x7fc14476dc88>"
      ]
     },
     "metadata": {},
     "output_type": "display_data"
    },
    {
     "name": "stdout",
     "output_type": "stream",
     "text": [
      "../icd10/model/word2VecModelsn.bin5_100_1e-05_15\n"
     ]
    }
   ],
   "source": [
    "def testW2VRFresult(x_disease_trainAll, x_admin_trainAll, y_trainAll,x_disease_testAll,x_admin_testAll,y_testAll):\n",
    "    window_size=5 ;negative=5 ;sample = 1e-6 ;iterNum = 10;vector_size=100;\n",
    "    index = 0 \n",
    "    model_dir = \"../icd10/model/\"\n",
    "    #for window in range(7,10):\n",
    "    for window in [ 5,10, 15,3]:\n",
    "        index=0\n",
    "        for vector_size in [ 100, 200, 100 ]:\n",
    "            for sample in [ 1e-5, 1e-6]:\n",
    "                for negative in [ 10 , 15]:\n",
    "                    modelIndex = str(window)+\"_\"+str(vector_size)+\"_\"+str(sample)+\"_\"+str(negative)\n",
    "                    for name in [\"word2VecModelsh.bin\",\"word2VecModelsn.bin\"]:#,\"word2VecModelch.bin\",\"word2VecModelcn.bin\"]:\n",
    "                        modelName =model_dir +  name + modelIndex\n",
    "                        word2vec_model = Word2Vec.load(modelName)    \n",
    "                        trainRDD = datasetsFormatAve(x_disease_trainAll, x_admin_trainAll, y_trainAll, word2vec_model, vector_size)\n",
    "                        testRDD = datasetsFormatAve(x_disease_testAll,x_admin_testAll,y_testAll, word2vec_model,vector_size)\n",
    "                        #trainRDD, testRDD = datasetsFormatAll(x_trainAll, x_testAll, y_trainAll, y_testAll, word2vec_model)\n",
    "                        print(modelName)\n",
    "                        savePath=\"\"\n",
    "                        rfModel = doRFrain(trainRDD, testRDD,savePath)\n",
    "#disease + admin keyword ，word2vec averange , rf classify\n",
    "testW2VRFresult(x_disease_trainAll, x_admin_trainAll, y_trainAll, x_disease_testAll,x_admin_testAll,y_testAll)  \n",
    "#disease\n",
    "#testW2VRFresult(x_disease_trainAll, \"\", y_trainAll, x_disease_testAll,\"\",y_testAll)                                                                                       "
   ]
  },
  {
   "cell_type": "code",
   "execution_count": null,
   "metadata": {
    "collapsed": true
   },
   "outputs": [],
   "source": []
  },
  {
   "cell_type": "code",
   "execution_count": null,
   "metadata": {
    "collapsed": true
   },
   "outputs": [],
   "source": []
  }
 ],
 "metadata": {
  "anaconda-cloud": {},
  "kernelspec": {
   "display_name": "Python [default]",
   "language": "python",
   "name": "python3"
  },
  "language_info": {
   "codemirror_mode": {
    "name": "ipython",
    "version": 3
   },
   "file_extension": ".py",
   "mimetype": "text/x-python",
   "name": "python",
   "nbconvert_exporter": "python",
   "pygments_lexer": "ipython3",
   "version": "3.5.2"
  }
 },
 "nbformat": 4,
 "nbformat_minor": 1
}
